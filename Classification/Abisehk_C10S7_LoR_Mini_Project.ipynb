{
  "nbformat": 4,
  "nbformat_minor": 0,
  "metadata": {
    "colab": {
      "provenance": [],
      "collapsed_sections": [
        "5SMrFAuDzyXE"
      ]
    },
    "kernelspec": {
      "name": "python3",
      "display_name": "Python 3"
    },
    "language_info": {
      "name": "python"
    }
  },
  "cells": [
    {
      "cell_type": "code",
      "execution_count": 1,
      "metadata": {
        "id": "7Ed0G33bayVd",
        "colab": {
          "base_uri": "https://localhost:8080/"
        },
        "outputId": "2b0ddfe9-0c3f-48bc-f12f-8821d7781867"
      },
      "outputs": [
        {
          "output_type": "stream",
          "name": "stdout",
          "text": [
            "Drive already mounted at /content/drive; to attempt to forcibly remount, call drive.mount(\"/content/drive\", force_remount=True).\n"
          ]
        }
      ],
      "source": [
        "# Mounting the drive\n",
        "\n",
        "from google.colab import drive\n",
        "drive.mount('/content/drive')"
      ]
    },
    {
      "cell_type": "markdown",
      "source": [
        "# **S6_Mini_Project(LoR)**\n",
        "\n",
        "## **Project_Title :  Classification – House Grade**"
      ],
      "metadata": {
        "id": "Q_ZeDyBxclCl"
      }
    },
    {
      "cell_type": "markdown",
      "source": [
        "**Importing Libraries**"
      ],
      "metadata": {
        "id": "sHTaOZwNdFfI"
      }
    },
    {
      "cell_type": "code",
      "source": [
        "# For Numerical and Statistical Computations\n",
        "\n",
        "import numpy as np\n",
        "import pandas as pd\n",
        "\n",
        "# For Visulizations\n",
        "\n",
        "import matplotlib.pyplot as plt\n",
        "import seaborn as sb\n",
        "\n",
        "# For Scaling, Encoder and Splitting from Sci-Kit\n",
        "\n",
        "from sklearn.preprocessing import StandardScaler, LabelEncoder\n",
        "from sklearn.model_selection import train_test_split\n",
        "\n",
        "# For Calculating performance\n",
        "\n",
        "from sklearn.metrics import accuracy_score, recall_score, precision_score, f1_score\n",
        "from sklearn.metrics import classification_report, confusion_matrix\n",
        "\n",
        "# Warnings\n",
        "\n",
        "import warnings\n",
        "warnings.filterwarnings('ignore')"
      ],
      "metadata": {
        "id": "g98Y_3cQchkp"
      },
      "execution_count": 2,
      "outputs": []
    },
    {
      "cell_type": "markdown",
      "source": [
        "**Loading Data**"
      ],
      "metadata": {
        "id": "-QAwt96rd_3W"
      }
    },
    {
      "cell_type": "code",
      "source": [
        "# Loading the data\n",
        "\n",
        "df = pd.read_csv('/content/drive/MyDrive/Colab Notebooks/DATASETS/DS3_C6_S2_Classification_HouseGrade_Data_Project.csv')\n",
        "\n",
        "# Copy of the data\n",
        "\n",
        "df_copy = df.copy()"
      ],
      "metadata": {
        "id": "7FPhspRzdavH"
      },
      "execution_count": 3,
      "outputs": []
    },
    {
      "cell_type": "markdown",
      "source": [
        "**Data Understanding**"
      ],
      "metadata": {
        "id": "M-lxh9CwebIa"
      }
    },
    {
      "cell_type": "code",
      "source": [
        "# Preview of the data\n",
        "\n",
        "df.head()"
      ],
      "metadata": {
        "colab": {
          "base_uri": "https://localhost:8080/",
          "height": 206
        },
        "collapsed": true,
        "id": "DQVWaE1meZy5",
        "outputId": "0e494b72-9b14-4a75-ea9e-fcd4d1862d9e"
      },
      "execution_count": 4,
      "outputs": [
        {
          "output_type": "execute_result",
          "data": {
            "text/plain": [
              "   Id  Area(total)  Trooms  Nbedrooms  Nbwashrooms  Twashrooms roof  \\\n",
              "0   1          339       6          5            4           6   NO   \n",
              "1   2          358       5          4            3           4  YES   \n",
              "2   3          324       7          5            4           5  YES   \n",
              "3   4          330       6          4            3           5  YES   \n",
              "4   5          320       7          4            4           5   NO   \n",
              "\n",
              "   Roof(Area)  Lawn(Area)  Nfloors  API  ANB  Expected price Grade  \n",
              "0           0          76        2   79    6            3481     D  \n",
              "1          71          96        3   72    4            3510     D  \n",
              "2         101         117        5   64    3            3748     C  \n",
              "3         101          82        2   59    2            3134     D  \n",
              "4           0          75        3   40    1            3843     D  "
            ],
            "text/html": [
              "\n",
              "  <div id=\"df-649d3439-7c95-4175-b24c-cf6e12f34aea\">\n",
              "    <div class=\"colab-df-container\">\n",
              "      <div>\n",
              "<style scoped>\n",
              "    .dataframe tbody tr th:only-of-type {\n",
              "        vertical-align: middle;\n",
              "    }\n",
              "\n",
              "    .dataframe tbody tr th {\n",
              "        vertical-align: top;\n",
              "    }\n",
              "\n",
              "    .dataframe thead th {\n",
              "        text-align: right;\n",
              "    }\n",
              "</style>\n",
              "<table border=\"1\" class=\"dataframe\">\n",
              "  <thead>\n",
              "    <tr style=\"text-align: right;\">\n",
              "      <th></th>\n",
              "      <th>Id</th>\n",
              "      <th>Area(total)</th>\n",
              "      <th>Trooms</th>\n",
              "      <th>Nbedrooms</th>\n",
              "      <th>Nbwashrooms</th>\n",
              "      <th>Twashrooms</th>\n",
              "      <th>roof</th>\n",
              "      <th>Roof(Area)</th>\n",
              "      <th>Lawn(Area)</th>\n",
              "      <th>Nfloors</th>\n",
              "      <th>API</th>\n",
              "      <th>ANB</th>\n",
              "      <th>Expected price</th>\n",
              "      <th>Grade</th>\n",
              "    </tr>\n",
              "  </thead>\n",
              "  <tbody>\n",
              "    <tr>\n",
              "      <th>0</th>\n",
              "      <td>1</td>\n",
              "      <td>339</td>\n",
              "      <td>6</td>\n",
              "      <td>5</td>\n",
              "      <td>4</td>\n",
              "      <td>6</td>\n",
              "      <td>NO</td>\n",
              "      <td>0</td>\n",
              "      <td>76</td>\n",
              "      <td>2</td>\n",
              "      <td>79</td>\n",
              "      <td>6</td>\n",
              "      <td>3481</td>\n",
              "      <td>D</td>\n",
              "    </tr>\n",
              "    <tr>\n",
              "      <th>1</th>\n",
              "      <td>2</td>\n",
              "      <td>358</td>\n",
              "      <td>5</td>\n",
              "      <td>4</td>\n",
              "      <td>3</td>\n",
              "      <td>4</td>\n",
              "      <td>YES</td>\n",
              "      <td>71</td>\n",
              "      <td>96</td>\n",
              "      <td>3</td>\n",
              "      <td>72</td>\n",
              "      <td>4</td>\n",
              "      <td>3510</td>\n",
              "      <td>D</td>\n",
              "    </tr>\n",
              "    <tr>\n",
              "      <th>2</th>\n",
              "      <td>3</td>\n",
              "      <td>324</td>\n",
              "      <td>7</td>\n",
              "      <td>5</td>\n",
              "      <td>4</td>\n",
              "      <td>5</td>\n",
              "      <td>YES</td>\n",
              "      <td>101</td>\n",
              "      <td>117</td>\n",
              "      <td>5</td>\n",
              "      <td>64</td>\n",
              "      <td>3</td>\n",
              "      <td>3748</td>\n",
              "      <td>C</td>\n",
              "    </tr>\n",
              "    <tr>\n",
              "      <th>3</th>\n",
              "      <td>4</td>\n",
              "      <td>330</td>\n",
              "      <td>6</td>\n",
              "      <td>4</td>\n",
              "      <td>3</td>\n",
              "      <td>5</td>\n",
              "      <td>YES</td>\n",
              "      <td>101</td>\n",
              "      <td>82</td>\n",
              "      <td>2</td>\n",
              "      <td>59</td>\n",
              "      <td>2</td>\n",
              "      <td>3134</td>\n",
              "      <td>D</td>\n",
              "    </tr>\n",
              "    <tr>\n",
              "      <th>4</th>\n",
              "      <td>5</td>\n",
              "      <td>320</td>\n",
              "      <td>7</td>\n",
              "      <td>4</td>\n",
              "      <td>4</td>\n",
              "      <td>5</td>\n",
              "      <td>NO</td>\n",
              "      <td>0</td>\n",
              "      <td>75</td>\n",
              "      <td>3</td>\n",
              "      <td>40</td>\n",
              "      <td>1</td>\n",
              "      <td>3843</td>\n",
              "      <td>D</td>\n",
              "    </tr>\n",
              "  </tbody>\n",
              "</table>\n",
              "</div>\n",
              "      <button class=\"colab-df-convert\" onclick=\"convertToInteractive('df-649d3439-7c95-4175-b24c-cf6e12f34aea')\"\n",
              "              title=\"Convert this dataframe to an interactive table.\"\n",
              "              style=\"display:none;\">\n",
              "        \n",
              "  <svg xmlns=\"http://www.w3.org/2000/svg\" height=\"24px\"viewBox=\"0 0 24 24\"\n",
              "       width=\"24px\">\n",
              "    <path d=\"M0 0h24v24H0V0z\" fill=\"none\"/>\n",
              "    <path d=\"M18.56 5.44l.94 2.06.94-2.06 2.06-.94-2.06-.94-.94-2.06-.94 2.06-2.06.94zm-11 1L8.5 8.5l.94-2.06 2.06-.94-2.06-.94L8.5 2.5l-.94 2.06-2.06.94zm10 10l.94 2.06.94-2.06 2.06-.94-2.06-.94-.94-2.06-.94 2.06-2.06.94z\"/><path d=\"M17.41 7.96l-1.37-1.37c-.4-.4-.92-.59-1.43-.59-.52 0-1.04.2-1.43.59L10.3 9.45l-7.72 7.72c-.78.78-.78 2.05 0 2.83L4 21.41c.39.39.9.59 1.41.59.51 0 1.02-.2 1.41-.59l7.78-7.78 2.81-2.81c.8-.78.8-2.07 0-2.86zM5.41 20L4 18.59l7.72-7.72 1.47 1.35L5.41 20z\"/>\n",
              "  </svg>\n",
              "      </button>\n",
              "      \n",
              "  <style>\n",
              "    .colab-df-container {\n",
              "      display:flex;\n",
              "      flex-wrap:wrap;\n",
              "      gap: 12px;\n",
              "    }\n",
              "\n",
              "    .colab-df-convert {\n",
              "      background-color: #E8F0FE;\n",
              "      border: none;\n",
              "      border-radius: 50%;\n",
              "      cursor: pointer;\n",
              "      display: none;\n",
              "      fill: #1967D2;\n",
              "      height: 32px;\n",
              "      padding: 0 0 0 0;\n",
              "      width: 32px;\n",
              "    }\n",
              "\n",
              "    .colab-df-convert:hover {\n",
              "      background-color: #E2EBFA;\n",
              "      box-shadow: 0px 1px 2px rgba(60, 64, 67, 0.3), 0px 1px 3px 1px rgba(60, 64, 67, 0.15);\n",
              "      fill: #174EA6;\n",
              "    }\n",
              "\n",
              "    [theme=dark] .colab-df-convert {\n",
              "      background-color: #3B4455;\n",
              "      fill: #D2E3FC;\n",
              "    }\n",
              "\n",
              "    [theme=dark] .colab-df-convert:hover {\n",
              "      background-color: #434B5C;\n",
              "      box-shadow: 0px 1px 3px 1px rgba(0, 0, 0, 0.15);\n",
              "      filter: drop-shadow(0px 1px 2px rgba(0, 0, 0, 0.3));\n",
              "      fill: #FFFFFF;\n",
              "    }\n",
              "  </style>\n",
              "\n",
              "      <script>\n",
              "        const buttonEl =\n",
              "          document.querySelector('#df-649d3439-7c95-4175-b24c-cf6e12f34aea button.colab-df-convert');\n",
              "        buttonEl.style.display =\n",
              "          google.colab.kernel.accessAllowed ? 'block' : 'none';\n",
              "\n",
              "        async function convertToInteractive(key) {\n",
              "          const element = document.querySelector('#df-649d3439-7c95-4175-b24c-cf6e12f34aea');\n",
              "          const dataTable =\n",
              "            await google.colab.kernel.invokeFunction('convertToInteractive',\n",
              "                                                     [key], {});\n",
              "          if (!dataTable) return;\n",
              "\n",
              "          const docLinkHtml = 'Like what you see? Visit the ' +\n",
              "            '<a target=\"_blank\" href=https://colab.research.google.com/notebooks/data_table.ipynb>data table notebook</a>'\n",
              "            + ' to learn more about interactive tables.';\n",
              "          element.innerHTML = '';\n",
              "          dataTable['output_type'] = 'display_data';\n",
              "          await google.colab.output.renderOutput(dataTable, element);\n",
              "          const docLink = document.createElement('div');\n",
              "          docLink.innerHTML = docLinkHtml;\n",
              "          element.appendChild(docLink);\n",
              "        }\n",
              "      </script>\n",
              "    </div>\n",
              "  </div>\n",
              "  "
            ]
          },
          "metadata": {},
          "execution_count": 4
        }
      ]
    },
    {
      "cell_type": "code",
      "source": [
        "# Shape of the data\n",
        "\n",
        "print(f\"Structure \\n\\nRows : {df.shape[0]} and Columns : {df.shape[1]}\")"
      ],
      "metadata": {
        "colab": {
          "base_uri": "https://localhost:8080/"
        },
        "collapsed": true,
        "id": "XEXd5-SXejEN",
        "outputId": "3b8f63ca-a337-403b-b8a5-862da1c03b7e"
      },
      "execution_count": 5,
      "outputs": [
        {
          "output_type": "stream",
          "name": "stdout",
          "text": [
            "Structure \n",
            "\n",
            "Rows : 3000 and Columns : 14\n"
          ]
        }
      ]
    },
    {
      "cell_type": "code",
      "source": [
        "# Datatypes info\n",
        "\n",
        "df.info()"
      ],
      "metadata": {
        "colab": {
          "base_uri": "https://localhost:8080/"
        },
        "collapsed": true,
        "id": "Mp1uIJovekpN",
        "outputId": "77f0fa2c-f66a-488b-f406-2dbea3f7d59d"
      },
      "execution_count": 6,
      "outputs": [
        {
          "output_type": "stream",
          "name": "stdout",
          "text": [
            "<class 'pandas.core.frame.DataFrame'>\n",
            "RangeIndex: 3000 entries, 0 to 2999\n",
            "Data columns (total 14 columns):\n",
            " #   Column          Non-Null Count  Dtype \n",
            "---  ------          --------------  ----- \n",
            " 0   Id              3000 non-null   int64 \n",
            " 1   Area(total)     3000 non-null   int64 \n",
            " 2   Trooms          3000 non-null   int64 \n",
            " 3   Nbedrooms       3000 non-null   int64 \n",
            " 4   Nbwashrooms     3000 non-null   int64 \n",
            " 5   Twashrooms      3000 non-null   int64 \n",
            " 6   roof            3000 non-null   object\n",
            " 7   Roof(Area)      3000 non-null   int64 \n",
            " 8   Lawn(Area)      3000 non-null   int64 \n",
            " 9   Nfloors         3000 non-null   int64 \n",
            " 10  API             3000 non-null   int64 \n",
            " 11  ANB             3000 non-null   int64 \n",
            " 12  Expected price  3000 non-null   int64 \n",
            " 13  Grade           3000 non-null   object\n",
            "dtypes: int64(12), object(2)\n",
            "memory usage: 328.2+ KB\n"
          ]
        }
      ]
    },
    {
      "cell_type": "code",
      "source": [
        "# Descriptive analysis\n",
        "\n",
        "df.describe().T"
      ],
      "metadata": {
        "colab": {
          "base_uri": "https://localhost:8080/",
          "height": 425
        },
        "collapsed": true,
        "id": "db-q5OV1emEr",
        "outputId": "0a26f1bd-bc58-4ca9-fa47-5b61ccf2cc0e"
      },
      "execution_count": 7,
      "outputs": [
        {
          "output_type": "execute_result",
          "data": {
            "text/plain": [
              "                 count         mean         std     min      25%     50%  \\\n",
              "Id              3000.0  1500.500000  866.169729     1.0   750.75  1500.5   \n",
              "Area(total)     3000.0   325.117000   20.507742   290.0   308.00   325.0   \n",
              "Trooms          3000.0     7.021667    1.421221     5.0     6.00     7.0   \n",
              "Nbedrooms       3000.0     5.023000    1.634838     2.0     4.00     5.0   \n",
              "Nbwashrooms     3000.0     4.513667    1.715263     1.0     3.00     4.0   \n",
              "Twashrooms      3000.0     6.010667    1.786136     2.0     5.00     6.0   \n",
              "Roof(Area)      3000.0    48.980667   48.746641     0.0     0.00    71.0   \n",
              "Lawn(Area)      3000.0    95.609333   14.837388    70.0    83.00    96.0   \n",
              "Nfloors         3000.0     4.013333    1.621532     1.0     3.00     4.0   \n",
              "API             3000.0    70.190667   17.563460    40.0    55.00    70.0   \n",
              "ANB             3000.0     3.479000    1.694260     1.0     2.00     4.0   \n",
              "Expected price  3000.0  3782.938333  567.189995  2504.0  3354.00  3771.0   \n",
              "\n",
              "                    75%     max  \n",
              "Id              2250.25  3000.0  \n",
              "Area(total)      343.00   360.0  \n",
              "Trooms             8.00     9.0  \n",
              "Nbedrooms          6.00     8.0  \n",
              "Nbwashrooms        6.00     8.0  \n",
              "Twashrooms         7.00    10.0  \n",
              "Roof(Area)        96.00   120.0  \n",
              "Lawn(Area)       109.00   120.0  \n",
              "Nfloors            5.00     7.0  \n",
              "API               85.00   100.0  \n",
              "ANB                5.00     6.0  \n",
              "Expected price  4208.00  5216.0  "
            ],
            "text/html": [
              "\n",
              "  <div id=\"df-7ad0a1c0-a85b-476d-a66d-b3f7132e9b45\">\n",
              "    <div class=\"colab-df-container\">\n",
              "      <div>\n",
              "<style scoped>\n",
              "    .dataframe tbody tr th:only-of-type {\n",
              "        vertical-align: middle;\n",
              "    }\n",
              "\n",
              "    .dataframe tbody tr th {\n",
              "        vertical-align: top;\n",
              "    }\n",
              "\n",
              "    .dataframe thead th {\n",
              "        text-align: right;\n",
              "    }\n",
              "</style>\n",
              "<table border=\"1\" class=\"dataframe\">\n",
              "  <thead>\n",
              "    <tr style=\"text-align: right;\">\n",
              "      <th></th>\n",
              "      <th>count</th>\n",
              "      <th>mean</th>\n",
              "      <th>std</th>\n",
              "      <th>min</th>\n",
              "      <th>25%</th>\n",
              "      <th>50%</th>\n",
              "      <th>75%</th>\n",
              "      <th>max</th>\n",
              "    </tr>\n",
              "  </thead>\n",
              "  <tbody>\n",
              "    <tr>\n",
              "      <th>Id</th>\n",
              "      <td>3000.0</td>\n",
              "      <td>1500.500000</td>\n",
              "      <td>866.169729</td>\n",
              "      <td>1.0</td>\n",
              "      <td>750.75</td>\n",
              "      <td>1500.5</td>\n",
              "      <td>2250.25</td>\n",
              "      <td>3000.0</td>\n",
              "    </tr>\n",
              "    <tr>\n",
              "      <th>Area(total)</th>\n",
              "      <td>3000.0</td>\n",
              "      <td>325.117000</td>\n",
              "      <td>20.507742</td>\n",
              "      <td>290.0</td>\n",
              "      <td>308.00</td>\n",
              "      <td>325.0</td>\n",
              "      <td>343.00</td>\n",
              "      <td>360.0</td>\n",
              "    </tr>\n",
              "    <tr>\n",
              "      <th>Trooms</th>\n",
              "      <td>3000.0</td>\n",
              "      <td>7.021667</td>\n",
              "      <td>1.421221</td>\n",
              "      <td>5.0</td>\n",
              "      <td>6.00</td>\n",
              "      <td>7.0</td>\n",
              "      <td>8.00</td>\n",
              "      <td>9.0</td>\n",
              "    </tr>\n",
              "    <tr>\n",
              "      <th>Nbedrooms</th>\n",
              "      <td>3000.0</td>\n",
              "      <td>5.023000</td>\n",
              "      <td>1.634838</td>\n",
              "      <td>2.0</td>\n",
              "      <td>4.00</td>\n",
              "      <td>5.0</td>\n",
              "      <td>6.00</td>\n",
              "      <td>8.0</td>\n",
              "    </tr>\n",
              "    <tr>\n",
              "      <th>Nbwashrooms</th>\n",
              "      <td>3000.0</td>\n",
              "      <td>4.513667</td>\n",
              "      <td>1.715263</td>\n",
              "      <td>1.0</td>\n",
              "      <td>3.00</td>\n",
              "      <td>4.0</td>\n",
              "      <td>6.00</td>\n",
              "      <td>8.0</td>\n",
              "    </tr>\n",
              "    <tr>\n",
              "      <th>Twashrooms</th>\n",
              "      <td>3000.0</td>\n",
              "      <td>6.010667</td>\n",
              "      <td>1.786136</td>\n",
              "      <td>2.0</td>\n",
              "      <td>5.00</td>\n",
              "      <td>6.0</td>\n",
              "      <td>7.00</td>\n",
              "      <td>10.0</td>\n",
              "    </tr>\n",
              "    <tr>\n",
              "      <th>Roof(Area)</th>\n",
              "      <td>3000.0</td>\n",
              "      <td>48.980667</td>\n",
              "      <td>48.746641</td>\n",
              "      <td>0.0</td>\n",
              "      <td>0.00</td>\n",
              "      <td>71.0</td>\n",
              "      <td>96.00</td>\n",
              "      <td>120.0</td>\n",
              "    </tr>\n",
              "    <tr>\n",
              "      <th>Lawn(Area)</th>\n",
              "      <td>3000.0</td>\n",
              "      <td>95.609333</td>\n",
              "      <td>14.837388</td>\n",
              "      <td>70.0</td>\n",
              "      <td>83.00</td>\n",
              "      <td>96.0</td>\n",
              "      <td>109.00</td>\n",
              "      <td>120.0</td>\n",
              "    </tr>\n",
              "    <tr>\n",
              "      <th>Nfloors</th>\n",
              "      <td>3000.0</td>\n",
              "      <td>4.013333</td>\n",
              "      <td>1.621532</td>\n",
              "      <td>1.0</td>\n",
              "      <td>3.00</td>\n",
              "      <td>4.0</td>\n",
              "      <td>5.00</td>\n",
              "      <td>7.0</td>\n",
              "    </tr>\n",
              "    <tr>\n",
              "      <th>API</th>\n",
              "      <td>3000.0</td>\n",
              "      <td>70.190667</td>\n",
              "      <td>17.563460</td>\n",
              "      <td>40.0</td>\n",
              "      <td>55.00</td>\n",
              "      <td>70.0</td>\n",
              "      <td>85.00</td>\n",
              "      <td>100.0</td>\n",
              "    </tr>\n",
              "    <tr>\n",
              "      <th>ANB</th>\n",
              "      <td>3000.0</td>\n",
              "      <td>3.479000</td>\n",
              "      <td>1.694260</td>\n",
              "      <td>1.0</td>\n",
              "      <td>2.00</td>\n",
              "      <td>4.0</td>\n",
              "      <td>5.00</td>\n",
              "      <td>6.0</td>\n",
              "    </tr>\n",
              "    <tr>\n",
              "      <th>Expected price</th>\n",
              "      <td>3000.0</td>\n",
              "      <td>3782.938333</td>\n",
              "      <td>567.189995</td>\n",
              "      <td>2504.0</td>\n",
              "      <td>3354.00</td>\n",
              "      <td>3771.0</td>\n",
              "      <td>4208.00</td>\n",
              "      <td>5216.0</td>\n",
              "    </tr>\n",
              "  </tbody>\n",
              "</table>\n",
              "</div>\n",
              "      <button class=\"colab-df-convert\" onclick=\"convertToInteractive('df-7ad0a1c0-a85b-476d-a66d-b3f7132e9b45')\"\n",
              "              title=\"Convert this dataframe to an interactive table.\"\n",
              "              style=\"display:none;\">\n",
              "        \n",
              "  <svg xmlns=\"http://www.w3.org/2000/svg\" height=\"24px\"viewBox=\"0 0 24 24\"\n",
              "       width=\"24px\">\n",
              "    <path d=\"M0 0h24v24H0V0z\" fill=\"none\"/>\n",
              "    <path d=\"M18.56 5.44l.94 2.06.94-2.06 2.06-.94-2.06-.94-.94-2.06-.94 2.06-2.06.94zm-11 1L8.5 8.5l.94-2.06 2.06-.94-2.06-.94L8.5 2.5l-.94 2.06-2.06.94zm10 10l.94 2.06.94-2.06 2.06-.94-2.06-.94-.94-2.06-.94 2.06-2.06.94z\"/><path d=\"M17.41 7.96l-1.37-1.37c-.4-.4-.92-.59-1.43-.59-.52 0-1.04.2-1.43.59L10.3 9.45l-7.72 7.72c-.78.78-.78 2.05 0 2.83L4 21.41c.39.39.9.59 1.41.59.51 0 1.02-.2 1.41-.59l7.78-7.78 2.81-2.81c.8-.78.8-2.07 0-2.86zM5.41 20L4 18.59l7.72-7.72 1.47 1.35L5.41 20z\"/>\n",
              "  </svg>\n",
              "      </button>\n",
              "      \n",
              "  <style>\n",
              "    .colab-df-container {\n",
              "      display:flex;\n",
              "      flex-wrap:wrap;\n",
              "      gap: 12px;\n",
              "    }\n",
              "\n",
              "    .colab-df-convert {\n",
              "      background-color: #E8F0FE;\n",
              "      border: none;\n",
              "      border-radius: 50%;\n",
              "      cursor: pointer;\n",
              "      display: none;\n",
              "      fill: #1967D2;\n",
              "      height: 32px;\n",
              "      padding: 0 0 0 0;\n",
              "      width: 32px;\n",
              "    }\n",
              "\n",
              "    .colab-df-convert:hover {\n",
              "      background-color: #E2EBFA;\n",
              "      box-shadow: 0px 1px 2px rgba(60, 64, 67, 0.3), 0px 1px 3px 1px rgba(60, 64, 67, 0.15);\n",
              "      fill: #174EA6;\n",
              "    }\n",
              "\n",
              "    [theme=dark] .colab-df-convert {\n",
              "      background-color: #3B4455;\n",
              "      fill: #D2E3FC;\n",
              "    }\n",
              "\n",
              "    [theme=dark] .colab-df-convert:hover {\n",
              "      background-color: #434B5C;\n",
              "      box-shadow: 0px 1px 3px 1px rgba(0, 0, 0, 0.15);\n",
              "      filter: drop-shadow(0px 1px 2px rgba(0, 0, 0, 0.3));\n",
              "      fill: #FFFFFF;\n",
              "    }\n",
              "  </style>\n",
              "\n",
              "      <script>\n",
              "        const buttonEl =\n",
              "          document.querySelector('#df-7ad0a1c0-a85b-476d-a66d-b3f7132e9b45 button.colab-df-convert');\n",
              "        buttonEl.style.display =\n",
              "          google.colab.kernel.accessAllowed ? 'block' : 'none';\n",
              "\n",
              "        async function convertToInteractive(key) {\n",
              "          const element = document.querySelector('#df-7ad0a1c0-a85b-476d-a66d-b3f7132e9b45');\n",
              "          const dataTable =\n",
              "            await google.colab.kernel.invokeFunction('convertToInteractive',\n",
              "                                                     [key], {});\n",
              "          if (!dataTable) return;\n",
              "\n",
              "          const docLinkHtml = 'Like what you see? Visit the ' +\n",
              "            '<a target=\"_blank\" href=https://colab.research.google.com/notebooks/data_table.ipynb>data table notebook</a>'\n",
              "            + ' to learn more about interactive tables.';\n",
              "          element.innerHTML = '';\n",
              "          dataTable['output_type'] = 'display_data';\n",
              "          await google.colab.output.renderOutput(dataTable, element);\n",
              "          const docLink = document.createElement('div');\n",
              "          docLink.innerHTML = docLinkHtml;\n",
              "          element.appendChild(docLink);\n",
              "        }\n",
              "      </script>\n",
              "    </div>\n",
              "  </div>\n",
              "  "
            ]
          },
          "metadata": {},
          "execution_count": 7
        }
      ]
    },
    {
      "cell_type": "code",
      "source": [
        "# Columns in df\n",
        "\n",
        "col = list(df.columns)\n",
        "col"
      ],
      "metadata": {
        "colab": {
          "base_uri": "https://localhost:8080/"
        },
        "collapsed": true,
        "id": "x-ADYtVWeoRV",
        "outputId": "b59365c4-0369-4431-8c7a-77969df9fb03"
      },
      "execution_count": 8,
      "outputs": [
        {
          "output_type": "execute_result",
          "data": {
            "text/plain": [
              "['Id',\n",
              " 'Area(total)',\n",
              " 'Trooms',\n",
              " 'Nbedrooms',\n",
              " 'Nbwashrooms',\n",
              " 'Twashrooms',\n",
              " 'roof',\n",
              " 'Roof(Area)',\n",
              " 'Lawn(Area)',\n",
              " 'Nfloors',\n",
              " 'API',\n",
              " 'ANB',\n",
              " 'Expected price',\n",
              " 'Grade']"
            ]
          },
          "metadata": {},
          "execution_count": 8
        }
      ]
    },
    {
      "cell_type": "markdown",
      "source": [
        "**Observations**\n",
        "\n",
        "* There are totally **3000 rows** and **14 columns**.\n",
        "\n",
        "* The Id columns 3000 unique identites, we can drop.\n",
        "\n",
        "* In this data the categorical columns are less  \n",
        "    * 2 Categorical columns one is Target(**Grade**) and last one is **roof** type.\n",
        "\n",
        "* There is no presence of **missing values** in the data, seems to be all rows are filled with data.\n",
        "\n",
        "* From the **descriptive** \n",
        "\n",
        "    * The data spread might be low, bcuz STD of all columns falls below their mean values.\n",
        "\n",
        "    * Looks like the outliers are less in the data."
      ],
      "metadata": {
        "id": "zaF1ug9EetxE"
      }
    },
    {
      "cell_type": "markdown",
      "source": [
        "**Data PreProcessing**"
      ],
      "metadata": {
        "id": "7yj-m_vQgSQl"
      }
    },
    {
      "cell_type": "code",
      "source": [
        "# Dropping Id Column from the data\n",
        "\n",
        "df.drop('Id', axis = 1, inplace = True)\n",
        "\n",
        "df.head()"
      ],
      "metadata": {
        "colab": {
          "base_uri": "https://localhost:8080/",
          "height": 206
        },
        "collapsed": true,
        "id": "rB7ukwYzh3W9",
        "outputId": "24bf83cf-8749-4f10-87d3-0c55bf75eae5"
      },
      "execution_count": 9,
      "outputs": [
        {
          "output_type": "execute_result",
          "data": {
            "text/plain": [
              "   Area(total)  Trooms  Nbedrooms  Nbwashrooms  Twashrooms roof  Roof(Area)  \\\n",
              "0          339       6          5            4           6   NO           0   \n",
              "1          358       5          4            3           4  YES          71   \n",
              "2          324       7          5            4           5  YES         101   \n",
              "3          330       6          4            3           5  YES         101   \n",
              "4          320       7          4            4           5   NO           0   \n",
              "\n",
              "   Lawn(Area)  Nfloors  API  ANB  Expected price Grade  \n",
              "0          76        2   79    6            3481     D  \n",
              "1          96        3   72    4            3510     D  \n",
              "2         117        5   64    3            3748     C  \n",
              "3          82        2   59    2            3134     D  \n",
              "4          75        3   40    1            3843     D  "
            ],
            "text/html": [
              "\n",
              "  <div id=\"df-2988a1ba-c706-42f6-9e33-b341a29f5596\">\n",
              "    <div class=\"colab-df-container\">\n",
              "      <div>\n",
              "<style scoped>\n",
              "    .dataframe tbody tr th:only-of-type {\n",
              "        vertical-align: middle;\n",
              "    }\n",
              "\n",
              "    .dataframe tbody tr th {\n",
              "        vertical-align: top;\n",
              "    }\n",
              "\n",
              "    .dataframe thead th {\n",
              "        text-align: right;\n",
              "    }\n",
              "</style>\n",
              "<table border=\"1\" class=\"dataframe\">\n",
              "  <thead>\n",
              "    <tr style=\"text-align: right;\">\n",
              "      <th></th>\n",
              "      <th>Area(total)</th>\n",
              "      <th>Trooms</th>\n",
              "      <th>Nbedrooms</th>\n",
              "      <th>Nbwashrooms</th>\n",
              "      <th>Twashrooms</th>\n",
              "      <th>roof</th>\n",
              "      <th>Roof(Area)</th>\n",
              "      <th>Lawn(Area)</th>\n",
              "      <th>Nfloors</th>\n",
              "      <th>API</th>\n",
              "      <th>ANB</th>\n",
              "      <th>Expected price</th>\n",
              "      <th>Grade</th>\n",
              "    </tr>\n",
              "  </thead>\n",
              "  <tbody>\n",
              "    <tr>\n",
              "      <th>0</th>\n",
              "      <td>339</td>\n",
              "      <td>6</td>\n",
              "      <td>5</td>\n",
              "      <td>4</td>\n",
              "      <td>6</td>\n",
              "      <td>NO</td>\n",
              "      <td>0</td>\n",
              "      <td>76</td>\n",
              "      <td>2</td>\n",
              "      <td>79</td>\n",
              "      <td>6</td>\n",
              "      <td>3481</td>\n",
              "      <td>D</td>\n",
              "    </tr>\n",
              "    <tr>\n",
              "      <th>1</th>\n",
              "      <td>358</td>\n",
              "      <td>5</td>\n",
              "      <td>4</td>\n",
              "      <td>3</td>\n",
              "      <td>4</td>\n",
              "      <td>YES</td>\n",
              "      <td>71</td>\n",
              "      <td>96</td>\n",
              "      <td>3</td>\n",
              "      <td>72</td>\n",
              "      <td>4</td>\n",
              "      <td>3510</td>\n",
              "      <td>D</td>\n",
              "    </tr>\n",
              "    <tr>\n",
              "      <th>2</th>\n",
              "      <td>324</td>\n",
              "      <td>7</td>\n",
              "      <td>5</td>\n",
              "      <td>4</td>\n",
              "      <td>5</td>\n",
              "      <td>YES</td>\n",
              "      <td>101</td>\n",
              "      <td>117</td>\n",
              "      <td>5</td>\n",
              "      <td>64</td>\n",
              "      <td>3</td>\n",
              "      <td>3748</td>\n",
              "      <td>C</td>\n",
              "    </tr>\n",
              "    <tr>\n",
              "      <th>3</th>\n",
              "      <td>330</td>\n",
              "      <td>6</td>\n",
              "      <td>4</td>\n",
              "      <td>3</td>\n",
              "      <td>5</td>\n",
              "      <td>YES</td>\n",
              "      <td>101</td>\n",
              "      <td>82</td>\n",
              "      <td>2</td>\n",
              "      <td>59</td>\n",
              "      <td>2</td>\n",
              "      <td>3134</td>\n",
              "      <td>D</td>\n",
              "    </tr>\n",
              "    <tr>\n",
              "      <th>4</th>\n",
              "      <td>320</td>\n",
              "      <td>7</td>\n",
              "      <td>4</td>\n",
              "      <td>4</td>\n",
              "      <td>5</td>\n",
              "      <td>NO</td>\n",
              "      <td>0</td>\n",
              "      <td>75</td>\n",
              "      <td>3</td>\n",
              "      <td>40</td>\n",
              "      <td>1</td>\n",
              "      <td>3843</td>\n",
              "      <td>D</td>\n",
              "    </tr>\n",
              "  </tbody>\n",
              "</table>\n",
              "</div>\n",
              "      <button class=\"colab-df-convert\" onclick=\"convertToInteractive('df-2988a1ba-c706-42f6-9e33-b341a29f5596')\"\n",
              "              title=\"Convert this dataframe to an interactive table.\"\n",
              "              style=\"display:none;\">\n",
              "        \n",
              "  <svg xmlns=\"http://www.w3.org/2000/svg\" height=\"24px\"viewBox=\"0 0 24 24\"\n",
              "       width=\"24px\">\n",
              "    <path d=\"M0 0h24v24H0V0z\" fill=\"none\"/>\n",
              "    <path d=\"M18.56 5.44l.94 2.06.94-2.06 2.06-.94-2.06-.94-.94-2.06-.94 2.06-2.06.94zm-11 1L8.5 8.5l.94-2.06 2.06-.94-2.06-.94L8.5 2.5l-.94 2.06-2.06.94zm10 10l.94 2.06.94-2.06 2.06-.94-2.06-.94-.94-2.06-.94 2.06-2.06.94z\"/><path d=\"M17.41 7.96l-1.37-1.37c-.4-.4-.92-.59-1.43-.59-.52 0-1.04.2-1.43.59L10.3 9.45l-7.72 7.72c-.78.78-.78 2.05 0 2.83L4 21.41c.39.39.9.59 1.41.59.51 0 1.02-.2 1.41-.59l7.78-7.78 2.81-2.81c.8-.78.8-2.07 0-2.86zM5.41 20L4 18.59l7.72-7.72 1.47 1.35L5.41 20z\"/>\n",
              "  </svg>\n",
              "      </button>\n",
              "      \n",
              "  <style>\n",
              "    .colab-df-container {\n",
              "      display:flex;\n",
              "      flex-wrap:wrap;\n",
              "      gap: 12px;\n",
              "    }\n",
              "\n",
              "    .colab-df-convert {\n",
              "      background-color: #E8F0FE;\n",
              "      border: none;\n",
              "      border-radius: 50%;\n",
              "      cursor: pointer;\n",
              "      display: none;\n",
              "      fill: #1967D2;\n",
              "      height: 32px;\n",
              "      padding: 0 0 0 0;\n",
              "      width: 32px;\n",
              "    }\n",
              "\n",
              "    .colab-df-convert:hover {\n",
              "      background-color: #E2EBFA;\n",
              "      box-shadow: 0px 1px 2px rgba(60, 64, 67, 0.3), 0px 1px 3px 1px rgba(60, 64, 67, 0.15);\n",
              "      fill: #174EA6;\n",
              "    }\n",
              "\n",
              "    [theme=dark] .colab-df-convert {\n",
              "      background-color: #3B4455;\n",
              "      fill: #D2E3FC;\n",
              "    }\n",
              "\n",
              "    [theme=dark] .colab-df-convert:hover {\n",
              "      background-color: #434B5C;\n",
              "      box-shadow: 0px 1px 3px 1px rgba(0, 0, 0, 0.15);\n",
              "      filter: drop-shadow(0px 1px 2px rgba(0, 0, 0, 0.3));\n",
              "      fill: #FFFFFF;\n",
              "    }\n",
              "  </style>\n",
              "\n",
              "      <script>\n",
              "        const buttonEl =\n",
              "          document.querySelector('#df-2988a1ba-c706-42f6-9e33-b341a29f5596 button.colab-df-convert');\n",
              "        buttonEl.style.display =\n",
              "          google.colab.kernel.accessAllowed ? 'block' : 'none';\n",
              "\n",
              "        async function convertToInteractive(key) {\n",
              "          const element = document.querySelector('#df-2988a1ba-c706-42f6-9e33-b341a29f5596');\n",
              "          const dataTable =\n",
              "            await google.colab.kernel.invokeFunction('convertToInteractive',\n",
              "                                                     [key], {});\n",
              "          if (!dataTable) return;\n",
              "\n",
              "          const docLinkHtml = 'Like what you see? Visit the ' +\n",
              "            '<a target=\"_blank\" href=https://colab.research.google.com/notebooks/data_table.ipynb>data table notebook</a>'\n",
              "            + ' to learn more about interactive tables.';\n",
              "          element.innerHTML = '';\n",
              "          dataTable['output_type'] = 'display_data';\n",
              "          await google.colab.output.renderOutput(dataTable, element);\n",
              "          const docLink = document.createElement('div');\n",
              "          docLink.innerHTML = docLinkHtml;\n",
              "          element.appendChild(docLink);\n",
              "        }\n",
              "      </script>\n",
              "    </div>\n",
              "  </div>\n",
              "  "
            ]
          },
          "metadata": {},
          "execution_count": 9
        }
      ]
    },
    {
      "cell_type": "code",
      "source": [
        "# Renaming columns\n",
        "\n",
        "df.rename(columns  = {'Area(total)':'total_area', 'Roof(Area)':'roof_area', 'Lawn(Area)':'lawn_area', 'Trooms':'Nrooms'}, inplace = True)\n",
        "\n",
        "# converting all columns name to lower case\n",
        "\n",
        "df.columns = df.columns.str.lower()\n",
        "\n",
        "df.head()"
      ],
      "metadata": {
        "colab": {
          "base_uri": "https://localhost:8080/",
          "height": 206
        },
        "id": "y34g-SCTjKCL",
        "outputId": "ea2dede0-7c1e-44ba-fb25-482298ae9198"
      },
      "execution_count": 10,
      "outputs": [
        {
          "output_type": "execute_result",
          "data": {
            "text/plain": [
              "   total_area  nrooms  nbedrooms  nbwashrooms  twashrooms roof  roof_area  \\\n",
              "0         339       6          5            4           6   NO          0   \n",
              "1         358       5          4            3           4  YES         71   \n",
              "2         324       7          5            4           5  YES        101   \n",
              "3         330       6          4            3           5  YES        101   \n",
              "4         320       7          4            4           5   NO          0   \n",
              "\n",
              "   lawn_area  nfloors  api  anb  expected price grade  \n",
              "0         76        2   79    6            3481     D  \n",
              "1         96        3   72    4            3510     D  \n",
              "2        117        5   64    3            3748     C  \n",
              "3         82        2   59    2            3134     D  \n",
              "4         75        3   40    1            3843     D  "
            ],
            "text/html": [
              "\n",
              "  <div id=\"df-4e0f730c-8965-47e4-9052-145abc04c5d9\">\n",
              "    <div class=\"colab-df-container\">\n",
              "      <div>\n",
              "<style scoped>\n",
              "    .dataframe tbody tr th:only-of-type {\n",
              "        vertical-align: middle;\n",
              "    }\n",
              "\n",
              "    .dataframe tbody tr th {\n",
              "        vertical-align: top;\n",
              "    }\n",
              "\n",
              "    .dataframe thead th {\n",
              "        text-align: right;\n",
              "    }\n",
              "</style>\n",
              "<table border=\"1\" class=\"dataframe\">\n",
              "  <thead>\n",
              "    <tr style=\"text-align: right;\">\n",
              "      <th></th>\n",
              "      <th>total_area</th>\n",
              "      <th>nrooms</th>\n",
              "      <th>nbedrooms</th>\n",
              "      <th>nbwashrooms</th>\n",
              "      <th>twashrooms</th>\n",
              "      <th>roof</th>\n",
              "      <th>roof_area</th>\n",
              "      <th>lawn_area</th>\n",
              "      <th>nfloors</th>\n",
              "      <th>api</th>\n",
              "      <th>anb</th>\n",
              "      <th>expected price</th>\n",
              "      <th>grade</th>\n",
              "    </tr>\n",
              "  </thead>\n",
              "  <tbody>\n",
              "    <tr>\n",
              "      <th>0</th>\n",
              "      <td>339</td>\n",
              "      <td>6</td>\n",
              "      <td>5</td>\n",
              "      <td>4</td>\n",
              "      <td>6</td>\n",
              "      <td>NO</td>\n",
              "      <td>0</td>\n",
              "      <td>76</td>\n",
              "      <td>2</td>\n",
              "      <td>79</td>\n",
              "      <td>6</td>\n",
              "      <td>3481</td>\n",
              "      <td>D</td>\n",
              "    </tr>\n",
              "    <tr>\n",
              "      <th>1</th>\n",
              "      <td>358</td>\n",
              "      <td>5</td>\n",
              "      <td>4</td>\n",
              "      <td>3</td>\n",
              "      <td>4</td>\n",
              "      <td>YES</td>\n",
              "      <td>71</td>\n",
              "      <td>96</td>\n",
              "      <td>3</td>\n",
              "      <td>72</td>\n",
              "      <td>4</td>\n",
              "      <td>3510</td>\n",
              "      <td>D</td>\n",
              "    </tr>\n",
              "    <tr>\n",
              "      <th>2</th>\n",
              "      <td>324</td>\n",
              "      <td>7</td>\n",
              "      <td>5</td>\n",
              "      <td>4</td>\n",
              "      <td>5</td>\n",
              "      <td>YES</td>\n",
              "      <td>101</td>\n",
              "      <td>117</td>\n",
              "      <td>5</td>\n",
              "      <td>64</td>\n",
              "      <td>3</td>\n",
              "      <td>3748</td>\n",
              "      <td>C</td>\n",
              "    </tr>\n",
              "    <tr>\n",
              "      <th>3</th>\n",
              "      <td>330</td>\n",
              "      <td>6</td>\n",
              "      <td>4</td>\n",
              "      <td>3</td>\n",
              "      <td>5</td>\n",
              "      <td>YES</td>\n",
              "      <td>101</td>\n",
              "      <td>82</td>\n",
              "      <td>2</td>\n",
              "      <td>59</td>\n",
              "      <td>2</td>\n",
              "      <td>3134</td>\n",
              "      <td>D</td>\n",
              "    </tr>\n",
              "    <tr>\n",
              "      <th>4</th>\n",
              "      <td>320</td>\n",
              "      <td>7</td>\n",
              "      <td>4</td>\n",
              "      <td>4</td>\n",
              "      <td>5</td>\n",
              "      <td>NO</td>\n",
              "      <td>0</td>\n",
              "      <td>75</td>\n",
              "      <td>3</td>\n",
              "      <td>40</td>\n",
              "      <td>1</td>\n",
              "      <td>3843</td>\n",
              "      <td>D</td>\n",
              "    </tr>\n",
              "  </tbody>\n",
              "</table>\n",
              "</div>\n",
              "      <button class=\"colab-df-convert\" onclick=\"convertToInteractive('df-4e0f730c-8965-47e4-9052-145abc04c5d9')\"\n",
              "              title=\"Convert this dataframe to an interactive table.\"\n",
              "              style=\"display:none;\">\n",
              "        \n",
              "  <svg xmlns=\"http://www.w3.org/2000/svg\" height=\"24px\"viewBox=\"0 0 24 24\"\n",
              "       width=\"24px\">\n",
              "    <path d=\"M0 0h24v24H0V0z\" fill=\"none\"/>\n",
              "    <path d=\"M18.56 5.44l.94 2.06.94-2.06 2.06-.94-2.06-.94-.94-2.06-.94 2.06-2.06.94zm-11 1L8.5 8.5l.94-2.06 2.06-.94-2.06-.94L8.5 2.5l-.94 2.06-2.06.94zm10 10l.94 2.06.94-2.06 2.06-.94-2.06-.94-.94-2.06-.94 2.06-2.06.94z\"/><path d=\"M17.41 7.96l-1.37-1.37c-.4-.4-.92-.59-1.43-.59-.52 0-1.04.2-1.43.59L10.3 9.45l-7.72 7.72c-.78.78-.78 2.05 0 2.83L4 21.41c.39.39.9.59 1.41.59.51 0 1.02-.2 1.41-.59l7.78-7.78 2.81-2.81c.8-.78.8-2.07 0-2.86zM5.41 20L4 18.59l7.72-7.72 1.47 1.35L5.41 20z\"/>\n",
              "  </svg>\n",
              "      </button>\n",
              "      \n",
              "  <style>\n",
              "    .colab-df-container {\n",
              "      display:flex;\n",
              "      flex-wrap:wrap;\n",
              "      gap: 12px;\n",
              "    }\n",
              "\n",
              "    .colab-df-convert {\n",
              "      background-color: #E8F0FE;\n",
              "      border: none;\n",
              "      border-radius: 50%;\n",
              "      cursor: pointer;\n",
              "      display: none;\n",
              "      fill: #1967D2;\n",
              "      height: 32px;\n",
              "      padding: 0 0 0 0;\n",
              "      width: 32px;\n",
              "    }\n",
              "\n",
              "    .colab-df-convert:hover {\n",
              "      background-color: #E2EBFA;\n",
              "      box-shadow: 0px 1px 2px rgba(60, 64, 67, 0.3), 0px 1px 3px 1px rgba(60, 64, 67, 0.15);\n",
              "      fill: #174EA6;\n",
              "    }\n",
              "\n",
              "    [theme=dark] .colab-df-convert {\n",
              "      background-color: #3B4455;\n",
              "      fill: #D2E3FC;\n",
              "    }\n",
              "\n",
              "    [theme=dark] .colab-df-convert:hover {\n",
              "      background-color: #434B5C;\n",
              "      box-shadow: 0px 1px 3px 1px rgba(0, 0, 0, 0.15);\n",
              "      filter: drop-shadow(0px 1px 2px rgba(0, 0, 0, 0.3));\n",
              "      fill: #FFFFFF;\n",
              "    }\n",
              "  </style>\n",
              "\n",
              "      <script>\n",
              "        const buttonEl =\n",
              "          document.querySelector('#df-4e0f730c-8965-47e4-9052-145abc04c5d9 button.colab-df-convert');\n",
              "        buttonEl.style.display =\n",
              "          google.colab.kernel.accessAllowed ? 'block' : 'none';\n",
              "\n",
              "        async function convertToInteractive(key) {\n",
              "          const element = document.querySelector('#df-4e0f730c-8965-47e4-9052-145abc04c5d9');\n",
              "          const dataTable =\n",
              "            await google.colab.kernel.invokeFunction('convertToInteractive',\n",
              "                                                     [key], {});\n",
              "          if (!dataTable) return;\n",
              "\n",
              "          const docLinkHtml = 'Like what you see? Visit the ' +\n",
              "            '<a target=\"_blank\" href=https://colab.research.google.com/notebooks/data_table.ipynb>data table notebook</a>'\n",
              "            + ' to learn more about interactive tables.';\n",
              "          element.innerHTML = '';\n",
              "          dataTable['output_type'] = 'display_data';\n",
              "          await google.colab.output.renderOutput(dataTable, element);\n",
              "          const docLink = document.createElement('div');\n",
              "          docLink.innerHTML = docLinkHtml;\n",
              "          element.appendChild(docLink);\n",
              "        }\n",
              "      </script>\n",
              "    </div>\n",
              "  </div>\n",
              "  "
            ]
          },
          "metadata": {},
          "execution_count": 10
        }
      ]
    },
    {
      "cell_type": "code",
      "source": [
        "# Plotting distributions of features\n",
        "\n",
        "plt.figure(figsize = (15,7))\n",
        "\n",
        "plt.subplot(2,2,1)\n",
        "plt.title('Distributions of expected price - Hist')\n",
        "df['expected price'].plot(kind = 'hist', label = 'expected price', color = 'green')\n",
        "plt.legend(loc = 'upper left')\n",
        "\n",
        "plt.subplot(2,2,2)\n",
        "plt.title('Distributions of total_area - Hist')\n",
        "df['total_area'].plot(kind = 'hist', label = 'total_area', color = 'grey')\n",
        "plt.legend(loc = 'upper left')\n",
        "\n",
        "plt.subplot(2,2,3)\n",
        "plt.title('Distributions of roof_area - Hist')\n",
        "df['roof_area'].plot(kind = 'hist', label = 'roof_area', color = 'gold')\n",
        "plt.legend(loc = 'upper left')\n",
        "\n",
        "plt.subplot(2,2,4)\n",
        "plt.title('Distributions of lawn_area - Hist')\n",
        "df['lawn_area'].plot(kind = 'hist', label = 'lawn_area', color = 'orange')\n",
        "plt.legend(loc = 'upper right')\n",
        "\n",
        "plt.show()"
      ],
      "metadata": {
        "colab": {
          "base_uri": "https://localhost:8080/",
          "height": 444
        },
        "collapsed": true,
        "id": "1wZiCCtwqTTI",
        "outputId": "3ee7fe66-1b62-4641-ff46-10e1ffb91cff"
      },
      "execution_count": 11,
      "outputs": [
        {
          "output_type": "display_data",
          "data": {
            "text/plain": [
              "<Figure size 1080x504 with 4 Axes>"
            ],
            "image/png": "[encoded data removed]"
          },
          "metadata": {
            "needs_background": "light"
          }
        }
      ]
    },
    {
      "cell_type": "markdown",
      "source": [
        "# Observations\n",
        "\n",
        "* These plots are made to check distributions and outliers.\n",
        "\n",
        "* From this plot we can see the distribution looks **normal** for **price**.\n",
        "\n",
        "* The impact of **outliers** is not much in price feature.\n",
        "\n",
        "* The distributions among lawn and total area **even**.\n",
        "\n",
        "* The distributions from roof , the roofs with min area availability is high, the area among 60 - 120 distance is quiet high and from 16-59 the availabilty is very low\n"
      ],
      "metadata": {
        "id": "hci9xCKAqdpj"
      }
    },
    {
      "cell_type": "markdown",
      "source": [
        "#duumy"
      ],
      "metadata": {
        "id": "5SMrFAuDzyXE"
      }
    },
    {
      "cell_type": "code",
      "source": [
        "# Converting the two columns of grade and roof into continuous with using dumies\n",
        "df_dummy = pd.get_dummies(df, columns=['roof', 'grade'])\n",
        "\n",
        "df_dummy.head() "
      ],
      "metadata": {
        "colab": {
          "base_uri": "https://localhost:8080/",
          "height": 0
        },
        "collapsed": true,
        "id": "zaJ0A8crrKM3",
        "outputId": "8a938fa2-e42d-4f90-d9df-c00688b442be"
      },
      "execution_count": 12,
      "outputs": [
        {
          "output_type": "execute_result",
          "data": {
            "text/plain": [
              "   total_area  nrooms  nbedrooms  nbwashrooms  twashrooms  roof_area  \\\n",
              "0         339       6          5            4           6          0   \n",
              "1         358       5          4            3           4         71   \n",
              "2         324       7          5            4           5        101   \n",
              "3         330       6          4            3           5        101   \n",
              "4         320       7          4            4           5          0   \n",
              "\n",
              "   lawn_area  nfloors  api  anb  expected price  roof_NO  roof_YES  grade_A  \\\n",
              "0         76        2   79    6            3481        1         0        0   \n",
              "1         96        3   72    4            3510        0         1        0   \n",
              "2        117        5   64    3            3748        0         1        0   \n",
              "3         82        2   59    2            3134        0         1        0   \n",
              "4         75        3   40    1            3843        1         0        0   \n",
              "\n",
              "   grade_B  grade_C  grade_D  grade_E  \n",
              "0        0        0        1        0  \n",
              "1        0        0        1        0  \n",
              "2        0        1        0        0  \n",
              "3        0        0        1        0  \n",
              "4        0        0        1        0  "
            ],
            "text/html": [
              "\n",
              "  <div id=\"df-8306d5d6-e64d-4bed-9218-6633ba2abac4\">\n",
              "    <div class=\"colab-df-container\">\n",
              "      <div>\n",
              "<style scoped>\n",
              "    .dataframe tbody tr th:only-of-type {\n",
              "        vertical-align: middle;\n",
              "    }\n",
              "\n",
              "    .dataframe tbody tr th {\n",
              "        vertical-align: top;\n",
              "    }\n",
              "\n",
              "    .dataframe thead th {\n",
              "        text-align: right;\n",
              "    }\n",
              "</style>\n",
              "<table border=\"1\" class=\"dataframe\">\n",
              "  <thead>\n",
              "    <tr style=\"text-align: right;\">\n",
              "      <th></th>\n",
              "      <th>total_area</th>\n",
              "      <th>nrooms</th>\n",
              "      <th>nbedrooms</th>\n",
              "      <th>nbwashrooms</th>\n",
              "      <th>twashrooms</th>\n",
              "      <th>roof_area</th>\n",
              "      <th>lawn_area</th>\n",
              "      <th>nfloors</th>\n",
              "      <th>api</th>\n",
              "      <th>anb</th>\n",
              "      <th>expected price</th>\n",
              "      <th>roof_NO</th>\n",
              "      <th>roof_YES</th>\n",
              "      <th>grade_A</th>\n",
              "      <th>grade_B</th>\n",
              "      <th>grade_C</th>\n",
              "      <th>grade_D</th>\n",
              "      <th>grade_E</th>\n",
              "    </tr>\n",
              "  </thead>\n",
              "  <tbody>\n",
              "    <tr>\n",
              "      <th>0</th>\n",
              "      <td>339</td>\n",
              "      <td>6</td>\n",
              "      <td>5</td>\n",
              "      <td>4</td>\n",
              "      <td>6</td>\n",
              "      <td>0</td>\n",
              "      <td>76</td>\n",
              "      <td>2</td>\n",
              "      <td>79</td>\n",
              "      <td>6</td>\n",
              "      <td>3481</td>\n",
              "      <td>1</td>\n",
              "      <td>0</td>\n",
              "      <td>0</td>\n",
              "      <td>0</td>\n",
              "      <td>0</td>\n",
              "      <td>1</td>\n",
              "      <td>0</td>\n",
              "    </tr>\n",
              "    <tr>\n",
              "      <th>1</th>\n",
              "      <td>358</td>\n",
              "      <td>5</td>\n",
              "      <td>4</td>\n",
              "      <td>3</td>\n",
              "      <td>4</td>\n",
              "      <td>71</td>\n",
              "      <td>96</td>\n",
              "      <td>3</td>\n",
              "      <td>72</td>\n",
              "      <td>4</td>\n",
              "      <td>3510</td>\n",
              "      <td>0</td>\n",
              "      <td>1</td>\n",
              "      <td>0</td>\n",
              "      <td>0</td>\n",
              "      <td>0</td>\n",
              "      <td>1</td>\n",
              "      <td>0</td>\n",
              "    </tr>\n",
              "    <tr>\n",
              "      <th>2</th>\n",
              "      <td>324</td>\n",
              "      <td>7</td>\n",
              "      <td>5</td>\n",
              "      <td>4</td>\n",
              "      <td>5</td>\n",
              "      <td>101</td>\n",
              "      <td>117</td>\n",
              "      <td>5</td>\n",
              "      <td>64</td>\n",
              "      <td>3</td>\n",
              "      <td>3748</td>\n",
              "      <td>0</td>\n",
              "      <td>1</td>\n",
              "      <td>0</td>\n",
              "      <td>0</td>\n",
              "      <td>1</td>\n",
              "      <td>0</td>\n",
              "      <td>0</td>\n",
              "    </tr>\n",
              "    <tr>\n",
              "      <th>3</th>\n",
              "      <td>330</td>\n",
              "      <td>6</td>\n",
              "      <td>4</td>\n",
              "      <td>3</td>\n",
              "      <td>5</td>\n",
              "      <td>101</td>\n",
              "      <td>82</td>\n",
              "      <td>2</td>\n",
              "      <td>59</td>\n",
              "      <td>2</td>\n",
              "      <td>3134</td>\n",
              "      <td>0</td>\n",
              "      <td>1</td>\n",
              "      <td>0</td>\n",
              "      <td>0</td>\n",
              "      <td>0</td>\n",
              "      <td>1</td>\n",
              "      <td>0</td>\n",
              "    </tr>\n",
              "    <tr>\n",
              "      <th>4</th>\n",
              "      <td>320</td>\n",
              "      <td>7</td>\n",
              "      <td>4</td>\n",
              "      <td>4</td>\n",
              "      <td>5</td>\n",
              "      <td>0</td>\n",
              "      <td>75</td>\n",
              "      <td>3</td>\n",
              "      <td>40</td>\n",
              "      <td>1</td>\n",
              "      <td>3843</td>\n",
              "      <td>1</td>\n",
              "      <td>0</td>\n",
              "      <td>0</td>\n",
              "      <td>0</td>\n",
              "      <td>0</td>\n",
              "      <td>1</td>\n",
              "      <td>0</td>\n",
              "    </tr>\n",
              "  </tbody>\n",
              "</table>\n",
              "</div>\n",
              "      <button class=\"colab-df-convert\" onclick=\"convertToInteractive('df-8306d5d6-e64d-4bed-9218-6633ba2abac4')\"\n",
              "              title=\"Convert this dataframe to an interactive table.\"\n",
              "              style=\"display:none;\">\n",
              "        \n",
              "  <svg xmlns=\"http://www.w3.org/2000/svg\" height=\"24px\"viewBox=\"0 0 24 24\"\n",
              "       width=\"24px\">\n",
              "    <path d=\"M0 0h24v24H0V0z\" fill=\"none\"/>\n",
              "    <path d=\"M18.56 5.44l.94 2.06.94-2.06 2.06-.94-2.06-.94-.94-2.06-.94 2.06-2.06.94zm-11 1L8.5 8.5l.94-2.06 2.06-.94-2.06-.94L8.5 2.5l-.94 2.06-2.06.94zm10 10l.94 2.06.94-2.06 2.06-.94-2.06-.94-.94-2.06-.94 2.06-2.06.94z\"/><path d=\"M17.41 7.96l-1.37-1.37c-.4-.4-.92-.59-1.43-.59-.52 0-1.04.2-1.43.59L10.3 9.45l-7.72 7.72c-.78.78-.78 2.05 0 2.83L4 21.41c.39.39.9.59 1.41.59.51 0 1.02-.2 1.41-.59l7.78-7.78 2.81-2.81c.8-.78.8-2.07 0-2.86zM5.41 20L4 18.59l7.72-7.72 1.47 1.35L5.41 20z\"/>\n",
              "  </svg>\n",
              "      </button>\n",
              "      \n",
              "  <style>\n",
              "    .colab-df-container {\n",
              "      display:flex;\n",
              "      flex-wrap:wrap;\n",
              "      gap: 12px;\n",
              "    }\n",
              "\n",
              "    .colab-df-convert {\n",
              "      background-color: #E8F0FE;\n",
              "      border: none;\n",
              "      border-radius: 50%;\n",
              "      cursor: pointer;\n",
              "      display: none;\n",
              "      fill: #1967D2;\n",
              "      height: 32px;\n",
              "      padding: 0 0 0 0;\n",
              "      width: 32px;\n",
              "    }\n",
              "\n",
              "    .colab-df-convert:hover {\n",
              "      background-color: #E2EBFA;\n",
              "      box-shadow: 0px 1px 2px rgba(60, 64, 67, 0.3), 0px 1px 3px 1px rgba(60, 64, 67, 0.15);\n",
              "      fill: #174EA6;\n",
              "    }\n",
              "\n",
              "    [theme=dark] .colab-df-convert {\n",
              "      background-color: #3B4455;\n",
              "      fill: #D2E3FC;\n",
              "    }\n",
              "\n",
              "    [theme=dark] .colab-df-convert:hover {\n",
              "      background-color: #434B5C;\n",
              "      box-shadow: 0px 1px 3px 1px rgba(0, 0, 0, 0.15);\n",
              "      filter: drop-shadow(0px 1px 2px rgba(0, 0, 0, 0.3));\n",
              "      fill: #FFFFFF;\n",
              "    }\n",
              "  </style>\n",
              "\n",
              "      <script>\n",
              "        const buttonEl =\n",
              "          document.querySelector('#df-8306d5d6-e64d-4bed-9218-6633ba2abac4 button.colab-df-convert');\n",
              "        buttonEl.style.display =\n",
              "          google.colab.kernel.accessAllowed ? 'block' : 'none';\n",
              "\n",
              "        async function convertToInteractive(key) {\n",
              "          const element = document.querySelector('#df-8306d5d6-e64d-4bed-9218-6633ba2abac4');\n",
              "          const dataTable =\n",
              "            await google.colab.kernel.invokeFunction('convertToInteractive',\n",
              "                                                     [key], {});\n",
              "          if (!dataTable) return;\n",
              "\n",
              "          const docLinkHtml = 'Like what you see? Visit the ' +\n",
              "            '<a target=\"_blank\" href=https://colab.research.google.com/notebooks/data_table.ipynb>data table notebook</a>'\n",
              "            + ' to learn more about interactive tables.';\n",
              "          element.innerHTML = '';\n",
              "          dataTable['output_type'] = 'display_data';\n",
              "          await google.colab.output.renderOutput(dataTable, element);\n",
              "          const docLink = document.createElement('div');\n",
              "          docLink.innerHTML = docLinkHtml;\n",
              "          element.appendChild(docLink);\n",
              "        }\n",
              "      </script>\n",
              "    </div>\n",
              "  </div>\n",
              "  "
            ]
          },
          "metadata": {},
          "execution_count": 12
        }
      ]
    },
    {
      "cell_type": "code",
      "source": [
        "df_dummy.info()"
      ],
      "metadata": {
        "colab": {
          "base_uri": "https://localhost:8080/"
        },
        "collapsed": true,
        "id": "Y9_iRUctuGSq",
        "outputId": "f75ffdb0-4292-4842-df4e-0d5c68f6651a"
      },
      "execution_count": 13,
      "outputs": [
        {
          "output_type": "stream",
          "name": "stdout",
          "text": [
            "<class 'pandas.core.frame.DataFrame'>\n",
            "RangeIndex: 3000 entries, 0 to 2999\n",
            "Data columns (total 18 columns):\n",
            " #   Column          Non-Null Count  Dtype\n",
            "---  ------          --------------  -----\n",
            " 0   total_area      3000 non-null   int64\n",
            " 1   nrooms          3000 non-null   int64\n",
            " 2   nbedrooms       3000 non-null   int64\n",
            " 3   nbwashrooms     3000 non-null   int64\n",
            " 4   twashrooms      3000 non-null   int64\n",
            " 5   roof_area       3000 non-null   int64\n",
            " 6   lawn_area       3000 non-null   int64\n",
            " 7   nfloors         3000 non-null   int64\n",
            " 8   api             3000 non-null   int64\n",
            " 9   anb             3000 non-null   int64\n",
            " 10  expected price  3000 non-null   int64\n",
            " 11  roof_NO         3000 non-null   uint8\n",
            " 12  roof_YES        3000 non-null   uint8\n",
            " 13  grade_A         3000 non-null   uint8\n",
            " 14  grade_B         3000 non-null   uint8\n",
            " 15  grade_C         3000 non-null   uint8\n",
            " 16  grade_D         3000 non-null   uint8\n",
            " 17  grade_E         3000 non-null   uint8\n",
            "dtypes: int64(11), uint8(7)\n",
            "memory usage: 278.4 KB\n"
          ]
        }
      ]
    },
    {
      "cell_type": "markdown",
      "source": [
        "* The Dummies are created for the two columns with contnious no's"
      ],
      "metadata": {
        "id": "eufQGug7zwuo"
      }
    },
    {
      "cell_type": "markdown",
      "source": [
        "# **Encoding**"
      ],
      "metadata": {
        "id": "PPJpX25yz1bT"
      }
    },
    {
      "cell_type": "code",
      "source": [
        "# Select object type features\n",
        "\n",
        "oc = df.select_dtypes('object').columns\n",
        "oc"
      ],
      "metadata": {
        "colab": {
          "base_uri": "https://localhost:8080/"
        },
        "collapsed": true,
        "id": "bQUtCiEjyqgb",
        "outputId": "cb38d621-5671-42cc-c005-871bf9944eea"
      },
      "execution_count": 14,
      "outputs": [
        {
          "output_type": "execute_result",
          "data": {
            "text/plain": [
              "Index(['roof', 'grade'], dtype='object')"
            ]
          },
          "metadata": {},
          "execution_count": 14
        }
      ]
    },
    {
      "cell_type": "code",
      "source": [
        "# using for loop to encode the ctegorical columns\n",
        "\n",
        "for i in oc:\n",
        "    df[i] = LabelEncoder().fit_transform(df[i])\n",
        "    print(i)\n",
        "    print(df[i].unique())\n",
        "    print('--'*25)"
      ],
      "metadata": {
        "colab": {
          "base_uri": "https://localhost:8080/"
        },
        "collapsed": true,
        "id": "DUi5wQjqyh9D",
        "outputId": "63d27d52-5cc8-4b5c-db70-a967ffc87fb0"
      },
      "execution_count": 15,
      "outputs": [
        {
          "output_type": "stream",
          "name": "stdout",
          "text": [
            "roof\n",
            "[0 1]\n",
            "--------------------------------------------------\n",
            "grade\n",
            "[3 2 1 0 4]\n",
            "--------------------------------------------------\n"
          ]
        }
      ]
    },
    {
      "cell_type": "code",
      "source": [
        "# splitting the data into train and test using  train_test_split function\n",
        "\n",
        "x = df.drop('grade', axis =1)\n",
        "y = df['grade']\n",
        "\n",
        "x_train, x_test, y_train, y_test = train_test_split(x, y, test_size = 0.3, random_state = 20)\n",
        "\n",
        "print(\"Shape of x_train - {} x_test {}\".format(x_train.shape, x_test.shape))"
      ],
      "metadata": {
        "colab": {
          "base_uri": "https://localhost:8080/"
        },
        "collapsed": true,
        "id": "fU7WLMhcyAr0",
        "outputId": "153069bc-0613-43e8-e877-a89f5cc03488"
      },
      "execution_count": 16,
      "outputs": [
        {
          "output_type": "stream",
          "name": "stdout",
          "text": [
            "Shape of x_train - (2100, 12) x_test (900, 12)\n"
          ]
        }
      ]
    },
    {
      "cell_type": "markdown",
      "source": [
        "**Model Building**"
      ],
      "metadata": {
        "id": "rVTe-MUKxBQK"
      }
    },
    {
      "cell_type": "code",
      "source": [
        "# To store accuracy values and respective models\n",
        "\n",
        "acc = {}"
      ],
      "metadata": {
        "id": "ESuyFHXFGKV9"
      },
      "execution_count": 17,
      "outputs": []
    },
    {
      "cell_type": "markdown",
      "source": [
        "#*LogisticRegression*"
      ],
      "metadata": {
        "id": "h7Ri2djWx1Vv"
      }
    },
    {
      "cell_type": "code",
      "source": [
        "# Importing LogisticRegression from scikit\n",
        "\n",
        "from sklearn.linear_model import LogisticRegression"
      ],
      "metadata": {
        "id": "jt3DCB4T0PIh"
      },
      "execution_count": 18,
      "outputs": []
    },
    {
      "cell_type": "code",
      "source": [
        "# Building the model\n",
        "\n",
        "model_l = LogisticRegression()\n",
        "\n",
        "# Training the model\n",
        "\n",
        "model_l.fit(x_train, y_train)\n",
        "\n",
        "# Prediciton\n",
        "\n",
        "pred_l = model_l.predict(x_test)\n",
        "\n",
        "# Model_Evaluation, accuracy, recall, precision, f1 score\n",
        "\n",
        "print(f'Training_Score  =  {model_l.score(x_train, y_train).round(2)}\\nTesting_score   =  {model_l.score(x_test, y_test).round(2)}')\n",
        "\n",
        "print(\"\\nAccuracy_Score  : \",accuracy_score(y_test, pred_l).round(2))\n",
        "\n",
        "print(\"Recall_Score    : \",recall_score(y_test, pred_l, average = 'weighted').round(2))\n",
        "\n",
        "print(\"Precision_Score : \",precision_score(y_test, pred_l, average='weighted').round(2))\n",
        "\n",
        "print(\"F1_Score        : \",f1_score(y_test, pred_l, average = 'weighted').round(2))"
      ],
      "metadata": {
        "colab": {
          "base_uri": "https://localhost:8080/"
        },
        "id": "Iz9sYLQrwkoq",
        "outputId": "1e5660d4-aec7-41c2-fa4f-7752a428599d"
      },
      "execution_count": 19,
      "outputs": [
        {
          "output_type": "stream",
          "name": "stdout",
          "text": [
            "Training_Score  =  0.55\n",
            "Testing_score   =  0.55\n",
            "\n",
            "Accuracy_Score  :  0.55\n",
            "Recall_Score    :  0.55\n",
            "Precision_Score :  0.52\n",
            "F1_Score        :  0.53\n"
          ]
        }
      ]
    },
    {
      "cell_type": "code",
      "source": [
        "# Defining calculation matrix\n",
        "\n",
        "def make_confusion_matrix(model,  y_actual, labels=[1, 0], xtest = x_test):\n",
        "    \"\"\"\n",
        "    model : classifier to predict values of X\n",
        "    y_actual : ground truth  \n",
        "    \"\"\"\n",
        "    y_predict = model.predict(x_test)\n",
        "    cm = confusion_matrix(y_actual, y_predict, labels=[0, 1])\n",
        "    df_cm = pd.DataFrame(cm, index=[\"Actual - No\",\"Actual - Yes\"], \n",
        "                         columns=['Predicted - No','Predicted - Yes'])\n",
        "\n",
        "    group_counts = [f\"{value:0.0f}\" for value in cm.flatten()]   \n",
        "    group_percentages = [f\"{value:.2%}\" for value in cm.flatten()/np.sum(cm)]\n",
        "    \n",
        "    labels = [f\"{gc}\\n{gp}\" for gc, gp in zip(group_counts, group_percentages)]  \n",
        "    labels = np.asarray(labels).reshape(2,2)\n",
        "    \n",
        "    plt.figure(figsize = (10, 7))\n",
        "    sb.heatmap(df_cm, annot=labels, fmt='')\n",
        "    plt.ylabel('True label', fontsize=14)\n",
        "    plt.xlabel('Predicted label', fontsize=14);"
      ],
      "metadata": {
        "id": "TfBg_7S4bkIv"
      },
      "execution_count": 20,
      "outputs": []
    },
    {
      "cell_type": "code",
      "source": [
        "# Classification Report and confusion matrix\n",
        "\n",
        "make_confusion_matrix(model_l, y_test)\n",
        "print(classification_report(y_test, pred_l))"
      ],
      "metadata": {
        "colab": {
          "base_uri": "https://localhost:8080/",
          "height": 667
        },
        "id": "BZ4V2CFg7z7n",
        "outputId": "902c4c31-614d-441b-f82e-f14326a3e67d"
      },
      "execution_count": 21,
      "outputs": [
        {
          "output_type": "stream",
          "name": "stdout",
          "text": [
            "              precision    recall  f1-score   support\n",
            "\n",
            "           0       0.46      0.39      0.42       133\n",
            "           1       0.33      0.31      0.32       154\n",
            "           2       0.37      0.37      0.37       209\n",
            "           3       0.73      0.83      0.77       385\n",
            "           4       0.00      0.00      0.00        19\n",
            "\n",
            "    accuracy                           0.55       900\n",
            "   macro avg       0.38      0.38      0.38       900\n",
            "weighted avg       0.52      0.55      0.53       900\n",
            "\n"
          ]
        },
        {
          "output_type": "display_data",
          "data": {
            "text/plain": [
              "<Figure size 720x504 with 2 Axes>"
            ],
            "image/png": "[encoded data removed]"
          },
          "metadata": {
            "needs_background": "light"
          }
        }
      ]
    },
    {
      "cell_type": "markdown",
      "source": [
        "# **Observations - LOG_Regression**\n",
        "\n",
        "* The model performance is > 50%.\n",
        "\n",
        "* The model can able to explaine the outcome variable upto 55%.\n",
        "\n",
        "* From the CR the 4th class has no supporter , and there is no score for precision or neither recall and etc.\n",
        "\n",
        "> **Weighted_Average**<br>\n",
        "    \n",
        "* The model has 55% capability of predicting 0th class.\n",
        "\n",
        "* The model has 52% capability of predicting 1st class."
      ],
      "metadata": {
        "id": "QDnuwLW93dol"
      }
    },
    {
      "cell_type": "code",
      "source": [
        "# Storing accuracy value of LogisticRegression\n",
        "\n",
        "acc['LOG_Regression'] = accuracy_score(y_test, pred_l).round(2)\n",
        "acc"
      ],
      "metadata": {
        "colab": {
          "base_uri": "https://localhost:8080/"
        },
        "id": "mRlsGDXBGe_j",
        "outputId": "8f3387ac-85ca-4ff7-aeb8-fcbefccebbc4"
      },
      "execution_count": 22,
      "outputs": [
        {
          "output_type": "execute_result",
          "data": {
            "text/plain": [
              "{'LOG_Regression': 0.55}"
            ]
          },
          "metadata": {},
          "execution_count": 22
        }
      ]
    },
    {
      "cell_type": "markdown",
      "source": [
        "#*NaiveBayes*"
      ],
      "metadata": {
        "id": "2BQasm7q5vkQ"
      }
    },
    {
      "cell_type": "code",
      "source": [
        "# Importing naive_bayes from scikit\n",
        "\n",
        "from sklearn.naive_bayes import GaussianNB"
      ],
      "metadata": {
        "id": "fuIE1FLC1iUJ"
      },
      "execution_count": 23,
      "outputs": []
    },
    {
      "cell_type": "code",
      "source": [
        "# Building the model\n",
        "\n",
        "model_nb = GaussianNB()\n",
        "\n",
        "# Training the model\n",
        "\n",
        "model_nb.fit(x_train, y_train)\n",
        "\n",
        "# Prediciton\n",
        "\n",
        "pred_nb = model_nb.predict(x_test)\n",
        "\n",
        "# Model_Evaluation, accuracy, recall, precision, f1 score\n",
        "\n",
        "print(f'Training_Score  =  {model_nb.score(x_train, y_train).round(2)}\\nTesting_score   =  {model_nb.score(x_test, y_test).round(2)}')\n",
        "\n",
        "print(\"\\nAccuracy_Score  : \",accuracy_score(y_test, pred_nb).round(2))\n",
        "\n",
        "print(\"Recall_Score    : \",recall_score(y_test, pred_nb, average = 'weighted').round(2))\n",
        "\n",
        "print(\"Precision_Score : \",precision_score(y_test, pred_nb, average='weighted').round(2))\n",
        "\n",
        "print(\"F1_Score        : \",f1_score(y_test, pred_nb, average = 'weighted').round(2))"
      ],
      "metadata": {
        "colab": {
          "base_uri": "https://localhost:8080/"
        },
        "id": "u2D4w-GG56N6",
        "outputId": "f8a97a48-883d-4e97-c92e-4bb8f045c092"
      },
      "execution_count": 24,
      "outputs": [
        {
          "output_type": "stream",
          "name": "stdout",
          "text": [
            "Training_Score  =  0.8\n",
            "Testing_score   =  0.81\n",
            "\n",
            "Accuracy_Score  :  0.81\n",
            "Recall_Score    :  0.81\n",
            "Precision_Score :  0.83\n",
            "F1_Score        :  0.82\n"
          ]
        }
      ]
    },
    {
      "cell_type": "code",
      "source": [
        "# Classification Report\n",
        "\n",
        "print(classification_report(y_test, pred_nb))"
      ],
      "metadata": {
        "colab": {
          "base_uri": "https://localhost:8080/"
        },
        "id": "8eNwjesF82a8",
        "outputId": "5457fa2c-125b-4475-bfe9-600d65352db3"
      },
      "execution_count": 25,
      "outputs": [
        {
          "output_type": "stream",
          "name": "stdout",
          "text": [
            "              precision    recall  f1-score   support\n",
            "\n",
            "           0       0.89      0.84      0.86       133\n",
            "           1       0.67      0.80      0.73       154\n",
            "           2       0.72      0.72      0.72       209\n",
            "           3       0.94      0.85      0.89       385\n",
            "           4       0.55      0.95      0.69        19\n",
            "\n",
            "    accuracy                           0.81       900\n",
            "   macro avg       0.75      0.83      0.78       900\n",
            "weighted avg       0.83      0.81      0.82       900\n",
            "\n"
          ]
        }
      ]
    },
    {
      "cell_type": "code",
      "source": [
        "# Confusion_matrix\n",
        "\n",
        "make_confusion_matrix(model_nb, y_test)"
      ],
      "metadata": {
        "colab": {
          "base_uri": "https://localhost:8080/",
          "height": 446
        },
        "id": "c24edugucHWK",
        "outputId": "18a761b5-65a2-4602-8f03-119dc4f845e8"
      },
      "execution_count": 26,
      "outputs": [
        {
          "output_type": "display_data",
          "data": {
            "text/plain": [
              "<Figure size 720x504 with 2 Axes>"
            ],
            "image/png": "[encoded data removed]"
          },
          "metadata": {
            "needs_background": "light"
          }
        }
      ]
    },
    {
      "cell_type": "markdown",
      "source": [
        "# **Observations - Naive_Bayes**\n",
        "\n",
        "* The model performance is > 80%.\n",
        "\n",
        "* The model can able to explaine the outcome variable upto 81%.\n",
        "\n",
        "\n",
        "\n",
        "> **Weighted_Average**\n",
        "\n",
        "\n",
        "* The model has 81% capability of predicting 0th class.\n",
        "\n",
        "* The model has 83% capability of predicting 1st class.\n",
        "\n",
        "Results\n",
        "\n",
        "* The **Naive_Bayes** model performs better than **LogisticRegression**"
      ],
      "metadata": {
        "id": "PTZe1zhz6ZF7"
      }
    },
    {
      "cell_type": "code",
      "source": [
        "# Storing accuracy value of LogisticRegression\n",
        "\n",
        "acc['Naive_Bayes'] = accuracy_score(y_test, pred_nb).round(2)\n",
        "acc"
      ],
      "metadata": {
        "colab": {
          "base_uri": "https://localhost:8080/"
        },
        "id": "y4IMjS1DG0kA",
        "outputId": "e53ef3ec-3e1f-47d0-8335-3ed83c7c8736"
      },
      "execution_count": 27,
      "outputs": [
        {
          "output_type": "execute_result",
          "data": {
            "text/plain": [
              "{'LOG_Regression': 0.55, 'Naive_Bayes': 0.81}"
            ]
          },
          "metadata": {},
          "execution_count": 27
        }
      ]
    },
    {
      "cell_type": "markdown",
      "source": [
        "#*Decision_Tree*"
      ],
      "metadata": {
        "id": "F47sr8XB66qv"
      }
    },
    {
      "cell_type": "code",
      "source": [
        "# Importing DecisionTreeClassifier from scikit\n",
        "\n",
        "from sklearn.tree import DecisionTreeClassifier"
      ],
      "metadata": {
        "id": "Kg3WklkV6MXq"
      },
      "execution_count": 28,
      "outputs": []
    },
    {
      "cell_type": "code",
      "source": [
        "# Building the model\n",
        "\n",
        "model_dt = DecisionTreeClassifier()\n",
        "\n",
        "# Training the model\n",
        "\n",
        "model_dt.fit(x_train, y_train)\n",
        "\n",
        "# Prediciton\n",
        "\n",
        "pred_dt = model_dt.predict(x_test)\n",
        "\n",
        "# Model_Evaluation, accuracy, recall, precision, f1 score\n",
        "\n",
        "\n",
        "print(f'Training_Score  =  {model_dt.score(x_train, y_train).round(2)}\\nTesting_score   =  {model_dt.score(x_test, y_test).round(2)}')\n",
        "\n",
        "print(\"\\nAccuracy_Score  : \",accuracy_score(y_test, pred_dt).round(2))\n",
        "\n",
        "print(\"Recall_Score    : \",recall_score(y_test, pred_dt, average = 'weighted').round(2))\n",
        "\n",
        "print(\"Precision_Score : \",precision_score(y_test, pred_dt, average='weighted').round(2))\n",
        "\n",
        "print(\"F1_Score        : \",f1_score(y_test, pred_dt, average = 'weighted').round(2))"
      ],
      "metadata": {
        "colab": {
          "base_uri": "https://localhost:8080/"
        },
        "id": "LDh-gSJU7F7M",
        "outputId": "8acedce7-7390-4572-eeb5-e064235afcd8"
      },
      "execution_count": 29,
      "outputs": [
        {
          "output_type": "stream",
          "name": "stdout",
          "text": [
            "Training_Score  =  1.0\n",
            "Testing_score   =  0.85\n",
            "\n",
            "Accuracy_Score  :  0.85\n",
            "Recall_Score    :  0.85\n",
            "Precision_Score :  0.85\n",
            "F1_Score        :  0.85\n"
          ]
        }
      ]
    },
    {
      "cell_type": "code",
      "source": [
        "# Classification Report\n",
        "\n",
        "print(classification_report(y_test, pred_dt))"
      ],
      "metadata": {
        "colab": {
          "base_uri": "https://localhost:8080/"
        },
        "collapsed": true,
        "id": "6c_OgpsY9L3P",
        "outputId": "f0ed6571-ae43-4904-be2a-6a40063dd9ca"
      },
      "execution_count": 30,
      "outputs": [
        {
          "output_type": "stream",
          "name": "stdout",
          "text": [
            "              precision    recall  f1-score   support\n",
            "\n",
            "           0       0.84      0.84      0.84       133\n",
            "           1       0.76      0.77      0.76       154\n",
            "           2       0.83      0.81      0.82       209\n",
            "           3       0.92      0.92      0.92       385\n",
            "           4       0.59      0.68      0.63        19\n",
            "\n",
            "    accuracy                           0.85       900\n",
            "   macro avg       0.79      0.81      0.80       900\n",
            "weighted avg       0.85      0.85      0.85       900\n",
            "\n"
          ]
        }
      ]
    },
    {
      "cell_type": "code",
      "source": [
        "# Confusion_matrix\n",
        "\n",
        "make_confusion_matrix(model_dt, y_test)"
      ],
      "metadata": {
        "colab": {
          "base_uri": "https://localhost:8080/",
          "height": 446
        },
        "id": "LHikmMGTcRaL",
        "outputId": "46539f58-5c66-4869-d8dd-538f15b3c9f6"
      },
      "execution_count": 31,
      "outputs": [
        {
          "output_type": "display_data",
          "data": {
            "text/plain": [
              "<Figure size 720x504 with 2 Axes>"
            ],
            "image/png": "[encoded data removed]"
          },
          "metadata": {
            "needs_background": "light"
          }
        }
      ]
    },
    {
      "cell_type": "markdown",
      "source": [
        "# **Observations - DecisionTreeClassifier**\n",
        "\n",
        "* The model performance is > 80% same as Naive_Bayes.\n",
        "\n",
        "* The model can able to explaine the outcome variable upto 85% which is > Naive_Bayes.\n",
        "\n",
        "* This model looks like overfitted.\n",
        "\n",
        "> **Weighted_Average**\n",
        "\n",
        "* The model has 85% capability of predicting 0th class.\n",
        "\n",
        "* The model has 85% capability of predicting 1st class.\n",
        "\n",
        "Results\n",
        "\n",
        "* The **DecisionTreeClassifier** model performs better than **LogisticRegression and Naive_Bayes as well**"
      ],
      "metadata": {
        "id": "Sq7zrg7q9QHw"
      }
    },
    {
      "cell_type": "code",
      "source": [
        "# Storing accuracy value of LogisticRegression\n",
        "\n",
        "acc['DecisionTree'] = accuracy_score(y_test, pred_dt).round(2)\n",
        "acc"
      ],
      "metadata": {
        "colab": {
          "base_uri": "https://localhost:8080/"
        },
        "id": "B9Zj9n0AG6yt",
        "outputId": "ce632c80-5a13-4d3b-fe79-9201b8153040"
      },
      "execution_count": 32,
      "outputs": [
        {
          "output_type": "execute_result",
          "data": {
            "text/plain": [
              "{'LOG_Regression': 0.55, 'Naive_Bayes': 0.81, 'DecisionTree': 0.85}"
            ]
          },
          "metadata": {},
          "execution_count": 32
        }
      ]
    },
    {
      "cell_type": "markdown",
      "source": [
        "#*RandomForest*"
      ],
      "metadata": {
        "id": "zuBuGz-M-TzW"
      }
    },
    {
      "cell_type": "code",
      "source": [
        "# Importing RandomForestClassifier from scikit\n",
        "\n",
        "from sklearn.ensemble import RandomForestClassifier \n",
        "\n",
        "from sklearn.model_selection import StratifiedKFold, cross_val_score"
      ],
      "metadata": {
        "id": "Wrbo8xqt7YJT"
      },
      "execution_count": 33,
      "outputs": []
    },
    {
      "cell_type": "code",
      "source": [
        "# Building the model with hp\n",
        "\n",
        "model_rf = RandomForestClassifier(n_estimators = 10, n_jobs = -1, random_state = 15, max_depth = 5)\n",
        "\n",
        "# Training the model\n",
        "\n",
        "model_rf.fit(x_train, y_train)\n",
        "\n",
        "# Prediciton\n",
        "\n",
        "pred_rf = model_rf.predict(x_test)\n",
        "\n",
        "# Model_Evaluation, accuracy, recall, precision, f1 score\n",
        "\n",
        "print(f'Training_Score  =  {model_rf.score(x_train, y_train).round(2)}\\nTesting_score   =  {model_rf.score(x_test, y_test).round(2)}')\n",
        "\n",
        "print(\"\\nAccuracy_Score  : \",accuracy_score(y_test, pred_rf).round(2))\n",
        "\n",
        "print(\"Recall_Score    : \",recall_score(y_test, pred_rf, average = 'weighted').round(2))\n",
        "\n",
        "print(\"Precision_Score : \",precision_score(y_test, pred_rf, average='weighted').round(2))\n",
        "\n",
        "print(\"F1_Score        : \",f1_score(y_test, pred_rf, average = 'weighted').round(2))\n",
        "\n",
        "# Using Cross validation \n",
        "\n",
        "cv = StratifiedKFold(n_splits = 10, shuffle = True, )\n",
        "score = cross_val_score(model_rf, x_train, y_train, scoring = 'accuracy', cv = cv, n_jobs = -1, error_score = 'raise')\n",
        "\n",
        "# accuracy\n",
        "\n",
        "print(\"\\n Mean_score : {} \\n std_score  : {} \".format(np.mean(score).round(2),np.std(score).round(2)))"
      ],
      "metadata": {
        "colab": {
          "base_uri": "https://localhost:8080/"
        },
        "id": "wR6GQzR_-Muu",
        "outputId": "37098722-3f96-462a-dfaa-f202dde83a08"
      },
      "execution_count": 34,
      "outputs": [
        {
          "output_type": "stream",
          "name": "stdout",
          "text": [
            "Training_Score  =  0.84\n",
            "Testing_score   =  0.83\n",
            "\n",
            "Accuracy_Score  :  0.83\n",
            "Recall_Score    :  0.83\n",
            "Precision_Score :  0.81\n",
            "F1_Score        :  0.82\n",
            "\n",
            " Mean_score : 0.81 \n",
            " std_score  : 0.03 \n"
          ]
        }
      ]
    },
    {
      "cell_type": "code",
      "source": [
        "# Classification Report\n",
        "\n",
        "print(classification_report(y_test, pred_dt))"
      ],
      "metadata": {
        "colab": {
          "base_uri": "https://localhost:8080/"
        },
        "collapsed": true,
        "id": "3Iiqjonu-5FZ",
        "outputId": "fb17d61c-341c-4bc8-fbdc-79576d9bee4f"
      },
      "execution_count": 35,
      "outputs": [
        {
          "output_type": "stream",
          "name": "stdout",
          "text": [
            "              precision    recall  f1-score   support\n",
            "\n",
            "           0       0.84      0.84      0.84       133\n",
            "           1       0.76      0.77      0.76       154\n",
            "           2       0.83      0.81      0.82       209\n",
            "           3       0.92      0.92      0.92       385\n",
            "           4       0.59      0.68      0.63        19\n",
            "\n",
            "    accuracy                           0.85       900\n",
            "   macro avg       0.79      0.81      0.80       900\n",
            "weighted avg       0.85      0.85      0.85       900\n",
            "\n"
          ]
        }
      ]
    },
    {
      "cell_type": "code",
      "source": [
        "# Confusion_matrix\n",
        "\n",
        "make_confusion_matrix(model_rf, y_test)"
      ],
      "metadata": {
        "colab": {
          "base_uri": "https://localhost:8080/",
          "height": 446
        },
        "id": "D28HG-dUcXQ8",
        "outputId": "827b54e6-0373-46bf-f4e6-a9db6c1f6647"
      },
      "execution_count": 36,
      "outputs": [
        {
          "output_type": "display_data",
          "data": {
            "text/plain": [
              "<Figure size 720x504 with 2 Axes>"
            ],
            "image/png": "[encoded data removed]"
          },
          "metadata": {
            "needs_background": "light"
          }
        }
      ]
    },
    {
      "cell_type": "markdown",
      "source": [
        "# **Observations - RandomForestClassifier**\n",
        "\n",
        "* The model performance is > 80%.\n",
        "\n",
        "* The model can able to explaine the outcome variable upto 85% which is  \n",
        "~= **Decision_Tree**.\n",
        "\n",
        "> **Weighted_Average**\n",
        "\n",
        "* The model has 83% capability of predicting 0th class.\n",
        "\n",
        "* The model has 81% capability of predicting 1st class.\n",
        "\n",
        "Results\n",
        "\n",
        "* The **RandomForestClassifier** model performs better than **LogisticRegression and Naive_Bayes as well** and equals **DecisionTreeClassifier**"
      ],
      "metadata": {
        "id": "XJHG1hZh-Qca"
      }
    },
    {
      "cell_type": "code",
      "source": [
        "# Storing accuracy value of LogisticRegression\n",
        "\n",
        "acc['RandomForest'] = accuracy_score(y_test, pred_rf).round(2)\n",
        "acc"
      ],
      "metadata": {
        "colab": {
          "base_uri": "https://localhost:8080/"
        },
        "id": "yapi-L7pHBwL",
        "outputId": "8684a49c-d492-41c8-a474-cd13a8a98183"
      },
      "execution_count": 37,
      "outputs": [
        {
          "output_type": "execute_result",
          "data": {
            "text/plain": [
              "{'LOG_Regression': 0.55,\n",
              " 'Naive_Bayes': 0.81,\n",
              " 'DecisionTree': 0.85,\n",
              " 'RandomForest': 0.83}"
            ]
          },
          "metadata": {},
          "execution_count": 37
        }
      ]
    },
    {
      "cell_type": "markdown",
      "source": [
        "#*KNN_Classifier*"
      ],
      "metadata": {
        "id": "Yg5Sf0GEDCA3"
      }
    },
    {
      "cell_type": "code",
      "source": [
        "# Impoting KNN and GridsearchCV library from scikit \n",
        "\n",
        "from sklearn.neighbors import KNeighborsClassifier\n",
        "\n",
        "from sklearn.model_selection import GridSearchCV"
      ],
      "metadata": {
        "id": "itO8C2jMDNx8"
      },
      "execution_count": 38,
      "outputs": []
    },
    {
      "cell_type": "code",
      "source": [
        "# Finding Neighobors using Grid Searcg\n",
        "\n",
        "knn = KNeighborsClassifier()\n",
        "\n",
        "params = {'n_neighbors':[10,11,12,13,14,15,16,17,18,19,20]}\n",
        "\n",
        "grid = GridSearchCV(knn, params, cv=5, scoring = 'accuracy')\n",
        "grid.fit(x_train, y_train)\n",
        "\n",
        "print(\"Best Parameters : \", grid.best_params_)\n",
        "print(\"Accuracy for our training dataset with tuning is : {:.2f}%\".format(grid.best_score_) )"
      ],
      "metadata": {
        "colab": {
          "base_uri": "https://localhost:8080/"
        },
        "id": "4Gnfl0fjDUy0",
        "outputId": "ad8e799a-8594-46b0-de1b-a6933fdb8417"
      },
      "execution_count": 39,
      "outputs": [
        {
          "output_type": "stream",
          "name": "stdout",
          "text": [
            "Best Parameters :  {'n_neighbors': 16}\n",
            "Accuracy for our training dataset with tuning is : 0.56%\n"
          ]
        }
      ]
    },
    {
      "cell_type": "code",
      "source": [
        "# Building the model with hp\n",
        "\n",
        "model_kn = KNeighborsClassifier(n_neighbors = 16, n_jobs = -1)\n",
        "\n",
        "# Training the model\n",
        "\n",
        "model_kn.fit(x_train, y_train)\n",
        "\n",
        "# Prediciton\n",
        "\n",
        "pred_kn = model_kn.predict(x_test)\n",
        "\n",
        "# Model_Evaluation, accuracy, recall, precision, f1 score\n",
        "\n",
        "\n",
        "print(f'Training_Score  =  {model_kn.score(x_train, y_train).round(2)}\\nTesting_score   =  {model_kn.score(x_test, y_test).round(2)}')\n",
        "\n",
        "print(\"\\nAccuracy_Score  : \",accuracy_score(y_test, pred_kn).round(2))\n",
        "\n",
        "print(\"Recall_Score    : \",recall_score(y_test, pred_kn, average = 'weighted').round(2))\n",
        "\n",
        "print(\"Precision_Score : \",precision_score(y_test, pred_kn, average='weighted').round(2))\n",
        "\n",
        "print(\"F1_Score        : \",f1_score(y_test, pred_kn, average = 'weighted').round(2))"
      ],
      "metadata": {
        "colab": {
          "base_uri": "https://localhost:8080/"
        },
        "id": "1IZUmACA-uM_",
        "outputId": "c41f67aa-e607-4f7b-c69a-1686aecfe9a2"
      },
      "execution_count": 40,
      "outputs": [
        {
          "output_type": "stream",
          "name": "stdout",
          "text": [
            "Training_Score  =  0.62\n",
            "Testing_score   =  0.57\n",
            "\n",
            "Accuracy_Score  :  0.57\n",
            "Recall_Score    :  0.57\n",
            "Precision_Score :  0.55\n",
            "F1_Score        :  0.56\n"
          ]
        }
      ]
    },
    {
      "cell_type": "code",
      "source": [
        "# Classification Report\n",
        "\n",
        "print(classification_report(y_test, pred_kn))"
      ],
      "metadata": {
        "colab": {
          "base_uri": "https://localhost:8080/"
        },
        "id": "X5xmxCQBFCTf",
        "outputId": "6976b833-af7b-4471-f5ef-f24caa95ee90"
      },
      "execution_count": 41,
      "outputs": [
        {
          "output_type": "stream",
          "name": "stdout",
          "text": [
            "              precision    recall  f1-score   support\n",
            "\n",
            "           0       0.54      0.44      0.49       133\n",
            "           1       0.35      0.41      0.38       154\n",
            "           2       0.42      0.35      0.38       209\n",
            "           3       0.74      0.83      0.78       385\n",
            "           4       0.00      0.00      0.00        19\n",
            "\n",
            "    accuracy                           0.57       900\n",
            "   macro avg       0.41      0.41      0.40       900\n",
            "weighted avg       0.55      0.57      0.56       900\n",
            "\n"
          ]
        }
      ]
    },
    {
      "cell_type": "code",
      "source": [
        "# Confusion_matrix\n",
        "\n",
        "make_confusion_matrix(model_kn, y_test)"
      ],
      "metadata": {
        "colab": {
          "base_uri": "https://localhost:8080/",
          "height": 446
        },
        "id": "CaCJV1jGccBD",
        "outputId": "9d2afb78-3ffc-49c5-b5d1-b9a239641702"
      },
      "execution_count": 42,
      "outputs": [
        {
          "output_type": "display_data",
          "data": {
            "text/plain": [
              "<Figure size 720x504 with 2 Axes>"
            ],
            "image/png": "[encoded data removed]"
          },
          "metadata": {
            "needs_background": "light"
          }
        }
      ]
    },
    {
      "cell_type": "markdown",
      "source": [
        "# **Observations - KNeighborsClassifier**\n",
        "\n",
        "* The model performance is > 50%.\n",
        "\n",
        "* The model can able to explaine the outcome variable upto 57% which is  \n",
        "~= **LR**.\n",
        "\n",
        "> **Weighted_Average**\n",
        "\n",
        "* The model has 57% capability of predicting 0th class.\n",
        "\n",
        "* The model has 55% capability of predicting 1st class.\n",
        "\n",
        "Results\n",
        "\n",
        "* The **KNeighborsClassifier** model performs .2% better than **LogisticRegression** and less tham **Naive_Bayes, DecisionTreeClassifier and Random_Forest**"
      ],
      "metadata": {
        "id": "L0oIdE1TFLf3"
      }
    },
    {
      "cell_type": "code",
      "source": [
        "# Storing accuracy value of LogisticRegression\n",
        "\n",
        "acc['KNeighbors'] = accuracy_score(y_test, pred_kn).round(2)"
      ],
      "metadata": {
        "id": "YkL3HK_1HKlr"
      },
      "execution_count": 43,
      "outputs": []
    },
    {
      "cell_type": "code",
      "source": [
        "# Sorting the accuracy scores\n",
        "\n",
        "accuracy = dict(sorted(acc.items(), key=lambda x : x[1]))\n",
        "accuracy"
      ],
      "metadata": {
        "colab": {
          "base_uri": "https://localhost:8080/"
        },
        "id": "rvThNhhNIAuD",
        "outputId": "f5640cbb-dc3d-49d3-c72e-8898ad1618f5"
      },
      "execution_count": 44,
      "outputs": [
        {
          "output_type": "execute_result",
          "data": {
            "text/plain": [
              "{'LOG_Regression': 0.55,\n",
              " 'KNeighbors': 0.57,\n",
              " 'Naive_Bayes': 0.81,\n",
              " 'RandomForest': 0.83,\n",
              " 'DecisionTree': 0.85}"
            ]
          },
          "metadata": {},
          "execution_count": 44
        }
      ]
    },
    {
      "cell_type": "code",
      "source": [
        "# Plotting accuracy scores of the respective models each.\n",
        "\n",
        "colors = ['#1f77b4', '#ff7f0e', '#2ca02c', '#d62728', '#9467bd', '#8c564b', '#e377c2']\n",
        "\n",
        "sb.set(style='darkgrid')\n",
        "names = list(accuracy.keys())\n",
        "values = list(accuracy.values())\n",
        "plt.figure(figsize = (15,6))\n",
        "plt.title('Accuracy - Models')\n",
        "plt.bar(x = names, height = values, tick_label = names, color = colors)\n",
        "plt.xlabel('Model')\n",
        "plt.ylabel('Accuracy')\n",
        "plt.show()"
      ],
      "metadata": {
        "colab": {
          "base_uri": "https://localhost:8080/",
          "height": 410
        },
        "id": "5t09-1yRHS3w",
        "outputId": "d8bd3cc3-07fa-4bba-f15f-b1c5e536a93e"
      },
      "execution_count": 45,
      "outputs": [
        {
          "output_type": "display_data",
          "data": {
            "text/plain": [
              "<Figure size 1080x432 with 1 Axes>"
            ],
            "image/png": "[encoded data removed]"
          },
          "metadata": {}
        }
      ]
    },
    {
      "cell_type": "markdown",
      "source": [
        "# **Conclusions**\n",
        "\n",
        "* From this chart we can see the Accuracy values for 5 different models.\n",
        "\n",
        "* The models which gives better result are  **RandomForest,Naive_bayes and DecisionTree** having scores > **80%**.\n",
        "\n",
        "* The models which give average performance are **Logistic and Knn** whose scores are < **60**%\n",
        "\n",
        "# **Model_Conclusions**\n",
        "\n",
        "* DTC is not a good approach because earlier we noticed that model seems to be overfitted.\n",
        "\n",
        "* Finally, **RandomForest or Naive bayes** can be used to build the data to get better prediction and performance.\n",
        "\n",
        "* From the confusion matrix Naive_bayes can be considered to build.\n",
        "\n"
      ],
      "metadata": {
        "id": "8GHEqguVN-R-"
      }
    },
    {
      "cell_type": "markdown",
      "source": [
        "# **EDA**"
      ],
      "metadata": {
        "id": "Wkf0O44NfWhr"
      }
    },
    {
      "cell_type": "code",
      "source": [
        "# Plotting average cost of building grades wise\n",
        "\n",
        "plt.figure(figsize = (25,10))\n",
        "\n",
        "plt.subplot(241)\n",
        "plt.title(\"Average_Cost - Grade\")\n",
        "plt.ylabel('Average_Cost')\n",
        "ax = df_copy.groupby('Grade')['Expected price'].mean().round().plot(kind = 'bar', color = colors)\n",
        "for container in ax.containers:\n",
        "    ax.bar_label(container,label_type='edge')\n",
        "\n",
        "# Plotting average cost of building area wise\n",
        "\n",
        "plt.subplot(242)\n",
        "plt.title(\"Area - Grade\")\n",
        "plt.ylabel('Average_Cost')\n",
        "ax = df_copy.groupby('Grade')['Area(total)'].mean().round().plot(kind = 'bar', color = colors)\n",
        "for container in ax.containers:\n",
        "    ax.bar_label(container,label_type='edge')\n",
        "\n",
        "# Plotting average API of building Grade wise\n",
        "\n",
        "plt.subplot(243)\n",
        "# plt.figure(figsize = (6,6))\n",
        "plt.title(\"API - Grade\")\n",
        "plt.ylabel('Average_API')\n",
        "ax = df_copy.groupby('Grade')['API'].mean().round().plot(kind = 'bar', color = colors)\n",
        "for container in ax.containers:\n",
        "    ax.bar_label(container,label_type='edge')\n",
        "\n",
        "# Plotting average Anb of building Grade wise\n",
        "\n",
        "plt.subplot(244)\n",
        "# plt.figure(figsize = (6,6))\n",
        "plt.title(\"ANB - Grade\")\n",
        "plt.ylabel('Average_ANB')\n",
        "ax = df_copy.groupby('Grade')['ANB'].mean().round().plot(kind = 'bar', color = colors)\n",
        "for container in ax.containers:\n",
        "    ax.bar_label(container,label_type='edge')\n",
        "\n",
        "# Plotting Ratio of Roof Present or not \n",
        "\n",
        "plt.subplot(245)\n",
        "plt.title('Ratio of Roof Present or not')\n",
        "df_copy['roof'].value_counts().plot(kind = 'pie', autopct = '%.2f', explode = [0,0.1], startangle = 45, colors = ['cyan','grey'])\n",
        "\n",
        "plt.show()"
      ],
      "metadata": {
        "colab": {
          "base_uri": "https://localhost:8080/",
          "height": 507
        },
        "collapsed": true,
        "id": "4yH1NPS6fc_u",
        "outputId": "f234f15c-af8b-4c0c-fb9b-a86db4a1ad5e"
      },
      "execution_count": 46,
      "outputs": [
        {
          "output_type": "display_data",
          "data": {
            "text/plain": [
              "<Figure size 1800x720 with 5 Axes>"
            ],
            "image/png": "[encoded data removed]"
          },
          "metadata": {}
        }
      ]
    },
    {
      "cell_type": "markdown",
      "source": [
        "# Observations\n",
        "\n",
        "* The average cost of a best grade A & B rooms is > **$4500**\n",
        "\n",
        "* To get a Medium quality rooms the average cost is < **$4000**\n",
        "\n",
        "* To get a cheapest room the average cost is <  **$3500**\n",
        "\n",
        "* The average area for each types of grade rooms are similar\n",
        "\n",
        "* There is a 51% of getting a with roof.\n",
        "\n",
        "* The API values are good for Gardes A,B,C and slight low values for remaining D and E.\n",
        "\n",
        "* The ANB values are good for Gardes A,C and slight low values for remaining B, D and E.\n"
      ],
      "metadata": {
        "id": "2E0jyIfXn-I2"
      }
    },
    {
      "cell_type": "code",
      "source": [],
      "metadata": {
        "id": "ls1azNwDwVKA"
      },
      "execution_count": 46,
      "outputs": []
    }
  ]
}