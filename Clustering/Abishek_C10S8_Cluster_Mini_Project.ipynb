{
  "nbformat": 4,
  "nbformat_minor": 0,
  "metadata": {
    "colab": {
      "provenance": []
    },
    "kernelspec": {
      "name": "python3",
      "display_name": "Python 3"
    },
    "language_info": {
      "name": "python"
    }
  },
  "cells": [
    {
      "cell_type": "code",
      "execution_count": 1,
      "metadata": {
        "id": "QMObOA3XHuPJ",
        "colab": {
          "base_uri": "https://localhost:8080/"
        },
        "outputId": "684c4f04-3932-4a46-bcfa-50e1fa10f950"
      },
      "outputs": [
        {
          "output_type": "stream",
          "name": "stdout",
          "text": [
            "Drive already mounted at /content/drive; to attempt to forcibly remount, call drive.mount(\"/content/drive\", force_remount=True).\n"
          ]
        }
      ],
      "source": [
        "# Mounting the drive\n",
        "\n",
        "from google.colab import drive\n",
        "drive.mount('/content/drive')"
      ]
    },
    {
      "cell_type": "markdown",
      "source": [
        "# **S8_Mini_Project(Clustering)**\n",
        "\n",
        "### Project_Title : Clustering – Mall Customers"
      ],
      "metadata": {
        "id": "RnPchP9wgbyj"
      }
    },
    {
      "cell_type": "code",
      "source": [
        "# For Numerical and Statistical Computations\n",
        "\n",
        "import numpy as np\n",
        "import pandas as pd\n",
        "\n",
        "# For Visulizations\n",
        "\n",
        "import matplotlib.pyplot as plt\n",
        "import seaborn as sb\n",
        "\n",
        "# For Scaling, Encoder and Splitting and score from Sci-Kit\n",
        "\n",
        "from sklearn.preprocessing import StandardScaler, LabelEncoder\n",
        "from sklearn.model_selection import train_test_split\n",
        "\n",
        "from sklearn.metrics import silhouette_score\n",
        "\n",
        "# Warnings\n",
        "\n",
        "import warnings\n",
        "warnings.filterwarnings('ignore')"
      ],
      "metadata": {
        "id": "hcZBpe0bfHPv"
      },
      "execution_count": 2,
      "outputs": []
    },
    {
      "cell_type": "markdown",
      "source": [
        "**Loading the data**"
      ],
      "metadata": {
        "id": "p_4NeuDcgkES"
      }
    },
    {
      "cell_type": "code",
      "source": [
        "# Importing Data\n",
        "\n",
        "df = pd.read_csv('/content/drive/MyDrive/Colab Notebooks/DATASETS/DS3_C6_S3_MallCustomers_Data_Project.csv')\n",
        "\n",
        "# Copy data\n",
        "\n",
        "df_copy = df.copy()"
      ],
      "metadata": {
        "id": "QmhqtIAygNbL"
      },
      "execution_count": 3,
      "outputs": []
    },
    {
      "cell_type": "markdown",
      "source": [
        "**Data Understanding**"
      ],
      "metadata": {
        "id": "aoRIBwbAgx4W"
      }
    },
    {
      "cell_type": "code",
      "source": [
        "# Preview of the data\n",
        "\n",
        "df.head()"
      ],
      "metadata": {
        "colab": {
          "base_uri": "https://localhost:8080/",
          "height": 206
        },
        "id": "TnF0ACzygZc0",
        "outputId": "8de01722-2b2f-4f6e-aaee-e6af912a81fd"
      },
      "execution_count": 4,
      "outputs": [
        {
          "output_type": "execute_result",
          "data": {
            "text/plain": [
              "   CustomerID  Gender  Age  Annual Income (k$)  Spending Score (1-100)\n",
              "0           1    Male   19                  15                      39\n",
              "1           2    Male   21                  15                      81\n",
              "2           3  Female   20                  16                       6\n",
              "3           4  Female   23                  16                      77\n",
              "4           5  Female   31                  17                      40"
            ],
            "text/html": [
              "\n",
              "  <div id=\"df-8d27209c-b183-4664-9c96-9b5c0aa2c89a\">\n",
              "    <div class=\"colab-df-container\">\n",
              "      <div>\n",
              "<style scoped>\n",
              "    .dataframe tbody tr th:only-of-type {\n",
              "        vertical-align: middle;\n",
              "    }\n",
              "\n",
              "    .dataframe tbody tr th {\n",
              "        vertical-align: top;\n",
              "    }\n",
              "\n",
              "    .dataframe thead th {\n",
              "        text-align: right;\n",
              "    }\n",
              "</style>\n",
              "<table border=\"1\" class=\"dataframe\">\n",
              "  <thead>\n",
              "    <tr style=\"text-align: right;\">\n",
              "      <th></th>\n",
              "      <th>CustomerID</th>\n",
              "      <th>Gender</th>\n",
              "      <th>Age</th>\n",
              "      <th>Annual Income (k$)</th>\n",
              "      <th>Spending Score (1-100)</th>\n",
              "    </tr>\n",
              "  </thead>\n",
              "  <tbody>\n",
              "    <tr>\n",
              "      <th>0</th>\n",
              "      <td>1</td>\n",
              "      <td>Male</td>\n",
              "      <td>19</td>\n",
              "      <td>15</td>\n",
              "      <td>39</td>\n",
              "    </tr>\n",
              "    <tr>\n",
              "      <th>1</th>\n",
              "      <td>2</td>\n",
              "      <td>Male</td>\n",
              "      <td>21</td>\n",
              "      <td>15</td>\n",
              "      <td>81</td>\n",
              "    </tr>\n",
              "    <tr>\n",
              "      <th>2</th>\n",
              "      <td>3</td>\n",
              "      <td>Female</td>\n",
              "      <td>20</td>\n",
              "      <td>16</td>\n",
              "      <td>6</td>\n",
              "    </tr>\n",
              "    <tr>\n",
              "      <th>3</th>\n",
              "      <td>4</td>\n",
              "      <td>Female</td>\n",
              "      <td>23</td>\n",
              "      <td>16</td>\n",
              "      <td>77</td>\n",
              "    </tr>\n",
              "    <tr>\n",
              "      <th>4</th>\n",
              "      <td>5</td>\n",
              "      <td>Female</td>\n",
              "      <td>31</td>\n",
              "      <td>17</td>\n",
              "      <td>40</td>\n",
              "    </tr>\n",
              "  </tbody>\n",
              "</table>\n",
              "</div>\n",
              "      <button class=\"colab-df-convert\" onclick=\"convertToInteractive('df-8d27209c-b183-4664-9c96-9b5c0aa2c89a')\"\n",
              "              title=\"Convert this dataframe to an interactive table.\"\n",
              "              style=\"display:none;\">\n",
              "        \n",
              "  <svg xmlns=\"http://www.w3.org/2000/svg\" height=\"24px\"viewBox=\"0 0 24 24\"\n",
              "       width=\"24px\">\n",
              "    <path d=\"M0 0h24v24H0V0z\" fill=\"none\"/>\n",
              "    <path d=\"M18.56 5.44l.94 2.06.94-2.06 2.06-.94-2.06-.94-.94-2.06-.94 2.06-2.06.94zm-11 1L8.5 8.5l.94-2.06 2.06-.94-2.06-.94L8.5 2.5l-.94 2.06-2.06.94zm10 10l.94 2.06.94-2.06 2.06-.94-2.06-.94-.94-2.06-.94 2.06-2.06.94z\"/><path d=\"M17.41 7.96l-1.37-1.37c-.4-.4-.92-.59-1.43-.59-.52 0-1.04.2-1.43.59L10.3 9.45l-7.72 7.72c-.78.78-.78 2.05 0 2.83L4 21.41c.39.39.9.59 1.41.59.51 0 1.02-.2 1.41-.59l7.78-7.78 2.81-2.81c.8-.78.8-2.07 0-2.86zM5.41 20L4 18.59l7.72-7.72 1.47 1.35L5.41 20z\"/>\n",
              "  </svg>\n",
              "      </button>\n",
              "      \n",
              "  <style>\n",
              "    .colab-df-container {\n",
              "      display:flex;\n",
              "      flex-wrap:wrap;\n",
              "      gap: 12px;\n",
              "    }\n",
              "\n",
              "    .colab-df-convert {\n",
              "      background-color: #E8F0FE;\n",
              "      border: none;\n",
              "      border-radius: 50%;\n",
              "      cursor: pointer;\n",
              "      display: none;\n",
              "      fill: #1967D2;\n",
              "      height: 32px;\n",
              "      padding: 0 0 0 0;\n",
              "      width: 32px;\n",
              "    }\n",
              "\n",
              "    .colab-df-convert:hover {\n",
              "      background-color: #E2EBFA;\n",
              "      box-shadow: 0px 1px 2px rgba(60, 64, 67, 0.3), 0px 1px 3px 1px rgba(60, 64, 67, 0.15);\n",
              "      fill: #174EA6;\n",
              "    }\n",
              "\n",
              "    [theme=dark] .colab-df-convert {\n",
              "      background-color: #3B4455;\n",
              "      fill: #D2E3FC;\n",
              "    }\n",
              "\n",
              "    [theme=dark] .colab-df-convert:hover {\n",
              "      background-color: #434B5C;\n",
              "      box-shadow: 0px 1px 3px 1px rgba(0, 0, 0, 0.15);\n",
              "      filter: drop-shadow(0px 1px 2px rgba(0, 0, 0, 0.3));\n",
              "      fill: #FFFFFF;\n",
              "    }\n",
              "  </style>\n",
              "\n",
              "      <script>\n",
              "        const buttonEl =\n",
              "          document.querySelector('#df-8d27209c-b183-4664-9c96-9b5c0aa2c89a button.colab-df-convert');\n",
              "        buttonEl.style.display =\n",
              "          google.colab.kernel.accessAllowed ? 'block' : 'none';\n",
              "\n",
              "        async function convertToInteractive(key) {\n",
              "          const element = document.querySelector('#df-8d27209c-b183-4664-9c96-9b5c0aa2c89a');\n",
              "          const dataTable =\n",
              "            await google.colab.kernel.invokeFunction('convertToInteractive',\n",
              "                                                     [key], {});\n",
              "          if (!dataTable) return;\n",
              "\n",
              "          const docLinkHtml = 'Like what you see? Visit the ' +\n",
              "            '<a target=\"_blank\" href=https://colab.research.google.com/notebooks/data_table.ipynb>data table notebook</a>'\n",
              "            + ' to learn more about interactive tables.';\n",
              "          element.innerHTML = '';\n",
              "          dataTable['output_type'] = 'display_data';\n",
              "          await google.colab.output.renderOutput(dataTable, element);\n",
              "          const docLink = document.createElement('div');\n",
              "          docLink.innerHTML = docLinkHtml;\n",
              "          element.appendChild(docLink);\n",
              "        }\n",
              "      </script>\n",
              "    </div>\n",
              "  </div>\n",
              "  "
            ]
          },
          "metadata": {},
          "execution_count": 4
        }
      ]
    },
    {
      "cell_type": "code",
      "source": [
        "# Shape of the data\n",
        "\n",
        "print(f\"Structure \\n\\nRows : {df.shape[0]} and Columns : {df.shape[1]}\")"
      ],
      "metadata": {
        "colab": {
          "base_uri": "https://localhost:8080/"
        },
        "id": "Df42xUdQg-zS",
        "outputId": "814002a8-d499-47ca-9525-8f23226e4522"
      },
      "execution_count": 5,
      "outputs": [
        {
          "output_type": "stream",
          "name": "stdout",
          "text": [
            "Structure \n",
            "\n",
            "Rows : 200 and Columns : 5\n"
          ]
        }
      ]
    },
    {
      "cell_type": "code",
      "source": [
        "# Datatypes info\n",
        "\n",
        "df.info()"
      ],
      "metadata": {
        "colab": {
          "base_uri": "https://localhost:8080/"
        },
        "id": "v0dwf-YAg-vY",
        "outputId": "ba25fe4e-84ee-465e-bce2-8b1fdf96a0f3"
      },
      "execution_count": 6,
      "outputs": [
        {
          "output_type": "stream",
          "name": "stdout",
          "text": [
            "<class 'pandas.core.frame.DataFrame'>\n",
            "RangeIndex: 200 entries, 0 to 199\n",
            "Data columns (total 5 columns):\n",
            " #   Column                  Non-Null Count  Dtype \n",
            "---  ------                  --------------  ----- \n",
            " 0   CustomerID              200 non-null    int64 \n",
            " 1   Gender                  200 non-null    object\n",
            " 2   Age                     200 non-null    int64 \n",
            " 3   Annual Income (k$)      200 non-null    int64 \n",
            " 4   Spending Score (1-100)  200 non-null    int64 \n",
            "dtypes: int64(4), object(1)\n",
            "memory usage: 7.9+ KB\n"
          ]
        }
      ]
    },
    {
      "cell_type": "code",
      "source": [
        "# Descriptive analysis\n",
        "\n",
        "df.describe().T"
      ],
      "metadata": {
        "colab": {
          "base_uri": "https://localhost:8080/",
          "height": 175
        },
        "id": "hyB-dBV-g-rI",
        "outputId": "860b1d7c-fb80-4b4d-daba-e3f6695628f1"
      },
      "execution_count": 7,
      "outputs": [
        {
          "output_type": "execute_result",
          "data": {
            "text/plain": [
              "                        count    mean        std   min    25%    50%     75%  \\\n",
              "CustomerID              200.0  100.50  57.879185   1.0  50.75  100.5  150.25   \n",
              "Age                     200.0   38.85  13.969007  18.0  28.75   36.0   49.00   \n",
              "Annual Income (k$)      200.0   60.56  26.264721  15.0  41.50   61.5   78.00   \n",
              "Spending Score (1-100)  200.0   50.20  25.823522   1.0  34.75   50.0   73.00   \n",
              "\n",
              "                          max  \n",
              "CustomerID              200.0  \n",
              "Age                      70.0  \n",
              "Annual Income (k$)      137.0  \n",
              "Spending Score (1-100)   99.0  "
            ],
            "text/html": [
              "\n",
              "  <div id=\"df-4a40f96a-109d-4424-9048-75186389bd9a\">\n",
              "    <div class=\"colab-df-container\">\n",
              "      <div>\n",
              "<style scoped>\n",
              "    .dataframe tbody tr th:only-of-type {\n",
              "        vertical-align: middle;\n",
              "    }\n",
              "\n",
              "    .dataframe tbody tr th {\n",
              "        vertical-align: top;\n",
              "    }\n",
              "\n",
              "    .dataframe thead th {\n",
              "        text-align: right;\n",
              "    }\n",
              "</style>\n",
              "<table border=\"1\" class=\"dataframe\">\n",
              "  <thead>\n",
              "    <tr style=\"text-align: right;\">\n",
              "      <th></th>\n",
              "      <th>count</th>\n",
              "      <th>mean</th>\n",
              "      <th>std</th>\n",
              "      <th>min</th>\n",
              "      <th>25%</th>\n",
              "      <th>50%</th>\n",
              "      <th>75%</th>\n",
              "      <th>max</th>\n",
              "    </tr>\n",
              "  </thead>\n",
              "  <tbody>\n",
              "    <tr>\n",
              "      <th>CustomerID</th>\n",
              "      <td>200.0</td>\n",
              "      <td>100.50</td>\n",
              "      <td>57.879185</td>\n",
              "      <td>1.0</td>\n",
              "      <td>50.75</td>\n",
              "      <td>100.5</td>\n",
              "      <td>150.25</td>\n",
              "      <td>200.0</td>\n",
              "    </tr>\n",
              "    <tr>\n",
              "      <th>Age</th>\n",
              "      <td>200.0</td>\n",
              "      <td>38.85</td>\n",
              "      <td>13.969007</td>\n",
              "      <td>18.0</td>\n",
              "      <td>28.75</td>\n",
              "      <td>36.0</td>\n",
              "      <td>49.00</td>\n",
              "      <td>70.0</td>\n",
              "    </tr>\n",
              "    <tr>\n",
              "      <th>Annual Income (k$)</th>\n",
              "      <td>200.0</td>\n",
              "      <td>60.56</td>\n",
              "      <td>26.264721</td>\n",
              "      <td>15.0</td>\n",
              "      <td>41.50</td>\n",
              "      <td>61.5</td>\n",
              "      <td>78.00</td>\n",
              "      <td>137.0</td>\n",
              "    </tr>\n",
              "    <tr>\n",
              "      <th>Spending Score (1-100)</th>\n",
              "      <td>200.0</td>\n",
              "      <td>50.20</td>\n",
              "      <td>25.823522</td>\n",
              "      <td>1.0</td>\n",
              "      <td>34.75</td>\n",
              "      <td>50.0</td>\n",
              "      <td>73.00</td>\n",
              "      <td>99.0</td>\n",
              "    </tr>\n",
              "  </tbody>\n",
              "</table>\n",
              "</div>\n",
              "      <button class=\"colab-df-convert\" onclick=\"convertToInteractive('df-4a40f96a-109d-4424-9048-75186389bd9a')\"\n",
              "              title=\"Convert this dataframe to an interactive table.\"\n",
              "              style=\"display:none;\">\n",
              "        \n",
              "  <svg xmlns=\"http://www.w3.org/2000/svg\" height=\"24px\"viewBox=\"0 0 24 24\"\n",
              "       width=\"24px\">\n",
              "    <path d=\"M0 0h24v24H0V0z\" fill=\"none\"/>\n",
              "    <path d=\"M18.56 5.44l.94 2.06.94-2.06 2.06-.94-2.06-.94-.94-2.06-.94 2.06-2.06.94zm-11 1L8.5 8.5l.94-2.06 2.06-.94-2.06-.94L8.5 2.5l-.94 2.06-2.06.94zm10 10l.94 2.06.94-2.06 2.06-.94-2.06-.94-.94-2.06-.94 2.06-2.06.94z\"/><path d=\"M17.41 7.96l-1.37-1.37c-.4-.4-.92-.59-1.43-.59-.52 0-1.04.2-1.43.59L10.3 9.45l-7.72 7.72c-.78.78-.78 2.05 0 2.83L4 21.41c.39.39.9.59 1.41.59.51 0 1.02-.2 1.41-.59l7.78-7.78 2.81-2.81c.8-.78.8-2.07 0-2.86zM5.41 20L4 18.59l7.72-7.72 1.47 1.35L5.41 20z\"/>\n",
              "  </svg>\n",
              "      </button>\n",
              "      \n",
              "  <style>\n",
              "    .colab-df-container {\n",
              "      display:flex;\n",
              "      flex-wrap:wrap;\n",
              "      gap: 12px;\n",
              "    }\n",
              "\n",
              "    .colab-df-convert {\n",
              "      background-color: #E8F0FE;\n",
              "      border: none;\n",
              "      border-radius: 50%;\n",
              "      cursor: pointer;\n",
              "      display: none;\n",
              "      fill: #1967D2;\n",
              "      height: 32px;\n",
              "      padding: 0 0 0 0;\n",
              "      width: 32px;\n",
              "    }\n",
              "\n",
              "    .colab-df-convert:hover {\n",
              "      background-color: #E2EBFA;\n",
              "      box-shadow: 0px 1px 2px rgba(60, 64, 67, 0.3), 0px 1px 3px 1px rgba(60, 64, 67, 0.15);\n",
              "      fill: #174EA6;\n",
              "    }\n",
              "\n",
              "    [theme=dark] .colab-df-convert {\n",
              "      background-color: #3B4455;\n",
              "      fill: #D2E3FC;\n",
              "    }\n",
              "\n",
              "    [theme=dark] .colab-df-convert:hover {\n",
              "      background-color: #434B5C;\n",
              "      box-shadow: 0px 1px 3px 1px rgba(0, 0, 0, 0.15);\n",
              "      filter: drop-shadow(0px 1px 2px rgba(0, 0, 0, 0.3));\n",
              "      fill: #FFFFFF;\n",
              "    }\n",
              "  </style>\n",
              "\n",
              "      <script>\n",
              "        const buttonEl =\n",
              "          document.querySelector('#df-4a40f96a-109d-4424-9048-75186389bd9a button.colab-df-convert');\n",
              "        buttonEl.style.display =\n",
              "          google.colab.kernel.accessAllowed ? 'block' : 'none';\n",
              "\n",
              "        async function convertToInteractive(key) {\n",
              "          const element = document.querySelector('#df-4a40f96a-109d-4424-9048-75186389bd9a');\n",
              "          const dataTable =\n",
              "            await google.colab.kernel.invokeFunction('convertToInteractive',\n",
              "                                                     [key], {});\n",
              "          if (!dataTable) return;\n",
              "\n",
              "          const docLinkHtml = 'Like what you see? Visit the ' +\n",
              "            '<a target=\"_blank\" href=https://colab.research.google.com/notebooks/data_table.ipynb>data table notebook</a>'\n",
              "            + ' to learn more about interactive tables.';\n",
              "          element.innerHTML = '';\n",
              "          dataTable['output_type'] = 'display_data';\n",
              "          await google.colab.output.renderOutput(dataTable, element);\n",
              "          const docLink = document.createElement('div');\n",
              "          docLink.innerHTML = docLinkHtml;\n",
              "          element.appendChild(docLink);\n",
              "        }\n",
              "      </script>\n",
              "    </div>\n",
              "  </div>\n",
              "  "
            ]
          },
          "metadata": {},
          "execution_count": 7
        }
      ]
    },
    {
      "cell_type": "code",
      "source": [
        "# Columns in df\n",
        "\n",
        "col = list(df.columns)\n",
        "col"
      ],
      "metadata": {
        "colab": {
          "base_uri": "https://localhost:8080/"
        },
        "id": "LrPWWPezg-me",
        "outputId": "c06782af-1dd2-422b-f083-5751c8019ae5"
      },
      "execution_count": 8,
      "outputs": [
        {
          "output_type": "execute_result",
          "data": {
            "text/plain": [
              "['CustomerID', 'Gender', 'Age', 'Annual Income (k$)', 'Spending Score (1-100)']"
            ]
          },
          "metadata": {},
          "execution_count": 8
        }
      ]
    },
    {
      "cell_type": "markdown",
      "source": [
        "**Observations**\n",
        "\n",
        "1.   There are totally **200 Rows** and **5 Columns** in the data given, which \n",
        "contains small amount of observations.\n",
        "\n",
        "1.   There is one catgeorical column - Gender and some column names are not     proper.\n",
        "\n",
        "1.   Seems to be all rows are filled and no missing values.\n",
        "\n",
        "1.   From **Descriptive**\n",
        "\n",
        "    1.  It is clear that the STD of all numerical columns fall under the region of mean value.\n",
        "    2.  T he impact of outliers in the data seems to be not much.\n",
        "\n"
      ],
      "metadata": {
        "id": "r2hCHk5_jEGA"
      }
    },
    {
      "cell_type": "markdown",
      "source": [
        "**Data PreProcessing**"
      ],
      "metadata": {
        "id": "Vv60-ppnhFIZ"
      }
    },
    {
      "cell_type": "code",
      "source": [
        "# Changing column names and case\n",
        "\n",
        "df.rename(columns = {'Annual Income (k$)' : 'Annual_Income', 'Spending Score (1-100)' : 'Spending_score'}, inplace = True)\n",
        "\n",
        "df.columns = df.columns.str.lower()"
      ],
      "metadata": {
        "id": "gFkfDVsphHW6"
      },
      "execution_count": 9,
      "outputs": []
    },
    {
      "cell_type": "code",
      "source": [
        "# Checking for null values\n",
        "\n",
        "df.isnull().sum()"
      ],
      "metadata": {
        "colab": {
          "base_uri": "https://localhost:8080/"
        },
        "id": "eaT5jBSQqNZJ",
        "outputId": "8bffc6e1-d1e4-4642-e7d0-d99986711d0b"
      },
      "execution_count": 10,
      "outputs": [
        {
          "output_type": "execute_result",
          "data": {
            "text/plain": [
              "customerid        0\n",
              "gender            0\n",
              "age               0\n",
              "annual_income     0\n",
              "spending_score    0\n",
              "dtype: int64"
            ]
          },
          "metadata": {},
          "execution_count": 10
        }
      ]
    },
    {
      "cell_type": "code",
      "source": [
        "# Dropping CustomerID because it contains 200 unique values\n",
        "\n",
        "print(\"No of unique values in customerid = \", df['customerid'].nunique())\n",
        "\n",
        "df.drop('customerid', axis = 1, inplace = True)"
      ],
      "metadata": {
        "colab": {
          "base_uri": "https://localhost:8080/"
        },
        "id": "kbh4IdPeqUH3",
        "outputId": "e44420f5-4e54-447f-968c-64ecaf5e1019"
      },
      "execution_count": 11,
      "outputs": [
        {
          "output_type": "stream",
          "name": "stdout",
          "text": [
            "No of unique values in customerid =  200\n"
          ]
        }
      ]
    },
    {
      "cell_type": "code",
      "source": [
        "# Encoding the general column\n",
        "\n",
        "df['gender'] = LabelEncoder().fit_transform(df['gender'])"
      ],
      "metadata": {
        "id": "p10s8HrVuWH1"
      },
      "execution_count": 12,
      "outputs": []
    },
    {
      "cell_type": "code",
      "source": [
        "# Preview of the data after processed\n",
        "\n",
        "df.head()"
      ],
      "metadata": {
        "colab": {
          "base_uri": "https://localhost:8080/",
          "height": 206
        },
        "id": "6PqbJZWftujp",
        "outputId": "76486fc5-b257-4246-e576-8cff2064260a"
      },
      "execution_count": 13,
      "outputs": [
        {
          "output_type": "execute_result",
          "data": {
            "text/plain": [
              "   gender  age  annual_income  spending_score\n",
              "0       1   19             15              39\n",
              "1       1   21             15              81\n",
              "2       0   20             16               6\n",
              "3       0   23             16              77\n",
              "4       0   31             17              40"
            ],
            "text/html": [
              "\n",
              "  <div id=\"df-e1652e15-eb93-43d9-a9a9-17b443f2cd38\">\n",
              "    <div class=\"colab-df-container\">\n",
              "      <div>\n",
              "<style scoped>\n",
              "    .dataframe tbody tr th:only-of-type {\n",
              "        vertical-align: middle;\n",
              "    }\n",
              "\n",
              "    .dataframe tbody tr th {\n",
              "        vertical-align: top;\n",
              "    }\n",
              "\n",
              "    .dataframe thead th {\n",
              "        text-align: right;\n",
              "    }\n",
              "</style>\n",
              "<table border=\"1\" class=\"dataframe\">\n",
              "  <thead>\n",
              "    <tr style=\"text-align: right;\">\n",
              "      <th></th>\n",
              "      <th>gender</th>\n",
              "      <th>age</th>\n",
              "      <th>annual_income</th>\n",
              "      <th>spending_score</th>\n",
              "    </tr>\n",
              "  </thead>\n",
              "  <tbody>\n",
              "    <tr>\n",
              "      <th>0</th>\n",
              "      <td>1</td>\n",
              "      <td>19</td>\n",
              "      <td>15</td>\n",
              "      <td>39</td>\n",
              "    </tr>\n",
              "    <tr>\n",
              "      <th>1</th>\n",
              "      <td>1</td>\n",
              "      <td>21</td>\n",
              "      <td>15</td>\n",
              "      <td>81</td>\n",
              "    </tr>\n",
              "    <tr>\n",
              "      <th>2</th>\n",
              "      <td>0</td>\n",
              "      <td>20</td>\n",
              "      <td>16</td>\n",
              "      <td>6</td>\n",
              "    </tr>\n",
              "    <tr>\n",
              "      <th>3</th>\n",
              "      <td>0</td>\n",
              "      <td>23</td>\n",
              "      <td>16</td>\n",
              "      <td>77</td>\n",
              "    </tr>\n",
              "    <tr>\n",
              "      <th>4</th>\n",
              "      <td>0</td>\n",
              "      <td>31</td>\n",
              "      <td>17</td>\n",
              "      <td>40</td>\n",
              "    </tr>\n",
              "  </tbody>\n",
              "</table>\n",
              "</div>\n",
              "      <button class=\"colab-df-convert\" onclick=\"convertToInteractive('df-e1652e15-eb93-43d9-a9a9-17b443f2cd38')\"\n",
              "              title=\"Convert this dataframe to an interactive table.\"\n",
              "              style=\"display:none;\">\n",
              "        \n",
              "  <svg xmlns=\"http://www.w3.org/2000/svg\" height=\"24px\"viewBox=\"0 0 24 24\"\n",
              "       width=\"24px\">\n",
              "    <path d=\"M0 0h24v24H0V0z\" fill=\"none\"/>\n",
              "    <path d=\"M18.56 5.44l.94 2.06.94-2.06 2.06-.94-2.06-.94-.94-2.06-.94 2.06-2.06.94zm-11 1L8.5 8.5l.94-2.06 2.06-.94-2.06-.94L8.5 2.5l-.94 2.06-2.06.94zm10 10l.94 2.06.94-2.06 2.06-.94-2.06-.94-.94-2.06-.94 2.06-2.06.94z\"/><path d=\"M17.41 7.96l-1.37-1.37c-.4-.4-.92-.59-1.43-.59-.52 0-1.04.2-1.43.59L10.3 9.45l-7.72 7.72c-.78.78-.78 2.05 0 2.83L4 21.41c.39.39.9.59 1.41.59.51 0 1.02-.2 1.41-.59l7.78-7.78 2.81-2.81c.8-.78.8-2.07 0-2.86zM5.41 20L4 18.59l7.72-7.72 1.47 1.35L5.41 20z\"/>\n",
              "  </svg>\n",
              "      </button>\n",
              "      \n",
              "  <style>\n",
              "    .colab-df-container {\n",
              "      display:flex;\n",
              "      flex-wrap:wrap;\n",
              "      gap: 12px;\n",
              "    }\n",
              "\n",
              "    .colab-df-convert {\n",
              "      background-color: #E8F0FE;\n",
              "      border: none;\n",
              "      border-radius: 50%;\n",
              "      cursor: pointer;\n",
              "      display: none;\n",
              "      fill: #1967D2;\n",
              "      height: 32px;\n",
              "      padding: 0 0 0 0;\n",
              "      width: 32px;\n",
              "    }\n",
              "\n",
              "    .colab-df-convert:hover {\n",
              "      background-color: #E2EBFA;\n",
              "      box-shadow: 0px 1px 2px rgba(60, 64, 67, 0.3), 0px 1px 3px 1px rgba(60, 64, 67, 0.15);\n",
              "      fill: #174EA6;\n",
              "    }\n",
              "\n",
              "    [theme=dark] .colab-df-convert {\n",
              "      background-color: #3B4455;\n",
              "      fill: #D2E3FC;\n",
              "    }\n",
              "\n",
              "    [theme=dark] .colab-df-convert:hover {\n",
              "      background-color: #434B5C;\n",
              "      box-shadow: 0px 1px 3px 1px rgba(0, 0, 0, 0.15);\n",
              "      filter: drop-shadow(0px 1px 2px rgba(0, 0, 0, 0.3));\n",
              "      fill: #FFFFFF;\n",
              "    }\n",
              "  </style>\n",
              "\n",
              "      <script>\n",
              "        const buttonEl =\n",
              "          document.querySelector('#df-e1652e15-eb93-43d9-a9a9-17b443f2cd38 button.colab-df-convert');\n",
              "        buttonEl.style.display =\n",
              "          google.colab.kernel.accessAllowed ? 'block' : 'none';\n",
              "\n",
              "        async function convertToInteractive(key) {\n",
              "          const element = document.querySelector('#df-e1652e15-eb93-43d9-a9a9-17b443f2cd38');\n",
              "          const dataTable =\n",
              "            await google.colab.kernel.invokeFunction('convertToInteractive',\n",
              "                                                     [key], {});\n",
              "          if (!dataTable) return;\n",
              "\n",
              "          const docLinkHtml = 'Like what you see? Visit the ' +\n",
              "            '<a target=\"_blank\" href=https://colab.research.google.com/notebooks/data_table.ipynb>data table notebook</a>'\n",
              "            + ' to learn more about interactive tables.';\n",
              "          element.innerHTML = '';\n",
              "          dataTable['output_type'] = 'display_data';\n",
              "          await google.colab.output.renderOutput(dataTable, element);\n",
              "          const docLink = document.createElement('div');\n",
              "          docLink.innerHTML = docLinkHtml;\n",
              "          element.appendChild(docLink);\n",
              "        }\n",
              "      </script>\n",
              "    </div>\n",
              "  </div>\n",
              "  "
            ]
          },
          "metadata": {},
          "execution_count": 13
        }
      ]
    },
    {
      "cell_type": "markdown",
      "source": [
        "# Observations\n",
        "\n",
        "* Now the data is preprocessed.\n",
        "\n",
        "* The data is fully converted into numeric format.\n",
        "\n",
        "* All the columns are changes to uniform case."
      ],
      "metadata": {
        "id": "Fbxzlu3Uuvq4"
      }
    },
    {
      "cell_type": "markdown",
      "source": [
        "# **EDA**"
      ],
      "metadata": {
        "id": "fUbLay1_v6fy"
      }
    },
    {
      "cell_type": "markdown",
      "source": [
        "**How Average_income and spending score plays in gender category**"
      ],
      "metadata": {
        "id": "fDrOMfPL3h0x"
      }
    },
    {
      "cell_type": "code",
      "source": [
        "plt.figure(figsize = (15,4))\n",
        "sb.set(style='darkgrid')\n",
        "colors = ['#1f77b4', '#ff7f0e', '#2ca02c', '#d62728', '#9467bd', '#8c564b', '#e377c2']\n",
        "\n",
        "plt.subplot(121)\n",
        "plt.title('Average_Spending _Score - Gender')\n",
        "df_copy.groupby('Gender')['Spending Score (1-100)'].mean().plot(kind = 'bar', ylabel = 'Spending Score (1-100)' , xlabel = 'Gender', color = ['#2ca02c', '#d62728'])\n",
        "\n",
        "plt.subplot(122)\n",
        "plt.title('Average_Income $ - Gender')\n",
        "df_copy.groupby('Gender')['Annual Income (k$)'].mean().plot(kind = 'bar', ylabel = 'Average_Income $' , xlabel = 'Gender', color = ['#2ca02c', '#d62728'])\n",
        "\n",
        "plt.show()"
      ],
      "metadata": {
        "colab": {
          "base_uri": "https://localhost:8080/",
          "height": 331
        },
        "id": "ewOmqseIwVBP",
        "outputId": "0951e4a9-4f9a-4585-b151-fb224a0c1083"
      },
      "execution_count": 14,
      "outputs": [
        {
          "output_type": "display_data",
          "data": {
            "text/plain": [
              "<Figure size 1080x288 with 2 Axes>"
            ],
            "image/png": "[encoded data removed]"
          },
          "metadata": {
            "needs_background": "light"
          }
        }
      ]
    },
    {
      "cell_type": "markdown",
      "source": [
        "# **Observations**\n",
        "\n",
        "* The average spending score and annual income of **women** is approximately   equal > **50$**.\n",
        "\n",
        "* The average annual income of **men** is > **60$** whereas his spending score is < than womens average spending score.\n",
        "* Womens spending is high but not mens.\n",
        "* Mens annual income is high but not womens.\n",
        "* both spending scores are < than their income."
      ],
      "metadata": {
        "id": "Ga4_7qta4KF2"
      }
    },
    {
      "cell_type": "markdown",
      "source": [
        "**How Age is impacting in Spending Score and annual income**"
      ],
      "metadata": {
        "id": "iYHh2lPZ3vBs"
      }
    },
    {
      "cell_type": "code",
      "source": [
        "# Setting age bins and colors and figure size\n",
        "plt.figure(figsize = (20,4))\n",
        "sb.set(style='darkgrid')\n",
        "age = (pd.cut(df_copy['Age'], bins =[15, 20, 25, 30, 35, 40, 45, 50, 55, 60, 65, 70, 75]))\n",
        "\n",
        "plt.subplot(121)\n",
        "plt.title('Average_Spending _Score - Age')\n",
        "df_copy.groupby(age)['Spending Score (1-100)'].mean().sort_values().plot(kind = 'bar', ylabel = 'Spending Score (1-100)' , xlabel = 'Age', color = colors)\n",
        "\n",
        "plt.subplot(122)\n",
        "plt.title('Average_Income $ - Age')\n",
        "df_copy.groupby(age)['Annual Income (k$)'].mean().sort_values().plot(kind = 'bar', ylabel = 'Average_Income $' , xlabel = 'Age', color = colors)\n",
        "\n",
        "plt.show()"
      ],
      "metadata": {
        "colab": {
          "base_uri": "https://localhost:8080/",
          "height": 334
        },
        "collapsed": true,
        "id": "w43JN-ysv_wK",
        "outputId": "edcde3be-1896-46e6-c73b-d6d70dfcdc7d"
      },
      "execution_count": 15,
      "outputs": [
        {
          "output_type": "display_data",
          "data": {
            "text/plain": [
              "<Figure size 1440x288 with 2 Axes>"
            ],
            "image/png": "[encoded data removed]"
          },
          "metadata": {}
        }
      ]
    },
    {
      "cell_type": "markdown",
      "source": [
        "**Observations**\n",
        "\n",
        "> **Spending Score**\n",
        "\n",
        "* The age groups between 20 - 35 are more like to spend more, having **spending score > 60$**.\n",
        "\n",
        "* The age groups between 40 - 60 are more like to spend less, having **spending score < 35$**.\n",
        "\n",
        "> **Annual Income**\n",
        "\n",
        "* The age groups between 25 - 45 are earning an **average annual income of > 65$**.\n",
        "\n",
        "* The age groups between 20 - 25 and 60 - 65 are earning an **average annual income of < 40$** , also one group are seems to be new and the other group are seems to be retire.\n",
        "\n"
      ],
      "metadata": {
        "id": "0dWrDYxE5yvr"
      }
    },
    {
      "cell_type": "markdown",
      "source": [
        "**Distributions of Annual income and spending score**"
      ],
      "metadata": {
        "id": "UTsasty777MA"
      }
    },
    {
      "cell_type": "code",
      "source": [
        "plt.figure(figsize = (10,3))\n",
        "sb.set(style='darkgrid')\n",
        "\n",
        "plt.subplot(121)\n",
        "plt.title(\"Distributions - Annual income\")\n",
        "sb.boxplot(data = df_copy, x = 'Annual Income (k$)', palette = 'YlGn_r')\n",
        "\n",
        "plt.subplot(122)\n",
        "plt.title(\"Distributions - Spending Score\")\n",
        "sb.boxplot(data = df_copy, x = 'Spending Score (1-100)', palette = 'YlGn_r')\n",
        "\n",
        "plt.show()"
      ],
      "metadata": {
        "colab": {
          "base_uri": "https://localhost:8080/",
          "height": 246
        },
        "id": "tmo2sBkywrU-",
        "outputId": "50d2867c-6413-4aa0-aed4-23f27d087864"
      },
      "execution_count": 16,
      "outputs": [
        {
          "output_type": "display_data",
          "data": {
            "text/plain": [
              "<Figure size 720x216 with 2 Axes>"
            ],
            "image/png": "[encoded data removed]"
          },
          "metadata": {}
        }
      ]
    },
    {
      "cell_type": "markdown",
      "source": [
        "# **Observations**\n",
        "> **Annual Income**\n",
        "* In Annual income there is a outlier falls beyond upper fence.\n",
        "* The data is slight skewed towards positive.\n",
        "* The average of annual income is ~~ to  **60$**.\n",
        "* The data can be scaled.\n",
        "\n",
        "> **Spending Score**\n",
        "* In Spending score all the values are inside the lower and upper fence.\n",
        "* The distributio looks quite perfect.\n",
        "* The average of Spending Score is ~~ to **50$**.\n",
        "\n"
      ],
      "metadata": {
        "id": "vC5xVUNi8jrX"
      }
    },
    {
      "cell_type": "markdown",
      "source": [
        "**Scaling**"
      ],
      "metadata": {
        "id": "eGmWyUHb_px_"
      }
    },
    {
      "cell_type": "code",
      "source": [
        "# Scaling using  StandardScaler\n",
        "\n",
        "df_scaled = StandardScaler().fit_transform(df)\n",
        "\n",
        "# Preview od data after scaled\n",
        "\n",
        "print(df_scaled[:5])"
      ],
      "metadata": {
        "colab": {
          "base_uri": "https://localhost:8080/"
        },
        "collapsed": true,
        "id": "C7CD87op_s71",
        "outputId": "8a220c28-dc5e-451c-df6c-cde369033c1d"
      },
      "execution_count": 17,
      "outputs": [
        {
          "output_type": "stream",
          "name": "stdout",
          "text": [
            "[[ 1.12815215 -1.42456879 -1.73899919 -0.43480148]\n",
            " [ 1.12815215 -1.28103541 -1.73899919  1.19570407]\n",
            " [-0.88640526 -1.3528021  -1.70082976 -1.71591298]\n",
            " [-0.88640526 -1.13750203 -1.70082976  1.04041783]\n",
            " [-0.88640526 -0.56336851 -1.66266033 -0.39597992]]\n"
          ]
        }
      ]
    },
    {
      "cell_type": "markdown",
      "source": [
        "**Model Building**"
      ],
      "metadata": {
        "id": "aBmsFkNr-Obe"
      }
    },
    {
      "cell_type": "code",
      "source": [
        "# For scoring silhouette scores\n",
        "\n",
        "s = {}"
      ],
      "metadata": {
        "id": "iaeiquX2VY0k"
      },
      "execution_count": 18,
      "outputs": []
    },
    {
      "cell_type": "markdown",
      "source": [
        "# **KMEANS_Clustering**"
      ],
      "metadata": {
        "id": "ogmlAAs7IBoM"
      }
    },
    {
      "cell_type": "code",
      "source": [
        "# Importing KMeans silhouette_score using sklearn \n",
        "\n",
        "from sklearn.cluster import KMeans\n",
        "from sklearn.metrics import silhouette_score"
      ],
      "metadata": {
        "id": "xlx_QNP_8Ylk"
      },
      "execution_count": 19,
      "outputs": []
    },
    {
      "cell_type": "code",
      "source": [
        "# Finding K using elbow curve\n",
        "\n",
        "error = []\n",
        "for k in range(2, 15):\n",
        "    model = KMeans(n_clusters = k, random_state = 15)\n",
        "    model.fit(df_scaled)\n",
        "    error.append(model.inertia_)\n",
        "\n",
        "# Plotting Elbow Curve\n",
        "fig = plt.figure(figsize=(30, 5))\n",
        "sb.set(style='darkgrid')\n",
        "plt.plot(range(2, 15), error, marker = '*', markersize = 8, color = 'g')\n",
        "plt.title('Elbow curve')\n",
        "plt.xlabel('K - Number of Clusters')\n",
        "plt.ylabel('Distorsions - within cluster sum of squares')"
      ],
      "metadata": {
        "colab": {
          "base_uri": "https://localhost:8080/",
          "height": 310
        },
        "collapsed": true,
        "id": "B4ZLojrRBOmm",
        "outputId": "7ff93123-bc1b-49df-968f-acfb8f1f1bf6"
      },
      "execution_count": 20,
      "outputs": [
        {
          "output_type": "execute_result",
          "data": {
            "text/plain": [
              "Text(0, 0.5, 'Distorsions - within cluster sum of squares')"
            ]
          },
          "metadata": {},
          "execution_count": 20
        },
        {
          "output_type": "display_data",
          "data": {
            "text/plain": [
              "<Figure size 2160x360 with 1 Axes>"
            ],
            "image/png": "[encoded data removed]"
          },
          "metadata": {}
        }
      ]
    },
    {
      "cell_type": "code",
      "source": [
        "# Finding K using silhouette_score\n",
        "\n",
        "k_range = range(2, 15)\n",
        "scores = []\n",
        "for k in k_range:\n",
        "    model = KMeans(n_clusters = k, random_state = 15)\n",
        "    model.fit(df_scaled)\n",
        "    scores.append(silhouette_score(df_scaled, model.labels_))\n",
        "\n",
        "# plot the silhouette_score\n",
        "\n",
        "fig = plt.figure(figsize=(30, 5))\n",
        "sb.set(style='darkgrid')\n",
        "plt.plot(k_range, scores, marker = '*', markersize = 8, color = 'g')\n",
        "plt.title('silhouette_score')\n",
        "plt.xlabel('K - Number of clusters')\n",
        "plt.ylabel('Silhouette Coefficient')\n",
        "plt.show()"
      ],
      "metadata": {
        "colab": {
          "base_uri": "https://localhost:8080/",
          "height": 291
        },
        "collapsed": true,
        "id": "wGmxG0ZpBuKO",
        "outputId": "1bec5022-bf8c-45a9-960f-ed2483dac3e5"
      },
      "execution_count": 21,
      "outputs": [
        {
          "output_type": "display_data",
          "data": {
            "text/plain": [
              "<Figure size 2160x360 with 1 Axes>"
            ],
            "image/png": "[encoded data removed]"
          },
          "metadata": {}
        }
      ]
    },
    {
      "cell_type": "markdown",
      "source": [
        "* Using silhouette_score coefficient k = 11 is the optimum value"
      ],
      "metadata": {
        "id": "99DnunAKDwva"
      }
    },
    {
      "cell_type": "code",
      "source": [
        "# Building the model using k = 11\n",
        "\n",
        "model_km = KMeans(n_clusters = 11)\n",
        "\n",
        "# Training hte model k = 2\n",
        "\n",
        "model_km.fit(df_scaled)\n",
        "\n",
        "# Finding silhouette_score for kmeans and Adding cluster to the df\n",
        "\n",
        "print(silhouette_score(df_scaled, model_km.labels_))\n",
        "\n",
        "df['KM'] = model_km.labels_"
      ],
      "metadata": {
        "colab": {
          "base_uri": "https://localhost:8080/"
        },
        "id": "vPMAAI9zDBqx",
        "outputId": "d134456e-0658-4866-c9aa-cafa5c1a1d6e"
      },
      "execution_count": 22,
      "outputs": [
        {
          "output_type": "stream",
          "name": "stdout",
          "text": [
            "0.42998269513575094\n"
          ]
        }
      ]
    },
    {
      "cell_type": "code",
      "source": [
        "# Plotting KMeans clustering\n",
        "plt.figure(figsize = (10, 5))\n",
        "plt.title('KMeans- Clustering')\n",
        "plt.scatter(df['KM'], y = range(len(df['KM'])))\n",
        "plt.xlabel('Clusters')\n",
        "plt.ylabel('Index')\n",
        "plt.show()"
      ],
      "metadata": {
        "colab": {
          "base_uri": "https://localhost:8080/",
          "height": 355
        },
        "id": "nr8eYSH4FJWP",
        "outputId": "877bf309-fe3f-4427-ac18-5c6c912a6aa2"
      },
      "execution_count": 23,
      "outputs": [
        {
          "output_type": "display_data",
          "data": {
            "text/plain": [
              "<Figure size 720x360 with 1 Axes>"
            ],
            "image/png": "[encoded data removed]"
          },
          "metadata": {}
        }
      ]
    },
    {
      "cell_type": "markdown",
      "source": [
        "# **Observations**\n",
        "\n",
        "* The Silhouette_Score for KMeans is 41%.\n",
        "* From the chart we can see the clustering of Kmeans.\n",
        "* The last cluster 11 was able to cluster only less datapoints."
      ],
      "metadata": {
        "id": "5WatKW6WHq67"
      }
    },
    {
      "cell_type": "code",
      "source": [
        "# Storing silhouette score for KMeans\n",
        "\n",
        "s['Kmeans'] = silhouette_score(df_scaled, model_km.labels_)"
      ],
      "metadata": {
        "id": "qiih15yeVfxe"
      },
      "execution_count": 24,
      "outputs": []
    },
    {
      "cell_type": "markdown",
      "source": [
        "# **Hierarchical_Clustering**"
      ],
      "metadata": {
        "id": "xr1ONvBLIalV"
      }
    },
    {
      "cell_type": "code",
      "source": [
        "# For Hirearchical clustering from sklearn\n",
        "\n",
        "from sklearn.cluster import AgglomerativeClustering\n",
        "import scipy.cluster.hierarchy as sch"
      ],
      "metadata": {
        "id": "D-PQQ69xGl-1"
      },
      "execution_count": 25,
      "outputs": []
    },
    {
      "cell_type": "code",
      "source": [
        "# Plotting Dendogram\n",
        "\n",
        "plt.figure(figsize = (35,10))\n",
        "plt.title('Customers_Dendogram', fontsize = 14)\n",
        "sch.dendrogram(sch.linkage(df_scaled, method = 'ward'), labels = df.index)\n",
        "plt.ylabel('Eucledian_Distance ', fontsize = 14)\n",
        "plt.xlabel('Customers', fontsize = 14)\n",
        "plt.grid(True)\n",
        "plt.show()"
      ],
      "metadata": {
        "colab": {
          "base_uri": "https://localhost:8080/",
          "height": 446
        },
        "collapsed": true,
        "id": "vzVtLBDqKxP_",
        "outputId": "0d67d8d6-098e-454a-e285-b1c1835f4050"
      },
      "execution_count": 26,
      "outputs": [
        {
          "output_type": "display_data",
          "data": {
            "text/plain": [
              "<Figure size 2520x720 with 1 Axes>"
            ],
            "image/png": "[encoded data removed]"
          },
          "metadata": {}
        }
      ]
    },
    {
      "cell_type": "code",
      "source": [
        "# Calculating silhouette_score for different clusters\n",
        "\n",
        "# For cluster = 4\n",
        "\n",
        "c4 = AgglomerativeClustering(n_clusters = 4, metric = 'euclidean', linkage = 'ward').fit_predict(df_scaled)\n",
        "print(\" K = 4 = \", silhouette_score(df_scaled, c4))\n",
        "\n",
        "# For cluster = 5\n",
        "\n",
        "c5 = AgglomerativeClustering(n_clusters = 5, metric = 'euclidean', linkage = 'ward').fit_predict(df_scaled)\n",
        "print(\" K = 5 = \", silhouette_score(df_scaled, c5))\n",
        "\n",
        "\n",
        "# For cluster = 6\n",
        "\n",
        "c6 = AgglomerativeClustering(n_clusters = 6, metric = 'euclidean', linkage = 'ward').fit_predict(df_scaled)\n",
        "print(\" K = 6 = \", silhouette_score(df_scaled, c6))\n",
        "\n",
        "# For cluster = 7\n",
        "\n",
        "c7 = AgglomerativeClustering(n_clusters = 7, metric = 'euclidean', linkage = 'ward').fit_predict(df_scaled)\n",
        "print(\" K = 7 = \", silhouette_score(df_scaled, c7))\n",
        "\n",
        "# For cluster = 8\n",
        "\n",
        "c8 = AgglomerativeClustering(n_clusters = 8, metric = 'euclidean', linkage = 'ward').fit_predict(df_scaled)\n",
        "print(\" K = 8 = \", silhouette_score(df_scaled, c8))\n",
        "\n",
        "# For cluster = 9\n",
        "\n",
        "c9 = AgglomerativeClustering(n_clusters = 9, metric = 'euclidean', linkage = 'ward').fit_predict(df_scaled)\n",
        "print(\" K = 9 = \", silhouette_score(df_scaled, c9))\n",
        "\n",
        "# For cluster = 10\n",
        "\n",
        "c10 = AgglomerativeClustering(n_clusters = 10, metric = 'euclidean', linkage = 'ward').fit_predict(df_scaled)\n",
        "print(\" K = 10 = \", silhouette_score(df_scaled, c10))\n",
        "\n",
        "# For cluster = 11\n",
        "\n",
        "c11 = AgglomerativeClustering(n_clusters = 11, metric = 'euclidean', linkage = 'ward').fit_predict(df_scaled)\n",
        "print(\" K = 11 = \", silhouette_score(df_scaled, c11))\n",
        "\n",
        "# For cluster = 12\n",
        "\n",
        "c12 = AgglomerativeClustering(n_clusters = 12, metric = 'euclidean', linkage = 'ward').fit_predict(df_scaled)\n",
        "print(\" K = 12 = \", silhouette_score(df_scaled, c12))\n",
        "\n",
        "# For cluster = 13\n",
        "\n",
        "c13 = AgglomerativeClustering(n_clusters = 13, metric = 'euclidean', linkage = 'ward').fit_predict(df_scaled)\n",
        "print(\" K = 13 = \", silhouette_score(df_scaled, c13))"
      ],
      "metadata": {
        "colab": {
          "base_uri": "https://localhost:8080/"
        },
        "collapsed": true,
        "id": "GKKHcLrwLCZA",
        "outputId": "24aff671-d3f3-40b3-a317-7791d469a226"
      },
      "execution_count": 27,
      "outputs": [
        {
          "output_type": "stream",
          "name": "stdout",
          "text": [
            " K = 4 =  0.2632260518820244\n",
            " K = 5 =  0.28699413201651747\n",
            " K = 6 =  0.3102445968526053\n",
            " K = 7 =  0.34555782664693324\n",
            " K = 8 =  0.3788796050129373\n",
            " K = 9 =  0.39225805358687793\n",
            " K = 10 =  0.4176254448686808\n",
            " K = 11 =  0.42517748630372254\n",
            " K = 12 =  0.42440324303677535\n",
            " K = 13 =  0.4198062925672963\n"
          ]
        }
      ]
    },
    {
      "cell_type": "markdown",
      "source": [
        "* From the dendogram and using silhouette score  k = 11 is the optimum k value."
      ],
      "metadata": {
        "id": "OgR0Ww_EMckr"
      }
    },
    {
      "cell_type": "code",
      "source": [
        "# Building model with AgglomerativeClustering with eucledian distance\n",
        "\n",
        "model = AgglomerativeClustering(n_clusters = 2, metric = 'euclidean', linkage = 'ward')\n",
        "\n",
        "model = model.fit_predict(df_scaled)"
      ],
      "metadata": {
        "id": "ED4tMvHONrt5"
      },
      "execution_count": 28,
      "outputs": []
    },
    {
      "cell_type": "code",
      "source": [
        "# Building the model using k = 11\n",
        "\n",
        "model_ac = AgglomerativeClustering(n_clusters = 11, metric = 'euclidean', linkage = 'ward')\n",
        "\n",
        "# Training hte model k = 11\n",
        "\n",
        "model_ac.fit_predict(df_scaled)\n",
        "\n",
        "# Finding silhouette_score for kmeans and Adding cluster to the df\n",
        "\n",
        "print(silhouette_score(df_scaled, model_ac.labels_))\n",
        "\n",
        "df['AC'] = model_ac.labels_"
      ],
      "metadata": {
        "colab": {
          "base_uri": "https://localhost:8080/"
        },
        "id": "Y09YbOCuO5iV",
        "outputId": "70298ddc-6cd4-47b9-b1d5-acc5276ebd8b"
      },
      "execution_count": 29,
      "outputs": [
        {
          "output_type": "stream",
          "name": "stdout",
          "text": [
            "0.42517748630372254\n"
          ]
        }
      ]
    },
    {
      "cell_type": "code",
      "source": [
        "# Plotting KMeans clustering\n",
        "plt.figure(figsize = (10, 5))\n",
        "plt.title('AgglomerativeClustering - Clustering')\n",
        "plt.scatter(df['AC'], y = range(len(df['AC'])))\n",
        "plt.xlabel('Clusters')\n",
        "plt.ylabel('Index')\n",
        "plt.show()"
      ],
      "metadata": {
        "colab": {
          "base_uri": "https://localhost:8080/",
          "height": 355
        },
        "id": "rmpINwoAPTsu",
        "outputId": "eaf4274b-eca4-4207-eb44-2aea22fce0d8"
      },
      "execution_count": 30,
      "outputs": [
        {
          "output_type": "display_data",
          "data": {
            "text/plain": [
              "<Figure size 720x360 with 1 Axes>"
            ],
            "image/png": "[encoded data removed]"
          },
          "metadata": {}
        }
      ]
    },
    {
      "cell_type": "markdown",
      "source": [
        "# **Observations**\n",
        "\n",
        "* The Silhouette_Score for AgglomerativeClustering is 42%.\n",
        "* From the chart we can see the clustering of AgglomerativeClustering.\n",
        "* The last cluster 11 was able to cluster only less datapoints as in Kmeans.\n",
        "* The Silhouette_Score of both Kmeans and Silhouette_Score are equal."
      ],
      "metadata": {
        "id": "SkYoExX1P5bS"
      }
    },
    {
      "cell_type": "code",
      "source": [
        "# Storing silhouette score for AgglomerativeClustering\n",
        "\n",
        "s['AgglomerativeClustering'] = silhouette_score(df_scaled, model_ac.labels_)"
      ],
      "metadata": {
        "id": "P5YpABA7VrSL"
      },
      "execution_count": 31,
      "outputs": []
    },
    {
      "cell_type": "markdown",
      "source": [
        "**DBSCAN_Clustering**"
      ],
      "metadata": {
        "id": "-j4InK3EQhAA"
      }
    },
    {
      "cell_type": "code",
      "source": [
        "# Importing NearestNeighbor from sklearn to find the best HyperParameters\n",
        "\n",
        "from sklearn.neighbors import NearestNeighbors\n",
        "# Importing DBSCAN model from cluster from sklearn for Density clustering\n",
        "\n",
        "from sklearn.cluster import DBSCAN"
      ],
      "metadata": {
        "id": "Pf4fsyMdQ8N3"
      },
      "execution_count": 32,
      "outputs": []
    },
    {
      "cell_type": "code",
      "source": [
        "# Building and training the model\n",
        "\n",
        "model = NearestNeighbors(n_neighbors = 4).fit(df_scaled)\n",
        "\n",
        "distance, indices = model.kneighbors(df_scaled)\n",
        "\n",
        "# Sorting the distance \n",
        "\n",
        "distance = np.sort(distance, axis = 0)\n",
        "\n",
        "distance = distance[:, 1]"
      ],
      "metadata": {
        "id": "Tt8FH2myPyET"
      },
      "execution_count": 33,
      "outputs": []
    },
    {
      "cell_type": "code",
      "source": [
        "# Plotting the distances and distance with axhline with subplots\n",
        "\n",
        "plt.figure(figsize = (50,5))\n",
        "\n",
        "plt.subplot(1,3,1)\n",
        "plt.title('k_Distance_Graph', fontsize = 16)\n",
        "plt.grid(True, color = 'g')\n",
        "plt.plot(distance)\n",
        "plt.xlabel('Datapoints_Sorted_By_Disatnce', fontsize = 16)\n",
        "plt.ylabel('Epsilon', fontsize = 16)\n",
        "\n",
        "plt.subplot(1,3,2)\n",
        "plt.title('k_Distance_Graph', fontsize = 16)\n",
        "plt.grid(True, color = 'g')\n",
        "plt.plot(distance)\n",
        "plt.axhline(y = 0.7, color = 'blue', linestyle = 'solid')\n",
        "plt.xlabel('Datapoints_Sorted_By_Disatnce', fontsize = 16)\n",
        "plt.ylabel('Epsilon', fontsize = 16)\n",
        "plt.show()"
      ],
      "metadata": {
        "colab": {
          "base_uri": "https://localhost:8080/",
          "height": 277
        },
        "collapsed": true,
        "id": "53Uum1fHRy6l",
        "outputId": "9ddf3c3f-971f-4b20-be4c-180dc3859828"
      },
      "execution_count": 34,
      "outputs": [
        {
          "output_type": "display_data",
          "data": {
            "text/plain": [
              "<Figure size 3600x360 with 2 Axes>"
            ],
            "image/png": "[encoded data removed]"
          },
          "metadata": {}
        }
      ]
    },
    {
      "cell_type": "code",
      "source": [
        "eps = [0.5, 0.6, 0.7, 0.8, 0.9]\n",
        "for i in eps:\n",
        "    print()\n",
        "    print(f'Epsilon = {i}')\n",
        "    print()\n",
        "    for min_samples in range(2,10):\n",
        "        clusterer = DBSCAN(eps = i, min_samples = min_samples)\n",
        "        clusterer_labels = clusterer.fit_predict(df_scaled)\n",
        "        X = clusterer_labels + 2\n",
        "        y = np.bincount(X)\n",
        "        ii = np.nonzero(y)[0]\n",
        "        res = list(zip(ii, y[ii])) \n",
        "        print(f' Epsilon = {i} | Min_Samples = {min_samples} | Obtained_clustering = {res}')"
      ],
      "metadata": {
        "colab": {
          "base_uri": "https://localhost:8080/"
        },
        "collapsed": true,
        "id": "8Pc3G2htR4jy",
        "outputId": "18d4d476-b653-4011-8c9e-dc3ab40fe6f4"
      },
      "execution_count": 35,
      "outputs": [
        {
          "output_type": "stream",
          "name": "stdout",
          "text": [
            "\n",
            "Epsilon = 0.5\n",
            "\n",
            " Epsilon = 0.5 | Min_Samples = 2 | Obtained_clustering = [(1, 37), (2, 6), (3, 9), (4, 5), (5, 2), (6, 2), (7, 3), (8, 2), (9, 20), (10, 23), (11, 19), (12, 3), (13, 5), (14, 7), (15, 2), (16, 8), (17, 19), (18, 2), (19, 3), (20, 4), (21, 3), (22, 5), (23, 6), (24, 3), (25, 2)]\n",
            " Epsilon = 0.5 | Min_Samples = 3 | Obtained_clustering = [(1, 49), (2, 9), (3, 6), (4, 5), (5, 3), (6, 19), (7, 23), (8, 20), (9, 3), (10, 5), (11, 7), (12, 8), (13, 19), (14, 3), (15, 4), (16, 6), (17, 3), (18, 5), (19, 3)]\n",
            " Epsilon = 0.5 | Min_Samples = 4 | Obtained_clustering = [(1, 76), (2, 9), (3, 5), (4, 4), (5, 19), (6, 23), (7, 20), (8, 7), (9, 7), (10, 18), (11, 4), (12, 4), (13, 4)]\n",
            " Epsilon = 0.5 | Min_Samples = 5 | Obtained_clustering = [(1, 105), (2, 5), (3, 5), (4, 18), (5, 18), (6, 15), (7, 7), (8, 4), (9, 17), (10, 6)]\n",
            " Epsilon = 0.5 | Min_Samples = 6 | Obtained_clustering = [(1, 135), (2, 18), (3, 18), (4, 6), (5, 6), (6, 17)]\n",
            " Epsilon = 0.5 | Min_Samples = 7 | Obtained_clustering = [(1, 152), (2, 16), (3, 7), (4, 8), (5, 17)]\n",
            " Epsilon = 0.5 | Min_Samples = 8 | Obtained_clustering = [(1, 169), (2, 14), (3, 17)]\n",
            " Epsilon = 0.5 | Min_Samples = 9 | Obtained_clustering = [(1, 169), (2, 10), (3, 4), (4, 17)]\n",
            "\n",
            "Epsilon = 0.6\n",
            "\n",
            " Epsilon = 0.6 | Min_Samples = 2 | Obtained_clustering = [(1, 16), (2, 8), (3, 58), (4, 11), (5, 4), (6, 2), (7, 2), (8, 25), (9, 10), (10, 12), (11, 20), (12, 8), (13, 4), (14, 4), (15, 6), (16, 4), (17, 2), (18, 2), (19, 2)]\n",
            " Epsilon = 0.6 | Min_Samples = 3 | Obtained_clustering = [(1, 26), (2, 8), (3, 58), (4, 4), (5, 11), (6, 25), (7, 10), (8, 12), (9, 20), (10, 4), (11, 4), (12, 8), (13, 6), (14, 4)]\n",
            " Epsilon = 0.6 | Min_Samples = 4 | Obtained_clustering = [(1, 39), (2, 58), (3, 7), (4, 9), (5, 22), (6, 10), (7, 12), (8, 19), (9, 4), (10, 8), (11, 4), (12, 4), (13, 4)]\n",
            " Epsilon = 0.6 | Min_Samples = 5 | Obtained_clustering = [(1, 62), (2, 57), (3, 6), (4, 5), (5, 4), (6, 22), (7, 9), (8, 10), (9, 18), (10, 7)]\n",
            " Epsilon = 0.6 | Min_Samples = 6 | Obtained_clustering = [(1, 83), (2, 10), (3, 6), (4, 43), (5, 22), (6, 9), (7, 17), (8, 10)]\n",
            " Epsilon = 0.6 | Min_Samples = 7 | Obtained_clustering = [(1, 98), (2, 9), (3, 20), (4, 19), (5, 12), (6, 7), (7, 8), (8, 17), (9, 10)]\n",
            " Epsilon = 0.6 | Min_Samples = 8 | Obtained_clustering = [(1, 111), (2, 8), (3, 18), (4, 19), (5, 9), (6, 8), (7, 17), (8, 10)]\n",
            " Epsilon = 0.6 | Min_Samples = 9 | Obtained_clustering = [(1, 137), (2, 18), (3, 19), (4, 9), (5, 17)]\n",
            "\n",
            "Epsilon = 0.7\n",
            "\n",
            " Epsilon = 0.7 | Min_Samples = 2 | Obtained_clustering = [(1, 8), (2, 43), (3, 94), (4, 4), (5, 2), (6, 10), (7, 16), (8, 3), (9, 4), (10, 6), (11, 6), (12, 2), (13, 2)]\n",
            " Epsilon = 0.7 | Min_Samples = 3 | Obtained_clustering = [(1, 14), (2, 43), (3, 94), (4, 4), (5, 10), (6, 16), (7, 4), (8, 6), (9, 6), (10, 3)]\n",
            " Epsilon = 0.7 | Min_Samples = 4 | Obtained_clustering = [(1, 24), (2, 8), (3, 93), (4, 33), (5, 10), (6, 16), (7, 4), (8, 6), (9, 6)]\n",
            " Epsilon = 0.7 | Min_Samples = 5 | Obtained_clustering = [(1, 37), (2, 92), (3, 7), (4, 24), (5, 10), (6, 16), (7, 9), (8, 5)]\n",
            " Epsilon = 0.7 | Min_Samples = 6 | Obtained_clustering = [(1, 47), (2, 69), (3, 6), (4, 23), (5, 10), (6, 11), (7, 21), (8, 4), (9, 9)]\n",
            " Epsilon = 0.7 | Min_Samples = 7 | Obtained_clustering = [(1, 68), (2, 63), (3, 6), (4, 23), (5, 10), (6, 11), (7, 19)]\n",
            " Epsilon = 0.7 | Min_Samples = 8 | Obtained_clustering = [(1, 76), (2, 62), (3, 23), (4, 10), (5, 19), (6, 10)]\n",
            " Epsilon = 0.7 | Min_Samples = 9 | Obtained_clustering = [(1, 82), (2, 30), (3, 29), (4, 23), (5, 10), (6, 17), (7, 9)]\n",
            "\n",
            "Epsilon = 0.8\n",
            "\n",
            " Epsilon = 0.8 | Min_Samples = 2 | Obtained_clustering = [(1, 7), (2, 77), (3, 94), (4, 4), (5, 2), (6, 14), (7, 2)]\n",
            " Epsilon = 0.8 | Min_Samples = 3 | Obtained_clustering = [(1, 11), (2, 77), (3, 94), (4, 4), (5, 14)]\n",
            " Epsilon = 0.8 | Min_Samples = 4 | Obtained_clustering = [(1, 12), (2, 9), (3, 94), (4, 4), (5, 68), (6, 13)]\n",
            " Epsilon = 0.8 | Min_Samples = 5 | Obtained_clustering = [(1, 19), (2, 9), (3, 94), (4, 40), (5, 26), (6, 12)]\n",
            " Epsilon = 0.8 | Min_Samples = 6 | Obtained_clustering = [(1, 31), (2, 92), (3, 8), (4, 24), (5, 26), (6, 10), (7, 9)]\n",
            " Epsilon = 0.8 | Min_Samples = 7 | Obtained_clustering = [(1, 42), (2, 92), (3, 7), (4, 24), (5, 26), (6, 9)]\n",
            " Epsilon = 0.8 | Min_Samples = 8 | Obtained_clustering = [(1, 52), (2, 90), (3, 24), (4, 11), (5, 15), (6, 8)]\n",
            " Epsilon = 0.8 | Min_Samples = 9 | Obtained_clustering = [(1, 52), (2, 90), (3, 24), (4, 11), (5, 15), (6, 8)]\n",
            "\n",
            "Epsilon = 0.9\n",
            "\n",
            " Epsilon = 0.9 | Min_Samples = 2 | Obtained_clustering = [(1, 4), (2, 77), (3, 111), (4, 4), (5, 2), (6, 2)]\n",
            " Epsilon = 0.9 | Min_Samples = 3 | Obtained_clustering = [(1, 8), (2, 77), (3, 111), (4, 4)]\n",
            " Epsilon = 0.9 | Min_Samples = 4 | Obtained_clustering = [(1, 9), (2, 77), (3, 110), (4, 4)]\n",
            " Epsilon = 0.9 | Min_Samples = 5 | Obtained_clustering = [(1, 13), (2, 77), (3, 110)]\n",
            " Epsilon = 0.9 | Min_Samples = 6 | Obtained_clustering = [(1, 13), (2, 77), (3, 110)]\n",
            " Epsilon = 0.9 | Min_Samples = 7 | Obtained_clustering = [(1, 23), (2, 10), (3, 104), (4, 63)]\n",
            " Epsilon = 0.9 | Min_Samples = 8 | Obtained_clustering = [(1, 25), (2, 103), (3, 10), (4, 36), (5, 26)]\n",
            " Epsilon = 0.9 | Min_Samples = 9 | Obtained_clustering = [(1, 42), (2, 96), (3, 36), (4, 10), (5, 16)]\n"
          ]
        }
      ]
    },
    {
      "cell_type": "markdown",
      "source": [
        "* from the above results \n",
        "    * Epsilon = 0.7 | Min_Samples = 8"
      ],
      "metadata": {
        "id": "EIVixatETMn2"
      }
    },
    {
      "cell_type": "code",
      "source": [
        "# Building hte model with hyper parameters\n",
        "\n",
        "# Building and training the model\n",
        "\n",
        "model_db = DBSCAN(eps = 0.7, min_samples = 8)\n",
        "\n",
        "model_db.fit(df_scaled)\n",
        "\n",
        "# Finding silhouette_score for kmeans and Adding cluster to the df\n",
        "\n",
        "print(silhouette_score(df_scaled, model_db.labels_))\n",
        "\n",
        "df['DB'] = model_db.labels_"
      ],
      "metadata": {
        "colab": {
          "base_uri": "https://localhost:8080/"
        },
        "id": "FnYiwGAdSilb",
        "outputId": "ae5775ec-5956-4e53-8e64-7aa87424fa5a"
      },
      "execution_count": 36,
      "outputs": [
        {
          "output_type": "stream",
          "name": "stdout",
          "text": [
            "0.12362026848194814\n"
          ]
        }
      ]
    },
    {
      "cell_type": "code",
      "source": [
        "# Plotting KMeans clustering\n",
        "plt.figure(figsize = (10, 5))\n",
        "plt.title('DBSCAN - Clustering')\n",
        "plt.scatter(df['DB'], y = range(len(df['DB'])))\n",
        "plt.xlabel('Clusters')\n",
        "plt.ylabel('Index')\n",
        "plt.show()"
      ],
      "metadata": {
        "colab": {
          "base_uri": "https://localhost:8080/",
          "height": 355
        },
        "id": "cd4bDDVfUFeO",
        "outputId": "78f557d2-b1b9-4f28-eb35-25de9818299a"
      },
      "execution_count": 37,
      "outputs": [
        {
          "output_type": "display_data",
          "data": {
            "text/plain": [
              "<Figure size 720x360 with 1 Axes>"
            ],
            "image/png": "[encoded data removed]"
          },
          "metadata": {}
        }
      ]
    },
    {
      "cell_type": "markdown",
      "source": [
        "# **Observations**\n",
        "\n",
        "* The Silhouette_Score for DBSCAN is only 12%. \n",
        "* Which is less than Kmeans and Agglomerative.\n",
        "* From the chart we can see the clustering of DBSCAN.\n",
        "* The 1st 2 clusters was able to cluster many datapoints.\n",
        "* The 2,3 and 4th cluster are no capable of clustering many data points because of low observations"
      ],
      "metadata": {
        "id": "_oRVgQ_JUnIa"
      }
    },
    {
      "cell_type": "code",
      "source": [
        "# Storing silhouette score for DBSCAN\n",
        "\n",
        "s['DBSCAN'] = silhouette_score(df_scaled, model_db.labels_)"
      ],
      "metadata": {
        "id": "g5KWgVwwVEUb"
      },
      "execution_count": 38,
      "outputs": []
    },
    {
      "cell_type": "code",
      "source": [
        "# Plotting Silhoutte_Scores of each model\n",
        "\n",
        "plt.figure(figsize = (8,5))\n",
        "names = list(s.keys())\n",
        "values = list(s.values())\n",
        "plt.title('R2_MODEL')\n",
        "plt.bar(x = names, height = values, tick_label = names, color = colors)\n",
        "plt.xlabel('Model')\n",
        "plt.ylabel('Silhoutte_Scores')\n",
        "plt.show()"
      ],
      "metadata": {
        "colab": {
          "base_uri": "https://localhost:8080/",
          "height": 355
        },
        "id": "Pi6qWd8mV2DT",
        "outputId": "3f67988e-3dae-4aef-e022-d209b5b025ef"
      },
      "execution_count": 39,
      "outputs": [
        {
          "output_type": "display_data",
          "data": {
            "text/plain": [
              "<Figure size 576x360 with 1 Axes>"
            ],
            "image/png": "[encoded data removed]"
          },
          "metadata": {}
        }
      ]
    },
    {
      "cell_type": "markdown",
      "source": [
        "# **Observations**\n",
        "\n",
        "* From this chart we can able to see that the Kmeans and AgglomerativeClustering\n",
        "performs well in clustering.\n",
        "* The DBSCAN was not able to perform upto Kmeans and AgglomerativeClustering.\n",
        "* The Kmeans and AgglomerativeClusterin x3 perfroms better than DBSCAN.\n",
        "\n",
        "# **Conclusion**\n",
        "* Either Kmeans or AgglomerativeClustering xcan be used to buil and predict for better results and performance."
      ],
      "metadata": {
        "id": "bEz0lt64WZCV"
      }
    },
    {
      "cell_type": "code",
      "source": [],
      "metadata": {
        "id": "OmI5wZfaWLBA"
      },
      "execution_count": 39,
      "outputs": []
    }
  ]
}