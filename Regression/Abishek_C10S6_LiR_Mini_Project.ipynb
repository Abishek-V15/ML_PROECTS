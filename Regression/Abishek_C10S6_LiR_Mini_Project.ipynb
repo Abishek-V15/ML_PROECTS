{
  "nbformat": 4,
  "nbformat_minor": 0,
  "metadata": {
    "colab": {
      "provenance": []
    },
    "kernelspec": {
      "name": "python3",
      "display_name": "Python 3"
    },
    "language_info": {
      "name": "python"
    }
  },
  "cells": [
    {
      "cell_type": "code",
      "source": [
        "# Mounting the drive\n",
        "\n",
        "from google.colab import drive\n",
        "drive.mount('/content/drive')"
      ],
      "metadata": {
        "colab": {
          "base_uri": "https://localhost:8080/"
        },
        "collapsed": true,
        "id": "dH8gaB07ThCX",
        "outputId": "5606c3f8-81b5-45ac-b87a-a66da54a9621"
      },
      "execution_count": 1,
      "outputs": [
        {
          "output_type": "stream",
          "name": "stdout",
          "text": [
            "Drive already mounted at /content/drive; to attempt to forcibly remount, call drive.mount(\"/content/drive\", force_remount=True).\n"
          ]
        }
      ]
    },
    {
      "cell_type": "markdown",
      "source": [
        "# S6_Mini_Project(LR)\n",
        "\n",
        "### Project_Title : Regression_StoreSales_Data_Project\n",
        "\n"
      ],
      "metadata": {
        "id": "3_xEOoZ6SsJt"
      }
    },
    {
      "cell_type": "markdown",
      "source": [
        "## Importing Libraries"
      ],
      "metadata": {
        "id": "SWygmW5dS6pT"
      }
    },
    {
      "cell_type": "code",
      "execution_count": 2,
      "metadata": {
        "id": "TA6K6dZBSfiS"
      },
      "outputs": [],
      "source": [
        "# For Numerical and Statistical Computations\n",
        "\n",
        "import numpy as np\n",
        "import pandas as pd\n",
        "\n",
        "# For Visulizations\n",
        "\n",
        "import matplotlib.pyplot as plt\n",
        "import seaborn as sb\n",
        "\n",
        "# For Scaling, Encoder and Splitting from Sci-Kit\n",
        "\n",
        "from sklearn.preprocessing import StandardScaler, LabelEncoder\n",
        "from sklearn.model_selection import train_test_split\n",
        "\n",
        "# For Calculating errors\n",
        "\n",
        "from sklearn.metrics import mean_squared_error, r2_score\n",
        "\n",
        "# Warnings\n",
        "\n",
        "import warnings\n",
        "warnings.filterwarnings('ignore')"
      ]
    },
    {
      "cell_type": "markdown",
      "source": [
        "## Loading the data"
      ],
      "metadata": {
        "id": "PvWAZxo8VZSi"
      }
    },
    {
      "cell_type": "code",
      "source": [
        "# Loading the data\n",
        "\n",
        "df = pd.read_csv('/content/drive/MyDrive/Colab Notebooks/DATASETS/DS3_C6_S1_Regression_StoreSales_Data_Project.csv')\n",
        "\n",
        "# Copy of the data\n",
        "\n",
        "df_copy = df.copy()"
      ],
      "metadata": {
        "id": "lwAU5IPzVYH9"
      },
      "execution_count": 3,
      "outputs": []
    },
    {
      "cell_type": "markdown",
      "source": [
        "## Data Understanding"
      ],
      "metadata": {
        "id": "jU5DpB4XW0qr"
      }
    },
    {
      "cell_type": "code",
      "source": [
        "# Preview of the data\n",
        "\n",
        "df.head()"
      ],
      "metadata": {
        "colab": {
          "base_uri": "https://localhost:8080/",
          "height": 337
        },
        "id": "k1-QKPXfW38U",
        "outputId": "d1694c58-8100-454d-b735-d6301ff00b94"
      },
      "execution_count": 4,
      "outputs": [
        {
          "output_type": "execute_result",
          "data": {
            "text/plain": [
              "  Item_Identifier  Item_Weight Item_Fat_Content  Item_Visibility  \\\n",
              "0           FDA15         9.30          Low Fat         0.016047   \n",
              "1           DRC01         5.92          Regular         0.019278   \n",
              "2           FDN15        17.50          Low Fat         0.016760   \n",
              "3           FDX07        19.20          Regular         0.074402   \n",
              "4           NCD19         8.93          Low Fat         0.064299   \n",
              "\n",
              "               Item_Type  Item_MRP Outlet_Identifier  \\\n",
              "0                  Dairy  249.8092            OUT049   \n",
              "1            Soft Drinks   48.2692            OUT018   \n",
              "2                   Meat  141.6180            OUT049   \n",
              "3  Fruits and Vegetables  182.0950            OUT010   \n",
              "4              Household   53.8614            OUT013   \n",
              "\n",
              "   Outlet_Establishment_Year Outlet_Size Outlet_Location_Type  \\\n",
              "0                       1999      Medium               Tier 1   \n",
              "1                       2009      Medium               Tier 3   \n",
              "2                       1999      Medium               Tier 1   \n",
              "3                       1998      Medium               Tier 3   \n",
              "4                       1987        High               Tier 3   \n",
              "\n",
              "         Outlet_Type  Item_Outlet_Sales  \n",
              "0  Supermarket Type1          3735.1380  \n",
              "1  Supermarket Type2           443.4228  \n",
              "2  Supermarket Type1          2097.2700  \n",
              "3      Grocery Store           732.3800  \n",
              "4  Supermarket Type1           994.7052  "
            ],
            "text/html": [
              "\n",
              "  <div id=\"df-7b5de75c-7244-452d-9f54-ee783b60a5e3\">\n",
              "    <div class=\"colab-df-container\">\n",
              "      <div>\n",
              "<style scoped>\n",
              "    .dataframe tbody tr th:only-of-type {\n",
              "        vertical-align: middle;\n",
              "    }\n",
              "\n",
              "    .dataframe tbody tr th {\n",
              "        vertical-align: top;\n",
              "    }\n",
              "\n",
              "    .dataframe thead th {\n",
              "        text-align: right;\n",
              "    }\n",
              "</style>\n",
              "<table border=\"1\" class=\"dataframe\">\n",
              "  <thead>\n",
              "    <tr style=\"text-align: right;\">\n",
              "      <th></th>\n",
              "      <th>Item_Identifier</th>\n",
              "      <th>Item_Weight</th>\n",
              "      <th>Item_Fat_Content</th>\n",
              "      <th>Item_Visibility</th>\n",
              "      <th>Item_Type</th>\n",
              "      <th>Item_MRP</th>\n",
              "      <th>Outlet_Identifier</th>\n",
              "      <th>Outlet_Establishment_Year</th>\n",
              "      <th>Outlet_Size</th>\n",
              "      <th>Outlet_Location_Type</th>\n",
              "      <th>Outlet_Type</th>\n",
              "      <th>Item_Outlet_Sales</th>\n",
              "    </tr>\n",
              "  </thead>\n",
              "  <tbody>\n",
              "    <tr>\n",
              "      <th>0</th>\n",
              "      <td>FDA15</td>\n",
              "      <td>9.30</td>\n",
              "      <td>Low Fat</td>\n",
              "      <td>0.016047</td>\n",
              "      <td>Dairy</td>\n",
              "      <td>249.8092</td>\n",
              "      <td>OUT049</td>\n",
              "      <td>1999</td>\n",
              "      <td>Medium</td>\n",
              "      <td>Tier 1</td>\n",
              "      <td>Supermarket Type1</td>\n",
              "      <td>3735.1380</td>\n",
              "    </tr>\n",
              "    <tr>\n",
              "      <th>1</th>\n",
              "      <td>DRC01</td>\n",
              "      <td>5.92</td>\n",
              "      <td>Regular</td>\n",
              "      <td>0.019278</td>\n",
              "      <td>Soft Drinks</td>\n",
              "      <td>48.2692</td>\n",
              "      <td>OUT018</td>\n",
              "      <td>2009</td>\n",
              "      <td>Medium</td>\n",
              "      <td>Tier 3</td>\n",
              "      <td>Supermarket Type2</td>\n",
              "      <td>443.4228</td>\n",
              "    </tr>\n",
              "    <tr>\n",
              "      <th>2</th>\n",
              "      <td>FDN15</td>\n",
              "      <td>17.50</td>\n",
              "      <td>Low Fat</td>\n",
              "      <td>0.016760</td>\n",
              "      <td>Meat</td>\n",
              "      <td>141.6180</td>\n",
              "      <td>OUT049</td>\n",
              "      <td>1999</td>\n",
              "      <td>Medium</td>\n",
              "      <td>Tier 1</td>\n",
              "      <td>Supermarket Type1</td>\n",
              "      <td>2097.2700</td>\n",
              "    </tr>\n",
              "    <tr>\n",
              "      <th>3</th>\n",
              "      <td>FDX07</td>\n",
              "      <td>19.20</td>\n",
              "      <td>Regular</td>\n",
              "      <td>0.074402</td>\n",
              "      <td>Fruits and Vegetables</td>\n",
              "      <td>182.0950</td>\n",
              "      <td>OUT010</td>\n",
              "      <td>1998</td>\n",
              "      <td>Medium</td>\n",
              "      <td>Tier 3</td>\n",
              "      <td>Grocery Store</td>\n",
              "      <td>732.3800</td>\n",
              "    </tr>\n",
              "    <tr>\n",
              "      <th>4</th>\n",
              "      <td>NCD19</td>\n",
              "      <td>8.93</td>\n",
              "      <td>Low Fat</td>\n",
              "      <td>0.064299</td>\n",
              "      <td>Household</td>\n",
              "      <td>53.8614</td>\n",
              "      <td>OUT013</td>\n",
              "      <td>1987</td>\n",
              "      <td>High</td>\n",
              "      <td>Tier 3</td>\n",
              "      <td>Supermarket Type1</td>\n",
              "      <td>994.7052</td>\n",
              "    </tr>\n",
              "  </tbody>\n",
              "</table>\n",
              "</div>\n",
              "      <button class=\"colab-df-convert\" onclick=\"convertToInteractive('df-7b5de75c-7244-452d-9f54-ee783b60a5e3')\"\n",
              "              title=\"Convert this dataframe to an interactive table.\"\n",
              "              style=\"display:none;\">\n",
              "        \n",
              "  <svg xmlns=\"http://www.w3.org/2000/svg\" height=\"24px\"viewBox=\"0 0 24 24\"\n",
              "       width=\"24px\">\n",
              "    <path d=\"M0 0h24v24H0V0z\" fill=\"none\"/>\n",
              "    <path d=\"M18.56 5.44l.94 2.06.94-2.06 2.06-.94-2.06-.94-.94-2.06-.94 2.06-2.06.94zm-11 1L8.5 8.5l.94-2.06 2.06-.94-2.06-.94L8.5 2.5l-.94 2.06-2.06.94zm10 10l.94 2.06.94-2.06 2.06-.94-2.06-.94-.94-2.06-.94 2.06-2.06.94z\"/><path d=\"M17.41 7.96l-1.37-1.37c-.4-.4-.92-.59-1.43-.59-.52 0-1.04.2-1.43.59L10.3 9.45l-7.72 7.72c-.78.78-.78 2.05 0 2.83L4 21.41c.39.39.9.59 1.41.59.51 0 1.02-.2 1.41-.59l7.78-7.78 2.81-2.81c.8-.78.8-2.07 0-2.86zM5.41 20L4 18.59l7.72-7.72 1.47 1.35L5.41 20z\"/>\n",
              "  </svg>\n",
              "      </button>\n",
              "      \n",
              "  <style>\n",
              "    .colab-df-container {\n",
              "      display:flex;\n",
              "      flex-wrap:wrap;\n",
              "      gap: 12px;\n",
              "    }\n",
              "\n",
              "    .colab-df-convert {\n",
              "      background-color: #E8F0FE;\n",
              "      border: none;\n",
              "      border-radius: 50%;\n",
              "      cursor: pointer;\n",
              "      display: none;\n",
              "      fill: #1967D2;\n",
              "      height: 32px;\n",
              "      padding: 0 0 0 0;\n",
              "      width: 32px;\n",
              "    }\n",
              "\n",
              "    .colab-df-convert:hover {\n",
              "      background-color: #E2EBFA;\n",
              "      box-shadow: 0px 1px 2px rgba(60, 64, 67, 0.3), 0px 1px 3px 1px rgba(60, 64, 67, 0.15);\n",
              "      fill: #174EA6;\n",
              "    }\n",
              "\n",
              "    [theme=dark] .colab-df-convert {\n",
              "      background-color: #3B4455;\n",
              "      fill: #D2E3FC;\n",
              "    }\n",
              "\n",
              "    [theme=dark] .colab-df-convert:hover {\n",
              "      background-color: #434B5C;\n",
              "      box-shadow: 0px 1px 3px 1px rgba(0, 0, 0, 0.15);\n",
              "      filter: drop-shadow(0px 1px 2px rgba(0, 0, 0, 0.3));\n",
              "      fill: #FFFFFF;\n",
              "    }\n",
              "  </style>\n",
              "\n",
              "      <script>\n",
              "        const buttonEl =\n",
              "          document.querySelector('#df-7b5de75c-7244-452d-9f54-ee783b60a5e3 button.colab-df-convert');\n",
              "        buttonEl.style.display =\n",
              "          google.colab.kernel.accessAllowed ? 'block' : 'none';\n",
              "\n",
              "        async function convertToInteractive(key) {\n",
              "          const element = document.querySelector('#df-7b5de75c-7244-452d-9f54-ee783b60a5e3');\n",
              "          const dataTable =\n",
              "            await google.colab.kernel.invokeFunction('convertToInteractive',\n",
              "                                                     [key], {});\n",
              "          if (!dataTable) return;\n",
              "\n",
              "          const docLinkHtml = 'Like what you see? Visit the ' +\n",
              "            '<a target=\"_blank\" href=https://colab.research.google.com/notebooks/data_table.ipynb>data table notebook</a>'\n",
              "            + ' to learn more about interactive tables.';\n",
              "          element.innerHTML = '';\n",
              "          dataTable['output_type'] = 'display_data';\n",
              "          await google.colab.output.renderOutput(dataTable, element);\n",
              "          const docLink = document.createElement('div');\n",
              "          docLink.innerHTML = docLinkHtml;\n",
              "          element.appendChild(docLink);\n",
              "        }\n",
              "      </script>\n",
              "    </div>\n",
              "  </div>\n",
              "  "
            ]
          },
          "metadata": {},
          "execution_count": 4
        }
      ]
    },
    {
      "cell_type": "code",
      "source": [
        "# Shape of the data\n",
        "\n",
        "print(f\"Structure \\n\\nRows : {df.shape[0]} and Columns : {df.shape[1]}\")"
      ],
      "metadata": {
        "colab": {
          "base_uri": "https://localhost:8080/"
        },
        "id": "AS1j8cmmW7sr",
        "outputId": "7dfaa529-a530-4dbd-b7f9-42a10b1d1625"
      },
      "execution_count": 5,
      "outputs": [
        {
          "output_type": "stream",
          "name": "stdout",
          "text": [
            "Structure \n",
            "\n",
            "Rows : 14204 and Columns : 12\n"
          ]
        }
      ]
    },
    {
      "cell_type": "code",
      "source": [
        "# Datatypes info\n",
        "\n",
        "df.info()"
      ],
      "metadata": {
        "colab": {
          "base_uri": "https://localhost:8080/"
        },
        "id": "fS0TecVyeNT2",
        "outputId": "85e488bf-59ab-4e1c-9be2-d44bc1db8c01"
      },
      "execution_count": 6,
      "outputs": [
        {
          "output_type": "stream",
          "name": "stdout",
          "text": [
            "<class 'pandas.core.frame.DataFrame'>\n",
            "RangeIndex: 14204 entries, 0 to 14203\n",
            "Data columns (total 12 columns):\n",
            " #   Column                     Non-Null Count  Dtype  \n",
            "---  ------                     --------------  -----  \n",
            " 0   Item_Identifier            14204 non-null  object \n",
            " 1   Item_Weight                14204 non-null  float64\n",
            " 2   Item_Fat_Content           14204 non-null  object \n",
            " 3   Item_Visibility            14204 non-null  float64\n",
            " 4   Item_Type                  14204 non-null  object \n",
            " 5   Item_MRP                   14204 non-null  float64\n",
            " 6   Outlet_Identifier          14204 non-null  object \n",
            " 7   Outlet_Establishment_Year  14204 non-null  int64  \n",
            " 8   Outlet_Size                14204 non-null  object \n",
            " 9   Outlet_Location_Type       14204 non-null  object \n",
            " 10  Outlet_Type                14204 non-null  object \n",
            " 11  Item_Outlet_Sales          8523 non-null   float64\n",
            "dtypes: float64(4), int64(1), object(7)\n",
            "memory usage: 1.3+ MB\n"
          ]
        }
      ]
    },
    {
      "cell_type": "code",
      "source": [
        "# Descriptive analysis\n",
        "\n",
        "df.describe().T"
      ],
      "metadata": {
        "colab": {
          "base_uri": "https://localhost:8080/",
          "height": 206
        },
        "id": "XpGjrIRnW7nx",
        "outputId": "a9ff744e-4bba-43ef-9c87-64c11109917d"
      },
      "execution_count": 7,
      "outputs": [
        {
          "output_type": "execute_result",
          "data": {
            "text/plain": [
              "                             count         mean          std          min  \\\n",
              "Item_Weight                14204.0    12.793380     4.651716     4.555000   \n",
              "Item_Visibility            14204.0     0.070301     0.048621     0.003575   \n",
              "Item_MRP                   14204.0   141.004977    62.086938    31.290000   \n",
              "Outlet_Establishment_Year  14204.0  1997.830681     8.371664  1985.000000   \n",
              "Item_Outlet_Sales           8523.0  2181.288914  1706.499616    33.290000   \n",
              "\n",
              "                                   25%          50%          75%           max  \n",
              "Item_Weight                   8.710000    12.600000    16.750000     21.350000  \n",
              "Item_Visibility               0.033143     0.062347     0.094037      0.328391  \n",
              "Item_MRP                     94.012000   142.247000   185.855600    266.888400  \n",
              "Outlet_Establishment_Year  1987.000000  1999.000000  2004.000000   2009.000000  \n",
              "Item_Outlet_Sales           834.247400  1794.331000  3101.296400  13086.964800  "
            ],
            "text/html": [
              "\n",
              "  <div id=\"df-2db88300-333b-4403-a59b-6f1588208a9c\">\n",
              "    <div class=\"colab-df-container\">\n",
              "      <div>\n",
              "<style scoped>\n",
              "    .dataframe tbody tr th:only-of-type {\n",
              "        vertical-align: middle;\n",
              "    }\n",
              "\n",
              "    .dataframe tbody tr th {\n",
              "        vertical-align: top;\n",
              "    }\n",
              "\n",
              "    .dataframe thead th {\n",
              "        text-align: right;\n",
              "    }\n",
              "</style>\n",
              "<table border=\"1\" class=\"dataframe\">\n",
              "  <thead>\n",
              "    <tr style=\"text-align: right;\">\n",
              "      <th></th>\n",
              "      <th>count</th>\n",
              "      <th>mean</th>\n",
              "      <th>std</th>\n",
              "      <th>min</th>\n",
              "      <th>25%</th>\n",
              "      <th>50%</th>\n",
              "      <th>75%</th>\n",
              "      <th>max</th>\n",
              "    </tr>\n",
              "  </thead>\n",
              "  <tbody>\n",
              "    <tr>\n",
              "      <th>Item_Weight</th>\n",
              "      <td>14204.0</td>\n",
              "      <td>12.793380</td>\n",
              "      <td>4.651716</td>\n",
              "      <td>4.555000</td>\n",
              "      <td>8.710000</td>\n",
              "      <td>12.600000</td>\n",
              "      <td>16.750000</td>\n",
              "      <td>21.350000</td>\n",
              "    </tr>\n",
              "    <tr>\n",
              "      <th>Item_Visibility</th>\n",
              "      <td>14204.0</td>\n",
              "      <td>0.070301</td>\n",
              "      <td>0.048621</td>\n",
              "      <td>0.003575</td>\n",
              "      <td>0.033143</td>\n",
              "      <td>0.062347</td>\n",
              "      <td>0.094037</td>\n",
              "      <td>0.328391</td>\n",
              "    </tr>\n",
              "    <tr>\n",
              "      <th>Item_MRP</th>\n",
              "      <td>14204.0</td>\n",
              "      <td>141.004977</td>\n",
              "      <td>62.086938</td>\n",
              "      <td>31.290000</td>\n",
              "      <td>94.012000</td>\n",
              "      <td>142.247000</td>\n",
              "      <td>185.855600</td>\n",
              "      <td>266.888400</td>\n",
              "    </tr>\n",
              "    <tr>\n",
              "      <th>Outlet_Establishment_Year</th>\n",
              "      <td>14204.0</td>\n",
              "      <td>1997.830681</td>\n",
              "      <td>8.371664</td>\n",
              "      <td>1985.000000</td>\n",
              "      <td>1987.000000</td>\n",
              "      <td>1999.000000</td>\n",
              "      <td>2004.000000</td>\n",
              "      <td>2009.000000</td>\n",
              "    </tr>\n",
              "    <tr>\n",
              "      <th>Item_Outlet_Sales</th>\n",
              "      <td>8523.0</td>\n",
              "      <td>2181.288914</td>\n",
              "      <td>1706.499616</td>\n",
              "      <td>33.290000</td>\n",
              "      <td>834.247400</td>\n",
              "      <td>1794.331000</td>\n",
              "      <td>3101.296400</td>\n",
              "      <td>13086.964800</td>\n",
              "    </tr>\n",
              "  </tbody>\n",
              "</table>\n",
              "</div>\n",
              "      <button class=\"colab-df-convert\" onclick=\"convertToInteractive('df-2db88300-333b-4403-a59b-6f1588208a9c')\"\n",
              "              title=\"Convert this dataframe to an interactive table.\"\n",
              "              style=\"display:none;\">\n",
              "        \n",
              "  <svg xmlns=\"http://www.w3.org/2000/svg\" height=\"24px\"viewBox=\"0 0 24 24\"\n",
              "       width=\"24px\">\n",
              "    <path d=\"M0 0h24v24H0V0z\" fill=\"none\"/>\n",
              "    <path d=\"M18.56 5.44l.94 2.06.94-2.06 2.06-.94-2.06-.94-.94-2.06-.94 2.06-2.06.94zm-11 1L8.5 8.5l.94-2.06 2.06-.94-2.06-.94L8.5 2.5l-.94 2.06-2.06.94zm10 10l.94 2.06.94-2.06 2.06-.94-2.06-.94-.94-2.06-.94 2.06-2.06.94z\"/><path d=\"M17.41 7.96l-1.37-1.37c-.4-.4-.92-.59-1.43-.59-.52 0-1.04.2-1.43.59L10.3 9.45l-7.72 7.72c-.78.78-.78 2.05 0 2.83L4 21.41c.39.39.9.59 1.41.59.51 0 1.02-.2 1.41-.59l7.78-7.78 2.81-2.81c.8-.78.8-2.07 0-2.86zM5.41 20L4 18.59l7.72-7.72 1.47 1.35L5.41 20z\"/>\n",
              "  </svg>\n",
              "      </button>\n",
              "      \n",
              "  <style>\n",
              "    .colab-df-container {\n",
              "      display:flex;\n",
              "      flex-wrap:wrap;\n",
              "      gap: 12px;\n",
              "    }\n",
              "\n",
              "    .colab-df-convert {\n",
              "      background-color: #E8F0FE;\n",
              "      border: none;\n",
              "      border-radius: 50%;\n",
              "      cursor: pointer;\n",
              "      display: none;\n",
              "      fill: #1967D2;\n",
              "      height: 32px;\n",
              "      padding: 0 0 0 0;\n",
              "      width: 32px;\n",
              "    }\n",
              "\n",
              "    .colab-df-convert:hover {\n",
              "      background-color: #E2EBFA;\n",
              "      box-shadow: 0px 1px 2px rgba(60, 64, 67, 0.3), 0px 1px 3px 1px rgba(60, 64, 67, 0.15);\n",
              "      fill: #174EA6;\n",
              "    }\n",
              "\n",
              "    [theme=dark] .colab-df-convert {\n",
              "      background-color: #3B4455;\n",
              "      fill: #D2E3FC;\n",
              "    }\n",
              "\n",
              "    [theme=dark] .colab-df-convert:hover {\n",
              "      background-color: #434B5C;\n",
              "      box-shadow: 0px 1px 3px 1px rgba(0, 0, 0, 0.15);\n",
              "      filter: drop-shadow(0px 1px 2px rgba(0, 0, 0, 0.3));\n",
              "      fill: #FFFFFF;\n",
              "    }\n",
              "  </style>\n",
              "\n",
              "      <script>\n",
              "        const buttonEl =\n",
              "          document.querySelector('#df-2db88300-333b-4403-a59b-6f1588208a9c button.colab-df-convert');\n",
              "        buttonEl.style.display =\n",
              "          google.colab.kernel.accessAllowed ? 'block' : 'none';\n",
              "\n",
              "        async function convertToInteractive(key) {\n",
              "          const element = document.querySelector('#df-2db88300-333b-4403-a59b-6f1588208a9c');\n",
              "          const dataTable =\n",
              "            await google.colab.kernel.invokeFunction('convertToInteractive',\n",
              "                                                     [key], {});\n",
              "          if (!dataTable) return;\n",
              "\n",
              "          const docLinkHtml = 'Like what you see? Visit the ' +\n",
              "            '<a target=\"_blank\" href=https://colab.research.google.com/notebooks/data_table.ipynb>data table notebook</a>'\n",
              "            + ' to learn more about interactive tables.';\n",
              "          element.innerHTML = '';\n",
              "          dataTable['output_type'] = 'display_data';\n",
              "          await google.colab.output.renderOutput(dataTable, element);\n",
              "          const docLink = document.createElement('div');\n",
              "          docLink.innerHTML = docLinkHtml;\n",
              "          element.appendChild(docLink);\n",
              "        }\n",
              "      </script>\n",
              "    </div>\n",
              "  </div>\n",
              "  "
            ]
          },
          "metadata": {},
          "execution_count": 7
        }
      ]
    },
    {
      "cell_type": "code",
      "source": [
        "# Columns in df\n",
        "\n",
        "col = list(df.columns)\n",
        "col"
      ],
      "metadata": {
        "colab": {
          "base_uri": "https://localhost:8080/"
        },
        "collapsed": true,
        "id": "yqoKHJvpW7kC",
        "outputId": "1bd3b53c-c22c-4b43-e054-011facd548e9"
      },
      "execution_count": 8,
      "outputs": [
        {
          "output_type": "execute_result",
          "data": {
            "text/plain": [
              "['Item_Identifier',\n",
              " 'Item_Weight',\n",
              " 'Item_Fat_Content',\n",
              " 'Item_Visibility',\n",
              " 'Item_Type',\n",
              " 'Item_MRP',\n",
              " 'Outlet_Identifier',\n",
              " 'Outlet_Establishment_Year',\n",
              " 'Outlet_Size',\n",
              " 'Outlet_Location_Type',\n",
              " 'Outlet_Type',\n",
              " 'Item_Outlet_Sales']"
            ]
          },
          "metadata": {},
          "execution_count": 8
        }
      ]
    },
    {
      "cell_type": "markdown",
      "source": [
        "* There are totally **14204 Rows** and **12 Columns**.\n",
        "\n",
        "* There are some **Missing records** in Item_Outlet_Sales > **5000 records**.\n",
        "\n",
        "* There are like totally 7 categorical columns which need to be encoded\n",
        "\n",
        "* All these columns are related to store and products and we're going tp use these columns to predict future sales\n",
        "\n",
        "* From the descriptive \n",
        "\n",
        "    * The data spread might be low, STD of all columns falls below their mean values, although the mean values looks higher\n",
        "    \n",
        "    * From the Item_Outlet_Sales the max values > 13K which is a difference of 10K from the 3rd median \n",
        "    \n",
        "    * This may hapen because of **Outliers** need to be processed"
      ],
      "metadata": {
        "id": "ivxhI-5mYLSC"
      }
    },
    {
      "cell_type": "markdown",
      "source": [
        "## Data PreProcessing"
      ],
      "metadata": {
        "id": "oxwF0wPSY1oJ"
      }
    },
    {
      "cell_type": "code",
      "source": [
        "# Checking for missing values\n",
        "\n",
        "df.isnull().sum()"
      ],
      "metadata": {
        "colab": {
          "base_uri": "https://localhost:8080/"
        },
        "collapsed": true,
        "id": "wWZpfvfVYMU5",
        "outputId": "d8dc2b8a-463e-4214-b73b-9e11d4d9a23a"
      },
      "execution_count": 9,
      "outputs": [
        {
          "output_type": "execute_result",
          "data": {
            "text/plain": [
              "Item_Identifier                 0\n",
              "Item_Weight                     0\n",
              "Item_Fat_Content                0\n",
              "Item_Visibility                 0\n",
              "Item_Type                       0\n",
              "Item_MRP                        0\n",
              "Outlet_Identifier               0\n",
              "Outlet_Establishment_Year       0\n",
              "Outlet_Size                     0\n",
              "Outlet_Location_Type            0\n",
              "Outlet_Type                     0\n",
              "Item_Outlet_Sales            5681\n",
              "dtype: int64"
            ]
          },
          "metadata": {},
          "execution_count": 9
        }
      ]
    },
    {
      "cell_type": "code",
      "source": [
        "# Creating a subset of all nan values in target feature for testing purpose\n",
        "\n",
        "df_test = df[df.isnull().any(axis = 1)]\n",
        "\n",
        "# Shape of the test data\n",
        "\n",
        "print(f\"Structure of test data \\n\\nRows : {df_test.shape[0]} and Columns : {df_test.shape[1]}\")\n",
        "\n",
        "# Preview of test data\n",
        "\n",
        "df_test.head()\n"
      ],
      "metadata": {
        "colab": {
          "base_uri": "https://localhost:8080/",
          "height": 305
        },
        "collapsed": true,
        "id": "rBDqLfk3YNZV",
        "outputId": "536f1a1e-7471-47d0-ed4f-fc4e70607a4a"
      },
      "execution_count": 10,
      "outputs": [
        {
          "output_type": "stream",
          "name": "stdout",
          "text": [
            "Structure of test data \n",
            "\n",
            "Rows : 5681 and Columns : 12\n"
          ]
        },
        {
          "output_type": "execute_result",
          "data": {
            "text/plain": [
              "     Item_Identifier  Item_Weight Item_Fat_Content  Item_Visibility  \\\n",
              "8523           FDW58       20.750          Low Fat         0.007565   \n",
              "8524           FDW14        8.300          Regular         0.038428   \n",
              "8525           NCN55       14.600          Low Fat         0.099575   \n",
              "8526           FDQ58        7.315          Low Fat         0.015388   \n",
              "8527           FDY38       13.600          Regular         0.118599   \n",
              "\n",
              "        Item_Type  Item_MRP Outlet_Identifier  Outlet_Establishment_Year  \\\n",
              "8523  Snack Foods  107.8622            OUT049                       1999   \n",
              "8524        Dairy   87.3198            OUT017                       2007   \n",
              "8525       Others  241.7538            OUT010                       1998   \n",
              "8526  Snack Foods  155.0340            OUT017                       2007   \n",
              "8527        Dairy  234.2300            OUT027                       1985   \n",
              "\n",
              "     Outlet_Size Outlet_Location_Type        Outlet_Type  Item_Outlet_Sales  \n",
              "8523      Medium               Tier 1  Supermarket Type1                NaN  \n",
              "8524       Small               Tier 2  Supermarket Type1                NaN  \n",
              "8525      Medium               Tier 3      Grocery Store                NaN  \n",
              "8526       Small               Tier 2  Supermarket Type1                NaN  \n",
              "8527      Medium               Tier 3  Supermarket Type3                NaN  "
            ],
            "text/html": [
              "\n",
              "  <div id=\"df-4610770c-6eca-4d44-92da-5e4a01284b6b\">\n",
              "    <div class=\"colab-df-container\">\n",
              "      <div>\n",
              "<style scoped>\n",
              "    .dataframe tbody tr th:only-of-type {\n",
              "        vertical-align: middle;\n",
              "    }\n",
              "\n",
              "    .dataframe tbody tr th {\n",
              "        vertical-align: top;\n",
              "    }\n",
              "\n",
              "    .dataframe thead th {\n",
              "        text-align: right;\n",
              "    }\n",
              "</style>\n",
              "<table border=\"1\" class=\"dataframe\">\n",
              "  <thead>\n",
              "    <tr style=\"text-align: right;\">\n",
              "      <th></th>\n",
              "      <th>Item_Identifier</th>\n",
              "      <th>Item_Weight</th>\n",
              "      <th>Item_Fat_Content</th>\n",
              "      <th>Item_Visibility</th>\n",
              "      <th>Item_Type</th>\n",
              "      <th>Item_MRP</th>\n",
              "      <th>Outlet_Identifier</th>\n",
              "      <th>Outlet_Establishment_Year</th>\n",
              "      <th>Outlet_Size</th>\n",
              "      <th>Outlet_Location_Type</th>\n",
              "      <th>Outlet_Type</th>\n",
              "      <th>Item_Outlet_Sales</th>\n",
              "    </tr>\n",
              "  </thead>\n",
              "  <tbody>\n",
              "    <tr>\n",
              "      <th>8523</th>\n",
              "      <td>FDW58</td>\n",
              "      <td>20.750</td>\n",
              "      <td>Low Fat</td>\n",
              "      <td>0.007565</td>\n",
              "      <td>Snack Foods</td>\n",
              "      <td>107.8622</td>\n",
              "      <td>OUT049</td>\n",
              "      <td>1999</td>\n",
              "      <td>Medium</td>\n",
              "      <td>Tier 1</td>\n",
              "      <td>Supermarket Type1</td>\n",
              "      <td>NaN</td>\n",
              "    </tr>\n",
              "    <tr>\n",
              "      <th>8524</th>\n",
              "      <td>FDW14</td>\n",
              "      <td>8.300</td>\n",
              "      <td>Regular</td>\n",
              "      <td>0.038428</td>\n",
              "      <td>Dairy</td>\n",
              "      <td>87.3198</td>\n",
              "      <td>OUT017</td>\n",
              "      <td>2007</td>\n",
              "      <td>Small</td>\n",
              "      <td>Tier 2</td>\n",
              "      <td>Supermarket Type1</td>\n",
              "      <td>NaN</td>\n",
              "    </tr>\n",
              "    <tr>\n",
              "      <th>8525</th>\n",
              "      <td>NCN55</td>\n",
              "      <td>14.600</td>\n",
              "      <td>Low Fat</td>\n",
              "      <td>0.099575</td>\n",
              "      <td>Others</td>\n",
              "      <td>241.7538</td>\n",
              "      <td>OUT010</td>\n",
              "      <td>1998</td>\n",
              "      <td>Medium</td>\n",
              "      <td>Tier 3</td>\n",
              "      <td>Grocery Store</td>\n",
              "      <td>NaN</td>\n",
              "    </tr>\n",
              "    <tr>\n",
              "      <th>8526</th>\n",
              "      <td>FDQ58</td>\n",
              "      <td>7.315</td>\n",
              "      <td>Low Fat</td>\n",
              "      <td>0.015388</td>\n",
              "      <td>Snack Foods</td>\n",
              "      <td>155.0340</td>\n",
              "      <td>OUT017</td>\n",
              "      <td>2007</td>\n",
              "      <td>Small</td>\n",
              "      <td>Tier 2</td>\n",
              "      <td>Supermarket Type1</td>\n",
              "      <td>NaN</td>\n",
              "    </tr>\n",
              "    <tr>\n",
              "      <th>8527</th>\n",
              "      <td>FDY38</td>\n",
              "      <td>13.600</td>\n",
              "      <td>Regular</td>\n",
              "      <td>0.118599</td>\n",
              "      <td>Dairy</td>\n",
              "      <td>234.2300</td>\n",
              "      <td>OUT027</td>\n",
              "      <td>1985</td>\n",
              "      <td>Medium</td>\n",
              "      <td>Tier 3</td>\n",
              "      <td>Supermarket Type3</td>\n",
              "      <td>NaN</td>\n",
              "    </tr>\n",
              "  </tbody>\n",
              "</table>\n",
              "</div>\n",
              "      <button class=\"colab-df-convert\" onclick=\"convertToInteractive('df-4610770c-6eca-4d44-92da-5e4a01284b6b')\"\n",
              "              title=\"Convert this dataframe to an interactive table.\"\n",
              "              style=\"display:none;\">\n",
              "        \n",
              "  <svg xmlns=\"http://www.w3.org/2000/svg\" height=\"24px\"viewBox=\"0 0 24 24\"\n",
              "       width=\"24px\">\n",
              "    <path d=\"M0 0h24v24H0V0z\" fill=\"none\"/>\n",
              "    <path d=\"M18.56 5.44l.94 2.06.94-2.06 2.06-.94-2.06-.94-.94-2.06-.94 2.06-2.06.94zm-11 1L8.5 8.5l.94-2.06 2.06-.94-2.06-.94L8.5 2.5l-.94 2.06-2.06.94zm10 10l.94 2.06.94-2.06 2.06-.94-2.06-.94-.94-2.06-.94 2.06-2.06.94z\"/><path d=\"M17.41 7.96l-1.37-1.37c-.4-.4-.92-.59-1.43-.59-.52 0-1.04.2-1.43.59L10.3 9.45l-7.72 7.72c-.78.78-.78 2.05 0 2.83L4 21.41c.39.39.9.59 1.41.59.51 0 1.02-.2 1.41-.59l7.78-7.78 2.81-2.81c.8-.78.8-2.07 0-2.86zM5.41 20L4 18.59l7.72-7.72 1.47 1.35L5.41 20z\"/>\n",
              "  </svg>\n",
              "      </button>\n",
              "      \n",
              "  <style>\n",
              "    .colab-df-container {\n",
              "      display:flex;\n",
              "      flex-wrap:wrap;\n",
              "      gap: 12px;\n",
              "    }\n",
              "\n",
              "    .colab-df-convert {\n",
              "      background-color: #E8F0FE;\n",
              "      border: none;\n",
              "      border-radius: 50%;\n",
              "      cursor: pointer;\n",
              "      display: none;\n",
              "      fill: #1967D2;\n",
              "      height: 32px;\n",
              "      padding: 0 0 0 0;\n",
              "      width: 32px;\n",
              "    }\n",
              "\n",
              "    .colab-df-convert:hover {\n",
              "      background-color: #E2EBFA;\n",
              "      box-shadow: 0px 1px 2px rgba(60, 64, 67, 0.3), 0px 1px 3px 1px rgba(60, 64, 67, 0.15);\n",
              "      fill: #174EA6;\n",
              "    }\n",
              "\n",
              "    [theme=dark] .colab-df-convert {\n",
              "      background-color: #3B4455;\n",
              "      fill: #D2E3FC;\n",
              "    }\n",
              "\n",
              "    [theme=dark] .colab-df-convert:hover {\n",
              "      background-color: #434B5C;\n",
              "      box-shadow: 0px 1px 3px 1px rgba(0, 0, 0, 0.15);\n",
              "      filter: drop-shadow(0px 1px 2px rgba(0, 0, 0, 0.3));\n",
              "      fill: #FFFFFF;\n",
              "    }\n",
              "  </style>\n",
              "\n",
              "      <script>\n",
              "        const buttonEl =\n",
              "          document.querySelector('#df-4610770c-6eca-4d44-92da-5e4a01284b6b button.colab-df-convert');\n",
              "        buttonEl.style.display =\n",
              "          google.colab.kernel.accessAllowed ? 'block' : 'none';\n",
              "\n",
              "        async function convertToInteractive(key) {\n",
              "          const element = document.querySelector('#df-4610770c-6eca-4d44-92da-5e4a01284b6b');\n",
              "          const dataTable =\n",
              "            await google.colab.kernel.invokeFunction('convertToInteractive',\n",
              "                                                     [key], {});\n",
              "          if (!dataTable) return;\n",
              "\n",
              "          const docLinkHtml = 'Like what you see? Visit the ' +\n",
              "            '<a target=\"_blank\" href=https://colab.research.google.com/notebooks/data_table.ipynb>data table notebook</a>'\n",
              "            + ' to learn more about interactive tables.';\n",
              "          element.innerHTML = '';\n",
              "          dataTable['output_type'] = 'display_data';\n",
              "          await google.colab.output.renderOutput(dataTable, element);\n",
              "          const docLink = document.createElement('div');\n",
              "          docLink.innerHTML = docLinkHtml;\n",
              "          element.appendChild(docLink);\n",
              "        }\n",
              "      </script>\n",
              "    </div>\n",
              "  </div>\n",
              "  "
            ]
          },
          "metadata": {},
          "execution_count": 10
        }
      ]
    },
    {
      "cell_type": "code",
      "source": [
        "# Creating a subset of all not nan values in target feature for trainig purpose\n",
        "\n",
        "df = df[df.isnull().any(axis = 1)!= True]\n",
        "\n",
        "# Shape of the train data\n",
        "\n",
        "print(f\"Structure of train data \\n\\nRows : {df.shape[0]} and Columns : {df.shape[1]}\")\n",
        "\n",
        "# Preview of train data\n",
        "\n",
        "df.head()"
      ],
      "metadata": {
        "colab": {
          "base_uri": "https://localhost:8080/",
          "height": 391
        },
        "id": "QFTQRi4XYNWs",
        "outputId": "3d083660-c921-4a89-c01d-af9eebcc4e20"
      },
      "execution_count": 11,
      "outputs": [
        {
          "output_type": "stream",
          "name": "stdout",
          "text": [
            "Structure of train data \n",
            "\n",
            "Rows : 8523 and Columns : 12\n"
          ]
        },
        {
          "output_type": "execute_result",
          "data": {
            "text/plain": [
              "  Item_Identifier  Item_Weight Item_Fat_Content  Item_Visibility  \\\n",
              "0           FDA15         9.30          Low Fat         0.016047   \n",
              "1           DRC01         5.92          Regular         0.019278   \n",
              "2           FDN15        17.50          Low Fat         0.016760   \n",
              "3           FDX07        19.20          Regular         0.074402   \n",
              "4           NCD19         8.93          Low Fat         0.064299   \n",
              "\n",
              "               Item_Type  Item_MRP Outlet_Identifier  \\\n",
              "0                  Dairy  249.8092            OUT049   \n",
              "1            Soft Drinks   48.2692            OUT018   \n",
              "2                   Meat  141.6180            OUT049   \n",
              "3  Fruits and Vegetables  182.0950            OUT010   \n",
              "4              Household   53.8614            OUT013   \n",
              "\n",
              "   Outlet_Establishment_Year Outlet_Size Outlet_Location_Type  \\\n",
              "0                       1999      Medium               Tier 1   \n",
              "1                       2009      Medium               Tier 3   \n",
              "2                       1999      Medium               Tier 1   \n",
              "3                       1998      Medium               Tier 3   \n",
              "4                       1987        High               Tier 3   \n",
              "\n",
              "         Outlet_Type  Item_Outlet_Sales  \n",
              "0  Supermarket Type1          3735.1380  \n",
              "1  Supermarket Type2           443.4228  \n",
              "2  Supermarket Type1          2097.2700  \n",
              "3      Grocery Store           732.3800  \n",
              "4  Supermarket Type1           994.7052  "
            ],
            "text/html": [
              "\n",
              "  <div id=\"df-c81af71f-b531-4b01-9e27-4e9d55cc9823\">\n",
              "    <div class=\"colab-df-container\">\n",
              "      <div>\n",
              "<style scoped>\n",
              "    .dataframe tbody tr th:only-of-type {\n",
              "        vertical-align: middle;\n",
              "    }\n",
              "\n",
              "    .dataframe tbody tr th {\n",
              "        vertical-align: top;\n",
              "    }\n",
              "\n",
              "    .dataframe thead th {\n",
              "        text-align: right;\n",
              "    }\n",
              "</style>\n",
              "<table border=\"1\" class=\"dataframe\">\n",
              "  <thead>\n",
              "    <tr style=\"text-align: right;\">\n",
              "      <th></th>\n",
              "      <th>Item_Identifier</th>\n",
              "      <th>Item_Weight</th>\n",
              "      <th>Item_Fat_Content</th>\n",
              "      <th>Item_Visibility</th>\n",
              "      <th>Item_Type</th>\n",
              "      <th>Item_MRP</th>\n",
              "      <th>Outlet_Identifier</th>\n",
              "      <th>Outlet_Establishment_Year</th>\n",
              "      <th>Outlet_Size</th>\n",
              "      <th>Outlet_Location_Type</th>\n",
              "      <th>Outlet_Type</th>\n",
              "      <th>Item_Outlet_Sales</th>\n",
              "    </tr>\n",
              "  </thead>\n",
              "  <tbody>\n",
              "    <tr>\n",
              "      <th>0</th>\n",
              "      <td>FDA15</td>\n",
              "      <td>9.30</td>\n",
              "      <td>Low Fat</td>\n",
              "      <td>0.016047</td>\n",
              "      <td>Dairy</td>\n",
              "      <td>249.8092</td>\n",
              "      <td>OUT049</td>\n",
              "      <td>1999</td>\n",
              "      <td>Medium</td>\n",
              "      <td>Tier 1</td>\n",
              "      <td>Supermarket Type1</td>\n",
              "      <td>3735.1380</td>\n",
              "    </tr>\n",
              "    <tr>\n",
              "      <th>1</th>\n",
              "      <td>DRC01</td>\n",
              "      <td>5.92</td>\n",
              "      <td>Regular</td>\n",
              "      <td>0.019278</td>\n",
              "      <td>Soft Drinks</td>\n",
              "      <td>48.2692</td>\n",
              "      <td>OUT018</td>\n",
              "      <td>2009</td>\n",
              "      <td>Medium</td>\n",
              "      <td>Tier 3</td>\n",
              "      <td>Supermarket Type2</td>\n",
              "      <td>443.4228</td>\n",
              "    </tr>\n",
              "    <tr>\n",
              "      <th>2</th>\n",
              "      <td>FDN15</td>\n",
              "      <td>17.50</td>\n",
              "      <td>Low Fat</td>\n",
              "      <td>0.016760</td>\n",
              "      <td>Meat</td>\n",
              "      <td>141.6180</td>\n",
              "      <td>OUT049</td>\n",
              "      <td>1999</td>\n",
              "      <td>Medium</td>\n",
              "      <td>Tier 1</td>\n",
              "      <td>Supermarket Type1</td>\n",
              "      <td>2097.2700</td>\n",
              "    </tr>\n",
              "    <tr>\n",
              "      <th>3</th>\n",
              "      <td>FDX07</td>\n",
              "      <td>19.20</td>\n",
              "      <td>Regular</td>\n",
              "      <td>0.074402</td>\n",
              "      <td>Fruits and Vegetables</td>\n",
              "      <td>182.0950</td>\n",
              "      <td>OUT010</td>\n",
              "      <td>1998</td>\n",
              "      <td>Medium</td>\n",
              "      <td>Tier 3</td>\n",
              "      <td>Grocery Store</td>\n",
              "      <td>732.3800</td>\n",
              "    </tr>\n",
              "    <tr>\n",
              "      <th>4</th>\n",
              "      <td>NCD19</td>\n",
              "      <td>8.93</td>\n",
              "      <td>Low Fat</td>\n",
              "      <td>0.064299</td>\n",
              "      <td>Household</td>\n",
              "      <td>53.8614</td>\n",
              "      <td>OUT013</td>\n",
              "      <td>1987</td>\n",
              "      <td>High</td>\n",
              "      <td>Tier 3</td>\n",
              "      <td>Supermarket Type1</td>\n",
              "      <td>994.7052</td>\n",
              "    </tr>\n",
              "  </tbody>\n",
              "</table>\n",
              "</div>\n",
              "      <button class=\"colab-df-convert\" onclick=\"convertToInteractive('df-c81af71f-b531-4b01-9e27-4e9d55cc9823')\"\n",
              "              title=\"Convert this dataframe to an interactive table.\"\n",
              "              style=\"display:none;\">\n",
              "        \n",
              "  <svg xmlns=\"http://www.w3.org/2000/svg\" height=\"24px\"viewBox=\"0 0 24 24\"\n",
              "       width=\"24px\">\n",
              "    <path d=\"M0 0h24v24H0V0z\" fill=\"none\"/>\n",
              "    <path d=\"M18.56 5.44l.94 2.06.94-2.06 2.06-.94-2.06-.94-.94-2.06-.94 2.06-2.06.94zm-11 1L8.5 8.5l.94-2.06 2.06-.94-2.06-.94L8.5 2.5l-.94 2.06-2.06.94zm10 10l.94 2.06.94-2.06 2.06-.94-2.06-.94-.94-2.06-.94 2.06-2.06.94z\"/><path d=\"M17.41 7.96l-1.37-1.37c-.4-.4-.92-.59-1.43-.59-.52 0-1.04.2-1.43.59L10.3 9.45l-7.72 7.72c-.78.78-.78 2.05 0 2.83L4 21.41c.39.39.9.59 1.41.59.51 0 1.02-.2 1.41-.59l7.78-7.78 2.81-2.81c.8-.78.8-2.07 0-2.86zM5.41 20L4 18.59l7.72-7.72 1.47 1.35L5.41 20z\"/>\n",
              "  </svg>\n",
              "      </button>\n",
              "      \n",
              "  <style>\n",
              "    .colab-df-container {\n",
              "      display:flex;\n",
              "      flex-wrap:wrap;\n",
              "      gap: 12px;\n",
              "    }\n",
              "\n",
              "    .colab-df-convert {\n",
              "      background-color: #E8F0FE;\n",
              "      border: none;\n",
              "      border-radius: 50%;\n",
              "      cursor: pointer;\n",
              "      display: none;\n",
              "      fill: #1967D2;\n",
              "      height: 32px;\n",
              "      padding: 0 0 0 0;\n",
              "      width: 32px;\n",
              "    }\n",
              "\n",
              "    .colab-df-convert:hover {\n",
              "      background-color: #E2EBFA;\n",
              "      box-shadow: 0px 1px 2px rgba(60, 64, 67, 0.3), 0px 1px 3px 1px rgba(60, 64, 67, 0.15);\n",
              "      fill: #174EA6;\n",
              "    }\n",
              "\n",
              "    [theme=dark] .colab-df-convert {\n",
              "      background-color: #3B4455;\n",
              "      fill: #D2E3FC;\n",
              "    }\n",
              "\n",
              "    [theme=dark] .colab-df-convert:hover {\n",
              "      background-color: #434B5C;\n",
              "      box-shadow: 0px 1px 3px 1px rgba(0, 0, 0, 0.15);\n",
              "      filter: drop-shadow(0px 1px 2px rgba(0, 0, 0, 0.3));\n",
              "      fill: #FFFFFF;\n",
              "    }\n",
              "  </style>\n",
              "\n",
              "      <script>\n",
              "        const buttonEl =\n",
              "          document.querySelector('#df-c81af71f-b531-4b01-9e27-4e9d55cc9823 button.colab-df-convert');\n",
              "        buttonEl.style.display =\n",
              "          google.colab.kernel.accessAllowed ? 'block' : 'none';\n",
              "\n",
              "        async function convertToInteractive(key) {\n",
              "          const element = document.querySelector('#df-c81af71f-b531-4b01-9e27-4e9d55cc9823');\n",
              "          const dataTable =\n",
              "            await google.colab.kernel.invokeFunction('convertToInteractive',\n",
              "                                                     [key], {});\n",
              "          if (!dataTable) return;\n",
              "\n",
              "          const docLinkHtml = 'Like what you see? Visit the ' +\n",
              "            '<a target=\"_blank\" href=https://colab.research.google.com/notebooks/data_table.ipynb>data table notebook</a>'\n",
              "            + ' to learn more about interactive tables.';\n",
              "          element.innerHTML = '';\n",
              "          dataTable['output_type'] = 'display_data';\n",
              "          await google.colab.output.renderOutput(dataTable, element);\n",
              "          const docLink = document.createElement('div');\n",
              "          docLink.innerHTML = docLinkHtml;\n",
              "          element.appendChild(docLink);\n",
              "        }\n",
              "      </script>\n",
              "    </div>\n",
              "  </div>\n",
              "  "
            ]
          },
          "metadata": {},
          "execution_count": 11
        }
      ]
    },
    {
      "cell_type": "code",
      "source": [
        "# Dropping Item_Identifier from the df\n",
        "\n",
        "df.drop('Item_Identifier', axis = 1, inplace = True)"
      ],
      "metadata": {
        "id": "9ge8yjWKq2RW"
      },
      "execution_count": 12,
      "outputs": []
    },
    {
      "cell_type": "code",
      "source": [
        "# Converting Categorical column into numerical column using LabelEncoding\n",
        "\n",
        "oc = df.describe(include = 'object').columns\n",
        "\n",
        "for _ in oc:\n",
        "    df[_] = LabelEncoder().fit_transform(df[_])\n",
        "    print(f'{_} \\n{df[_].unique()}')\n"
      ],
      "metadata": {
        "colab": {
          "base_uri": "https://localhost:8080/"
        },
        "id": "2ddhTNhYYNUJ",
        "outputId": "0ff15a01-2708-46ca-a075-69d195d0ed33"
      },
      "execution_count": 13,
      "outputs": [
        {
          "output_type": "stream",
          "name": "stdout",
          "text": [
            "Item_Fat_Content \n",
            "[0 1]\n",
            "Item_Type \n",
            "[ 4 14 10  6  9  0 13  5  2  8  7  3  1 15 11 12]\n",
            "Outlet_Identifier \n",
            "[9 3 0 1 5 7 2 8 6 4]\n",
            "Outlet_Size \n",
            "[1 0 2]\n",
            "Outlet_Location_Type \n",
            "[0 2 1]\n",
            "Outlet_Type \n",
            "[1 2 0 3]\n"
          ]
        }
      ]
    },
    {
      "cell_type": "markdown",
      "source": [
        "* All the numerical columns are encoded into numerical format"
      ],
      "metadata": {
        "id": "qK7FF3aWrJ9p"
      }
    },
    {
      "cell_type": "code",
      "source": [
        "# Finding Correlation - heatmap\n",
        "\n",
        "plt.figure(figsize = (15,7))\n",
        "sb.heatmap(df.corr(), annot = True, cmap = 'Accent')\n",
        "plt.title(\"Correlation\")\n",
        "plt.show()"
      ],
      "metadata": {
        "colab": {
          "base_uri": "https://localhost:8080/",
          "height": 567
        },
        "id": "k9XJCAbXYNRQ",
        "outputId": "4751a513-494f-46b7-98f1-b279e958dd58"
      },
      "execution_count": 14,
      "outputs": [
        {
          "output_type": "display_data",
          "data": {
            "text/plain": [
              "<Figure size 1080x504 with 2 Axes>"
            ],
            "image/png": "[encoded data removed]"
          },
          "metadata": {
            "needs_background": "light"
          }
        }
      ]
    },
    {
      "cell_type": "markdown",
      "source": [
        "*  Incremantal Factors\n",
        "\n",
        "    * The features which are **Positively highly** correlated are:\n",
        "        * item_mrp, outlet_identifier, outlet_type\n",
        "\n",
        "*  Decremantal Factors\n",
        "\n",
        "    * The features which are **Negatively highly** correlated are:\n",
        "        * item_visibility, \n",
        "\n",
        "* Not Impacting Factors\n",
        "\n",
        "    * The features which are **not correlated** are:\n",
        "         * item_weight, item_fat_content, item_type,outlet_szie,   \n",
        "         outlet_establishment_year\n",
        "\n",
        "# Observations\n",
        "\n",
        "* From this we can see the items which are correlated either =Ve or -ve relates   to **Outlets**\n",
        "\n",
        "* The items which are not correlated are related to **Items**"
      ],
      "metadata": {
        "id": "a0cjdOj8tANB"
      }
    },
    {
      "cell_type": "markdown",
      "source": [
        "##  Visulizations"
      ],
      "metadata": {
        "id": "NFr31rwMvziY"
      }
    },
    {
      "cell_type": "code",
      "source": [
        "# Definng colors and figuresize\n",
        "\n",
        "colors = ['#1f77b4', '#ff7f0e', '#2ca02c', '#d62728', '#9467bd', '#8c564b', '#e377c2']\n",
        "plt.figure(figsize = (20, 6))\n",
        "\n",
        "# Plotting How Weight Impacts Sales ? - barplot\n",
        "\n",
        "plt.subplot(121)\n",
        "weight = (pd.cut(df_copy['Item_Weight'],bins =[3, 10, 15, 20, 25]))\n",
        "plt.title(\"How Weight Impacts Sales ? \")\n",
        "plt.ylabel('Average Sales')\n",
        "ax = df_copy.groupby(weight)['Item_Outlet_Sales'].mean().round().plot.bar(color = colors)\n",
        "for container in ax.containers:\n",
        "    ax.bar_label(container,label_type='edge')\n",
        "\n",
        "# Plotting How Item_Fat_Content Impacts Sales ? - barplot\n",
        "\n",
        "plt.subplot(122)\n",
        "plt.title(\"How Fat Content Impacts Sales ? \")\n",
        "plt.ylabel('Average Sales')\n",
        "ax = df_copy.groupby('Item_Fat_Content')['Item_Outlet_Sales'].mean().round().plot.bar(color = colors)\n",
        "for container in ax.containers:\n",
        "    ax.bar_label(container,label_type='edge')\n",
        "\n",
        "# Plotting How Item_Type Impacts Sales ? - barplot\n",
        "\n",
        "plt.figure(figsize = (20, 6))\n",
        "plt.title(\" How Item Type Impacts Sales ? \")\n",
        "plt.ylabel('Average Sales')\n",
        "ax = df_copy.groupby('Item_Type')['Item_Outlet_Sales'].mean().round().plot.bar(color = colors)\n",
        "for container in ax.containers:\n",
        "    ax.bar_label(container,label_type='edge')\n",
        "\n",
        "plt.show()"
      ],
      "metadata": {
        "colab": {
          "base_uri": "https://localhost:8080/",
          "height": 920
        },
        "collapsed": true,
        "id": "jdTKvaasvu6k",
        "outputId": "3201bd4b-b050-48c0-f42b-b3c90623ee0d"
      },
      "execution_count": 15,
      "outputs": [
        {
          "output_type": "display_data",
          "data": {
            "text/plain": [
              "<Figure size 1440x432 with 2 Axes>"
            ],
            "image/png": "[encoded data removed]"
          },
          "metadata": {
            "needs_background": "light"
          }
        },
        {
          "output_type": "display_data",
          "data": {
            "text/plain": [
              "<Figure size 1440x432 with 1 Axes>"
            ],
            "image/png": "[encoded data removed]"
          },
          "metadata": {
            "needs_background": "light"
          }
        }
      ]
    },
    {
      "cell_type": "markdown",
      "source": [
        "* From this its clear that **weight, Fat content and item type is not impacting sales** much good, They are just neutral "
      ],
      "metadata": {
        "id": "aqq2lzigykw3"
      }
    },
    {
      "cell_type": "code",
      "source": [
        "# Feature Selection \n",
        "\n",
        "# Selecting Important features\n",
        "\n",
        "x = df[['Item_MRP', 'Outlet_Identifier', 'Outlet_Type', 'Item_Visibility', 'Item_Fat_Content']]\n",
        "\n",
        "y = df['Item_Outlet_Sales']"
      ],
      "metadata": {
        "id": "1JA4HrL_YNMS"
      },
      "execution_count": 16,
      "outputs": []
    },
    {
      "cell_type": "code",
      "source": [
        "# Scaling using Standard Scaler because the prices may dominate the lower values\n",
        "\n",
        "x = StandardScaler().fit_transform(x)"
      ],
      "metadata": {
        "id": "f32E6KvuYNKS"
      },
      "execution_count": 17,
      "outputs": []
    },
    {
      "cell_type": "code",
      "source": [
        "# Splitting the data\n",
        "\n",
        "x_train, x_test, y_train, y_test = train_test_split(x, y, test_size=0.3, random_state=20)\n",
        "\n",
        "print(\"Shape of x_train - {} x_test {}\".format(x_train.shape, x_test.shape))"
      ],
      "metadata": {
        "colab": {
          "base_uri": "https://localhost:8080/"
        },
        "collapsed": true,
        "id": "PqLnF6pVYNII",
        "outputId": "c2fd0455-ef83-410d-84cf-caa0dbd6df91"
      },
      "execution_count": 18,
      "outputs": [
        {
          "output_type": "stream",
          "name": "stdout",
          "text": [
            "Shape of x_train - (5966, 5) x_test (2557, 5)\n"
          ]
        }
      ]
    },
    {
      "cell_type": "markdown",
      "source": [
        "# Model Building\n",
        "\n",
        "#### LINEAR REGRESSION"
      ],
      "metadata": {
        "id": "a2VciXaN4FJV"
      }
    },
    {
      "cell_type": "code",
      "source": [
        "# Impoerting Linear Regression\n",
        "\n",
        "from sklearn.linear_model import LinearRegression"
      ],
      "metadata": {
        "id": "PIIdIemSYNFy"
      },
      "execution_count": 19,
      "outputs": []
    },
    {
      "cell_type": "code",
      "source": [
        "# Builading and Trainig the model\n",
        "\n",
        "Lr = LinearRegression()\n",
        "\n",
        "Lr.fit(x_train, y_train)\n",
        "\n",
        "# Prediction\n",
        "\n",
        "lr_pred = Lr.predict(x_test)"
      ],
      "metadata": {
        "id": "WrtuwsU9YNDp"
      },
      "execution_count": 20,
      "outputs": []
    },
    {
      "cell_type": "code",
      "source": [
        "# Trainng and Testing Score\n",
        "\n",
        "print(f'Training_Score = {Lr.score(x_train, y_train).round(2)}\\nTesting_score = {Lr.score(x_test, y_test).round(2)}')"
      ],
      "metadata": {
        "colab": {
          "base_uri": "https://localhost:8080/"
        },
        "id": "ZcprWXOK6X8s",
        "outputId": "cc4dba1b-ad6d-4063-dcde-11007f26e65a"
      },
      "execution_count": 21,
      "outputs": [
        {
          "output_type": "stream",
          "name": "stdout",
          "text": [
            "Training_Score = 0.5\n",
            "Testing_score = 0.5\n"
          ]
        }
      ]
    },
    {
      "cell_type": "code",
      "source": [
        "# Calculating Slop, Intercept,  MSE, RMSE, and R2 for LR\n",
        "\n",
        "# Calculating Slope and Intercept\n",
        "\n",
        "print(f'Intercept : {(Lr.intercept_).round(2)}')\n",
        "print(f'Slope : {(Lr.coef_).round(2)}')\n",
        "\n",
        "# calculating the mean squared error\n",
        "\n",
        "print(f'MSE  = {mean_squared_error(y_test, lr_pred).round(2)}')\n",
        "\n",
        "# Calculating the root mean squared error using sqrt\n",
        " \n",
        "print(f'RMSE = {np.sqrt(mean_squared_error(y_test, lr_pred)).round(2)}')\n",
        "\n",
        "# Calculating the r2 score using R2\n",
        "\n",
        "print(f'R2   = {r2_score(y_test, lr_pred).round(2)}')"
      ],
      "metadata": {
        "colab": {
          "base_uri": "https://localhost:8080/"
        },
        "id": "7o98KqhAYNAz",
        "outputId": "fbbb637e-e3f3-4a66-d2c5-4230adb165a0"
      },
      "execution_count": 22,
      "outputs": [
        {
          "output_type": "stream",
          "name": "stdout",
          "text": [
            "Intercept : 2189.86\n",
            "Slope : [982.31 198.98 652.04 -71.73  20.78]\n",
            "MSE  = 1435760.54\n",
            "RMSE = 1198.23\n",
            "R2   = 0.5\n"
          ]
        }
      ]
    },
    {
      "cell_type": "code",
      "source": [
        "# Creating a list of R2values for each model \n",
        "\n",
        "R2_value = {}\n",
        "R2_value[(r2_score(y_test, lr_pred).round(2))] = 'Linear_Regression'"
      ],
      "metadata": {
        "id": "M80VpFszVaQ6"
      },
      "execution_count": 23,
      "outputs": []
    },
    {
      "cell_type": "markdown",
      "source": [
        "#### From **Linear Regression**\n",
        "\n",
        "* The R2 value is **50%** , the model able to explain only 50% of the variance in the outcome variable \n",
        "* The trainig and testing score is also equal.\n",
        "\n",
        "* The RMSE Value is very **large**.\n",
        "\n",
        "* The most impacting factor of target y is **Item_MRP**.\n",
        "\n",
        "* The **LR model** can able to produce only **50% better results**."
      ],
      "metadata": {
        "id": "95ypXgc99e9c"
      }
    },
    {
      "cell_type": "code",
      "source": [],
      "metadata": {
        "id": "z9WSNeVu-jkr"
      },
      "execution_count": 23,
      "outputs": []
    },
    {
      "cell_type": "markdown",
      "source": [
        "#### DECISON_TREE_REGRESSOR"
      ],
      "metadata": {
        "id": "Imxwp97z-bR7"
      }
    },
    {
      "cell_type": "code",
      "source": [
        "# Importing DecisionTreeRegressor from sklearn\n",
        "\n",
        "from sklearn.tree import DecisionTreeRegressor"
      ],
      "metadata": {
        "id": "jA9S-U_6YM8a"
      },
      "execution_count": 24,
      "outputs": []
    },
    {
      "cell_type": "code",
      "source": [
        "# Builading and Trainig the model\n",
        "\n",
        "Dt = DecisionTreeRegressor()\n",
        "\n",
        "Dt.fit(x_train, y_train)\n",
        "\n",
        "# Prediction\n",
        "\n",
        "dt_pred = Dt.predict(x_test)"
      ],
      "metadata": {
        "id": "WL8tzaHOYM55"
      },
      "execution_count": 25,
      "outputs": []
    },
    {
      "cell_type": "code",
      "source": [
        "# Trainng and Testing Score\n",
        "\n",
        "print(f'Training_Score = {Dt.score(x_train, y_train).round(2)}\\nTesting_score = {Dt.score(x_test, y_test).round(2)}')"
      ],
      "metadata": {
        "colab": {
          "base_uri": "https://localhost:8080/"
        },
        "id": "zKdkR2RPYM3u",
        "outputId": "b00bd11e-509c-4b37-9431-eeb4c5d16312"
      },
      "execution_count": 26,
      "outputs": [
        {
          "output_type": "stream",
          "name": "stdout",
          "text": [
            "Training_Score = 1.0\n",
            "Testing_score = 0.18\n"
          ]
        }
      ]
    },
    {
      "cell_type": "code",
      "source": [
        "# Calculating MSE, RMSE, and R2 for DTR\n",
        "\n",
        "# calculating the mean squared error\n",
        "\n",
        "print(f'MSE  = {mean_squared_error(y_test, dt_pred).round(2)}')\n",
        "\n",
        "# Calculating the root mean squared error using sqrt\n",
        " \n",
        "print(f'RMSE = {np.sqrt(mean_squared_error(y_test, dt_pred)).round(2)}')\n",
        "\n",
        "# Calculating the r2 score using R2\n",
        "\n",
        "print(f'R2   = {r2_score(y_test, dt_pred).round(2)}')"
      ],
      "metadata": {
        "colab": {
          "base_uri": "https://localhost:8080/"
        },
        "id": "ZWXGe8uFYM1Y",
        "outputId": "48d4c4da-06c6-475e-b03d-df87b86df921"
      },
      "execution_count": 27,
      "outputs": [
        {
          "output_type": "stream",
          "name": "stdout",
          "text": [
            "MSE  = 2359025.87\n",
            "RMSE = 1535.91\n",
            "R2   = 0.18\n"
          ]
        }
      ]
    },
    {
      "cell_type": "markdown",
      "source": [
        "#### From **DecisionTreeRegressor**\n",
        "\n",
        "* The R2 value is **< 50%** , the model able to explain only 20% of the variance in the outcome variable.\n",
        "\n",
        "* The trainig and testing score have much difference.\n",
        "\n",
        "        * The testing score is **less** than training score.\n",
        "        * The model is overfitted\n",
        "\n",
        "* The RMSE Value is very large i.e **>** LR_Model.\n",
        "\n",
        "* The **DTR** model can able to produce only **20%** better results."
      ],
      "metadata": {
        "id": "nPuqzlJX_nma"
      }
    },
    {
      "cell_type": "code",
      "source": [
        "R2_value[(r2_score(y_test, dt_pred).round(2))] = 'DecisionTreeRegressor'\n",
        "R2_value"
      ],
      "metadata": {
        "colab": {
          "base_uri": "https://localhost:8080/"
        },
        "id": "Q_m1TTnrBj2Z",
        "outputId": "a1b291e0-468c-4e58-ddb9-8faf0fa22d1d"
      },
      "execution_count": 28,
      "outputs": [
        {
          "output_type": "execute_result",
          "data": {
            "text/plain": [
              "{0.5: 'Linear_Regression', 0.18: 'DecisionTreeRegressor'}"
            ]
          },
          "metadata": {},
          "execution_count": 28
        }
      ]
    },
    {
      "cell_type": "markdown",
      "source": [
        "#### RANDOM_FOREST"
      ],
      "metadata": {
        "id": "utd74HOQBY5Y"
      }
    },
    {
      "cell_type": "code",
      "source": [
        "# Importing RandomForestRegressor from sklearn\n",
        "\n",
        "from sklearn.ensemble import RandomForestRegressor"
      ],
      "metadata": {
        "id": "z8W_AcqqYMyy"
      },
      "execution_count": 29,
      "outputs": []
    },
    {
      "cell_type": "code",
      "source": [
        "# Builading and Trainig the model\n",
        "\n",
        "Rf = RandomForestRegressor(n_estimators = 30, n_jobs = -1, max_depth = 5,random_state = 20, oob_score = True)\n",
        "\n",
        "Rf.fit(x_train, y_train)\n",
        "\n",
        "# Prediction\n",
        "\n",
        "rf_pred = Rf.predict(x_test)"
      ],
      "metadata": {
        "id": "6g6gmMJIYMwF"
      },
      "execution_count": 30,
      "outputs": []
    },
    {
      "cell_type": "code",
      "source": [
        "# Trainng and Testing Score\n",
        "\n",
        "print(f'Training_Score = {Rf.score(x_train, y_train).round(2)}\\nTesting_score = {Rf.score(x_test, y_test).round(2)}')"
      ],
      "metadata": {
        "colab": {
          "base_uri": "https://localhost:8080/"
        },
        "id": "yyz3GjZBYMrR",
        "outputId": "ce119ebc-05e9-4244-e7f3-9f3498ae53e2"
      },
      "execution_count": 31,
      "outputs": [
        {
          "output_type": "stream",
          "name": "stdout",
          "text": [
            "Training_Score = 0.61\n",
            "Testing_score = 0.6\n"
          ]
        }
      ]
    },
    {
      "cell_type": "code",
      "source": [
        "# Calculating MSE, RMSE, and R2 for DTR\n",
        "\n",
        "# calculating the mean squared error\n",
        "\n",
        "print(f'MSE  = {mean_squared_error(y_test, rf_pred).round(2)}')\n",
        "\n",
        "# Calculating the root mean squared error using sqrt\n",
        " \n",
        "print(f'RMSE = {np.sqrt(mean_squared_error(y_test, rf_pred)).round(2)}')\n",
        "\n",
        "# Calculating the r2 score using R2\n",
        "\n",
        "print(f'R2   = {r2_score(y_test, rf_pred).round(2)}')"
      ],
      "metadata": {
        "colab": {
          "base_uri": "https://localhost:8080/"
        },
        "id": "LmREjkvGDArJ",
        "outputId": "b4018444-267c-45d1-b9da-44145d62d24d"
      },
      "execution_count": 32,
      "outputs": [
        {
          "output_type": "stream",
          "name": "stdout",
          "text": [
            "MSE  = 1159719.09\n",
            "RMSE = 1076.9\n",
            "R2   = 0.6\n"
          ]
        }
      ]
    },
    {
      "cell_type": "markdown",
      "source": [
        "#### From **RandomForestRegressor**\n",
        "\n",
        "* The R2 value is **60%** , the model able to explain only 60% of the variance in the outcome variable \n",
        "* The trainig and testing score is also equal.\n",
        "\n",
        "* The RMSE Value is very **large** but it is **less** than **8LR**.\n",
        "\n",
        "* The **RF model** can able to produce only **60% better results**."
      ],
      "metadata": {
        "id": "_b6OpMCYDeLD"
      }
    },
    {
      "cell_type": "code",
      "source": [
        "R2_value[(r2_score(y_test, rf_pred).round(2))] = 'RandomForestRegressor'\n",
        "R2_value"
      ],
      "metadata": {
        "colab": {
          "base_uri": "https://localhost:8080/"
        },
        "id": "fYKttJPFDMjb",
        "outputId": "f93a8563-857b-423d-c932-bcec642f6203"
      },
      "execution_count": 33,
      "outputs": [
        {
          "output_type": "execute_result",
          "data": {
            "text/plain": [
              "{0.5: 'Linear_Regression',\n",
              " 0.18: 'DecisionTreeRegressor',\n",
              " 0.6: 'RandomForestRegressor'}"
            ]
          },
          "metadata": {},
          "execution_count": 33
        }
      ]
    },
    {
      "cell_type": "markdown",
      "source": [
        "#### ADABOSST_REGRESSOR"
      ],
      "metadata": {
        "id": "aLucKV8hJ2wO"
      }
    },
    {
      "cell_type": "code",
      "source": [
        "# importing AdaBoostRegressor\n",
        "\n",
        "from sklearn.ensemble import AdaBoostRegressor"
      ],
      "metadata": {
        "id": "m4gqyd3UD3r8"
      },
      "execution_count": 34,
      "outputs": []
    },
    {
      "cell_type": "code",
      "source": [
        "# Builading and Trainig the model\n",
        "\n",
        "Ab = AdaBoostRegressor()\n",
        "\n",
        "Ab.fit(x_train, y_train)\n",
        "\n",
        "# Prediction\n",
        "\n",
        "ab_pred = Ab.predict(x_test)"
      ],
      "metadata": {
        "id": "z2LIGzzmKB3w"
      },
      "execution_count": 35,
      "outputs": []
    },
    {
      "cell_type": "code",
      "source": [
        "# Trainng and Testing Score\n",
        "\n",
        "print(f'Training_Score = {Ab.score(x_train, y_train).round(2)}\\nTesting_score = {Ab.score(x_test, y_test).round(2)}')"
      ],
      "metadata": {
        "colab": {
          "base_uri": "https://localhost:8080/"
        },
        "id": "8ZNgpQ37Ke4L",
        "outputId": "ce24f93c-3e9d-4ede-8216-184572b92cc8"
      },
      "execution_count": 36,
      "outputs": [
        {
          "output_type": "stream",
          "name": "stdout",
          "text": [
            "Training_Score = 0.51\n",
            "Testing_score = 0.49\n"
          ]
        }
      ]
    },
    {
      "cell_type": "code",
      "source": [
        "# Calculating MSE, RMSE, and R2 for DTR\n",
        "\n",
        "# calculating the mean squared error\n",
        "\n",
        "print(f'MSE  = {mean_squared_error(y_test, ab_pred).round(2)}')\n",
        "\n",
        "# Calculating the root mean squared error using sqrt\n",
        " \n",
        "print(f'RMSE = {np.sqrt(mean_squared_error(y_test, ab_pred)).round(2)}')\n",
        "\n",
        "# Calculating the r2 score using R2\n",
        "\n",
        "print(f'R2   = {r2_score(y_test, ab_pred).round(2)}')"
      ],
      "metadata": {
        "colab": {
          "base_uri": "https://localhost:8080/"
        },
        "id": "5uYBDM5_KqI8",
        "outputId": "e72f33c0-7b5e-4c11-cf8e-b668a74dfdb9"
      },
      "execution_count": 37,
      "outputs": [
        {
          "output_type": "stream",
          "name": "stdout",
          "text": [
            "MSE  = 1474922.88\n",
            "RMSE = 1214.46\n",
            "R2   = 0.49\n"
          ]
        }
      ]
    },
    {
      "cell_type": "markdown",
      "source": [
        "#### From **AdaBoostRegressor**\n",
        "\n",
        "* The R2 value is **45%**, the model able to explain only 45% of the variance in the outcome variable.\n",
        "\n",
        "* The trainig and testing score is almost equal.\n",
        "\n",
        "* The RMSE Value is very **large**, i.e it's **>** than **LR and RF**.\n",
        "\n",
        "* The **AB_Model** can able to produce only **45% better results**."
      ],
      "metadata": {
        "id": "yzw1f4I6K1md"
      }
    },
    {
      "cell_type": "code",
      "source": [
        "R2_value[(r2_score(y_test, ab_pred).round(2))] = 'AdaBoostRegressor'\n",
        "R2_value"
      ],
      "metadata": {
        "colab": {
          "base_uri": "https://localhost:8080/"
        },
        "id": "DjAWItRYKxGL",
        "outputId": "6db42aa6-63f4-4b76-80b5-dfd48a8591f6"
      },
      "execution_count": 38,
      "outputs": [
        {
          "output_type": "execute_result",
          "data": {
            "text/plain": [
              "{0.5: 'Linear_Regression',\n",
              " 0.18: 'DecisionTreeRegressor',\n",
              " 0.6: 'RandomForestRegressor',\n",
              " 0.49: 'AdaBoostRegressor'}"
            ]
          },
          "metadata": {},
          "execution_count": 38
        }
      ]
    },
    {
      "cell_type": "markdown",
      "source": [
        "#### KNN_REGRESSOR"
      ],
      "metadata": {
        "id": "MrnZ2_G4M6_E"
      }
    },
    {
      "cell_type": "code",
      "source": [
        "# Impoting KNN library from scikit \n",
        "\n",
        "from sklearn.neighbors import KNeighborsRegressor"
      ],
      "metadata": {
        "id": "yT4SV1eNNDwS"
      },
      "execution_count": 39,
      "outputs": []
    },
    {
      "cell_type": "code",
      "source": [
        "# Finding best k neighbors\n",
        "\n",
        "rmse_val = []                     \n",
        "for K in range(15):\n",
        "    K = K + 1\n",
        "    model = KNeighborsRegressor(n_neighbors = K)\n",
        "    model.fit(x_train, y_train)       \n",
        "    y_pred = model.predict(x_test)  \n",
        "    error = np.sqrt(mean_squared_error(y_test, y_pred))     \n",
        "    rmse_val.append(error)           \n",
        "    print('RMSE-K= ', K, ':is', error)\n",
        "print(\"Minimum error:-\",min(rmse_val),\"at K =\",rmse_val.index(min(rmse_val))+1)\n",
        "\n",
        "# Plotting the error rate for respective neighbors\n",
        "\n",
        "plt.figure(figsize=(10,6))\n",
        "plt.plot(range(15), rmse_val, color='blue', linestyle='dashed', marker='o', markerfacecolor = 'red', markersize = 10)\n",
        "plt.title(' RMSE vs. K Value')\n",
        "plt.xlabel('K')\n",
        "plt.ylabel('RMSE_Error Rate')\n",
        "plt.show()"
      ],
      "metadata": {
        "colab": {
          "base_uri": "https://localhost:8080/",
          "height": 696
        },
        "collapsed": true,
        "id": "G1itZksaP7Qw",
        "outputId": "f89fb64b-7e3c-4e48-c905-66a7841e572a"
      },
      "execution_count": 40,
      "outputs": [
        {
          "output_type": "stream",
          "name": "stdout",
          "text": [
            "RMSE-K=  1 :is 1510.958836039891\n",
            "RMSE-K=  2 :is 1295.8166956293933\n",
            "RMSE-K=  3 :is 1231.669310774783\n",
            "RMSE-K=  4 :is 1191.3668577019855\n",
            "RMSE-K=  5 :is 1171.1264928065752\n",
            "RMSE-K=  6 :is 1161.913516136756\n",
            "RMSE-K=  7 :is 1149.1212522510846\n",
            "RMSE-K=  8 :is 1145.9675343579609\n",
            "RMSE-K=  9 :is 1137.741614273038\n",
            "RMSE-K=  10 :is 1132.5294459736313\n",
            "RMSE-K=  11 :is 1125.5833183455043\n",
            "RMSE-K=  12 :is 1121.1176885393338\n",
            "RMSE-K=  13 :is 1119.7923375499915\n",
            "RMSE-K=  14 :is 1113.702237422479\n",
            "RMSE-K=  15 :is 1110.8792773615983\n",
            "Minimum error:- 1110.8792773615983 at K = 15\n"
          ]
        },
        {
          "output_type": "display_data",
          "data": {
            "text/plain": [
              "<Figure size 720x432 with 1 Axes>"
            ],
            "image/png": "[encoded data removed]"
          },
          "metadata": {
            "needs_background": "light"
          }
        }
      ]
    },
    {
      "cell_type": "code",
      "source": [
        "# Implementing GridsearchCV\n",
        "\n",
        "from sklearn.model_selection import GridSearchCV\n",
        "\n",
        "params = {'n_neighbors':[10,11,12,13,14,15,16,17,18,19,20]}\n",
        "\n",
        "knn = KNeighborsRegressor()\n",
        "\n",
        "model = GridSearchCV(knn, params, cv=5)\n",
        "model.fit(x_train, y_train)\n",
        "model.best_params_"
      ],
      "metadata": {
        "colab": {
          "base_uri": "https://localhost:8080/"
        },
        "id": "_BhANtHcQUnX",
        "outputId": "c4043b74-8d21-4776-de99-8dff43dd1f7e"
      },
      "execution_count": 41,
      "outputs": [
        {
          "output_type": "execute_result",
          "data": {
            "text/plain": [
              "{'n_neighbors': 19}"
            ]
          },
          "metadata": {},
          "execution_count": 41
        }
      ]
    },
    {
      "cell_type": "code",
      "source": [
        "# Builading and Trainig the model\n",
        "\n",
        "Kn = KNeighborsRegressor(n_neighbors = 19, n_jobs = -1)\n",
        "\n",
        "Kn.fit(x_train, y_train)\n",
        "\n",
        "# Prediction\n",
        "\n",
        "kn_pred = Kn.predict(x_test)"
      ],
      "metadata": {
        "id": "vw-LkOpYS_FZ"
      },
      "execution_count": 42,
      "outputs": []
    },
    {
      "cell_type": "code",
      "source": [
        "# Trainng and Testing Score\n",
        "\n",
        "print(f'Training_Score = {Kn.score(x_train, y_train).round(2)}\\nTesting_score = {Kn.score(x_test, y_test).round(2)}')"
      ],
      "metadata": {
        "colab": {
          "base_uri": "https://localhost:8080/"
        },
        "collapsed": true,
        "id": "7RdI0BEcTzAG",
        "outputId": "f19bb63f-b5b3-4758-cbd7-21456ce71cf8"
      },
      "execution_count": 43,
      "outputs": [
        {
          "output_type": "stream",
          "name": "stdout",
          "text": [
            "Training_Score = 0.62\n",
            "Testing_score = 0.58\n"
          ]
        }
      ]
    },
    {
      "cell_type": "code",
      "source": [
        "# Calculating MSE, RMSE, and R2 for DTR\n",
        "\n",
        "# calculating the mean squared error\n",
        "\n",
        "print(f'MSE  = {mean_squared_error(y_test, kn_pred).round(2)}')\n",
        "\n",
        "# Calculating the root mean squared error using sqrt\n",
        " \n",
        "print(f'RMSE = {np.sqrt(mean_squared_error(y_test, kn_pred)).round(2)}')\n",
        "\n",
        "# Calculating the r2 score using R2\n",
        "\n",
        "print(f'R2   = {r2_score(y_test, kn_pred).round(2)}')"
      ],
      "metadata": {
        "colab": {
          "base_uri": "https://localhost:8080/"
        },
        "id": "HBG7u8xxT7_J",
        "outputId": "0e4a3811-04a7-4668-9571-9d545455f8cf"
      },
      "execution_count": 44,
      "outputs": [
        {
          "output_type": "stream",
          "name": "stdout",
          "text": [
            "MSE  = 1210897.93\n",
            "RMSE = 1100.41\n",
            "R2   = 0.58\n"
          ]
        }
      ]
    },
    {
      "cell_type": "markdown",
      "source": [
        "#### From **KNeighborsRegressor**\n",
        "\n",
        "* The R2 value is **58%** , the model able to explain only 58% of the variance in the outcome variable.\n",
        "\n",
        "* The trainig and testing score is < training score.\n",
        "\n",
        "* The RMSE Value is very **large** anďit's < than **LR, DTR, ADR**.\n",
        "\n",
        "* The **KNN model** can able to produce only **58% better results**."
      ],
      "metadata": {
        "id": "Z-Fv7jNgUYcn"
      }
    },
    {
      "cell_type": "code",
      "source": [
        "R2_value[(r2_score(y_test, kn_pred).round(2))] = 'KNeighborsRegressor'\n",
        "R2_value"
      ],
      "metadata": {
        "colab": {
          "base_uri": "https://localhost:8080/"
        },
        "collapsed": true,
        "id": "542LuPj-ZJXx",
        "outputId": "fb90f475-8242-4b18-ef9f-3975efeea3d4"
      },
      "execution_count": 45,
      "outputs": [
        {
          "output_type": "execute_result",
          "data": {
            "text/plain": [
              "{0.5: 'Linear_Regression',\n",
              " 0.18: 'DecisionTreeRegressor',\n",
              " 0.6: 'RandomForestRegressor',\n",
              " 0.49: 'AdaBoostRegressor',\n",
              " 0.58: 'KNeighborsRegressor'}"
            ]
          },
          "metadata": {},
          "execution_count": 45
        }
      ]
    },
    {
      "cell_type": "code",
      "source": [
        "R2_value = dict(sorted(R2_value.items()))\n",
        "R2_value"
      ],
      "metadata": {
        "colab": {
          "base_uri": "https://localhost:8080/"
        },
        "id": "N_cGgvX-YUjR",
        "outputId": "ea077954-a153-464f-a9fc-d0255f15d2ac"
      },
      "execution_count": 46,
      "outputs": [
        {
          "output_type": "execute_result",
          "data": {
            "text/plain": [
              "{0.18: 'DecisionTreeRegressor',\n",
              " 0.49: 'AdaBoostRegressor',\n",
              " 0.5: 'Linear_Regression',\n",
              " 0.58: 'KNeighborsRegressor',\n",
              " 0.6: 'RandomForestRegressor'}"
            ]
          },
          "metadata": {},
          "execution_count": 46
        }
      ]
    },
    {
      "cell_type": "code",
      "source": [
        "R2_value"
      ],
      "metadata": {
        "colab": {
          "base_uri": "https://localhost:8080/"
        },
        "id": "hGqSUpe-Y0hC",
        "outputId": "804ca135-8925-4338-9cbf-b9584b2e7b5b"
      },
      "execution_count": 47,
      "outputs": [
        {
          "output_type": "execute_result",
          "data": {
            "text/plain": [
              "{0.18: 'DecisionTreeRegressor',\n",
              " 0.49: 'AdaBoostRegressor',\n",
              " 0.5: 'Linear_Regression',\n",
              " 0.58: 'KNeighborsRegressor',\n",
              " 0.6: 'RandomForestRegressor'}"
            ]
          },
          "metadata": {},
          "execution_count": 47
        }
      ]
    },
    {
      "cell_type": "code",
      "source": [
        "names = list(R2_value.keys())\n",
        "values = list(R2_value.values())\n",
        "plt.figure(figsize = (15,6))\n",
        "plt.title('R2_MODEL')\n",
        "plt.bar(x = values, height = names, tick_label = values, color = colors)\n",
        "plt.xlabel('Model')\n",
        "plt.ylabel('R2')\n",
        "plt.show()"
      ],
      "metadata": {
        "colab": {
          "base_uri": "https://localhost:8080/",
          "height": 405
        },
        "id": "A-yGzQ_pXBSB",
        "outputId": "c7ec065f-6b71-4954-e423-88ac3161e8a4"
      },
      "execution_count": 48,
      "outputs": [
        {
          "output_type": "display_data",
          "data": {
            "text/plain": [
              "<Figure size 1080x432 with 1 Axes>"
            ],
            "image/png": "[encoded data removed]"
          },
          "metadata": {
            "needs_background": "light"
          }
        }
      ]
    },
    {
      "cell_type": "markdown",
      "source": [
        "# Conclusion\n",
        "\n",
        "* From this chart we can see the R2 values for 5 different model.\n",
        "* The model which gives goog result is RandomForestRegressor\n",
        "* The model which was built poor is DecicionTreeRegressor\n",
        "\n",
        "## Finally, RandomForestRegressor can be used to build the data to predict sales"
      ],
      "metadata": {
        "id": "MQ3M-tkUa7Nn"
      }
    },
    {
      "cell_type": "markdown",
      "source": [
        "# Test Data Subset"
      ],
      "metadata": {
        "id": "PTvYyIT_c9n5"
      }
    },
    {
      "cell_type": "code",
      "source": [
        "# Dropping Item_Identifier from the df_test\n",
        "\n",
        "df_test.drop('Item_Identifier', axis = 1, inplace = True)\n",
        "\n",
        "df_test.drop('Item_Outlet_Sales', axis = 1, inplace = True)"
      ],
      "metadata": {
        "id": "CVGSpa7zbw7U"
      },
      "execution_count": 49,
      "outputs": []
    },
    {
      "cell_type": "code",
      "source": [
        "# Converting Categorical column into numerical column using LabelEncoding for df_test\n",
        "\n",
        "oc = df_test.describe(include = 'object').columns\n",
        "\n",
        "for _ in oc:\n",
        "    df_test[_] = LabelEncoder().fit_transform(df_test[_])\n",
        "    print(f'{_} \\n{df_test[_].unique()}')"
      ],
      "metadata": {
        "colab": {
          "base_uri": "https://localhost:8080/"
        },
        "collapsed": true,
        "id": "11_k6ZGeb4E3",
        "outputId": "5f8c7706-21c8-4fd7-8ed1-ec4dfae7d3e4"
      },
      "execution_count": 50,
      "outputs": [
        {
          "output_type": "stream",
          "name": "stdout",
          "text": [
            "Item_Fat_Content \n",
            "[0 1]\n",
            "Item_Type \n",
            "[13  4 11  6  0  8  1  7 12 14  9  5 10  3 15  2]\n",
            "Outlet_Identifier \n",
            "[9 2 0 5 8 3 7 4 1 6]\n",
            "Outlet_Size \n",
            "[1 2 0]\n",
            "Outlet_Location_Type \n",
            "[0 1 2]\n",
            "Outlet_Type \n",
            "[1 0 3 2]\n"
          ]
        }
      ]
    },
    {
      "cell_type": "code",
      "source": [
        "df_test = df_test[['Item_MRP', 'Outlet_Identifier', 'Outlet_Type', 'Item_Visibility', 'Item_Fat_Content']]"
      ],
      "metadata": {
        "id": "SOK5SbjHcVGo"
      },
      "execution_count": 51,
      "outputs": []
    },
    {
      "cell_type": "code",
      "source": [
        "# Builading and Trainig the model for subset of test data\n",
        "\n",
        "Rf = RandomForestRegressor(n_estimators = 30, n_jobs = -1, max_depth = 5,random_state = 20, oob_score = True)\n",
        "\n",
        "Rf.fit(x_train, y_train)\n",
        "\n",
        "# Prediction\n",
        "\n",
        "rf_pred = Rf.predict(df_test)"
      ],
      "metadata": {
        "id": "HLSdn5UAWdzQ"
      },
      "execution_count": 52,
      "outputs": []
    },
    {
      "cell_type": "code",
      "source": [
        "# Predicted values of test data\n",
        "rf_pred"
      ],
      "metadata": {
        "colab": {
          "base_uri": "https://localhost:8080/"
        },
        "collapsed": true,
        "id": "kU4v8o2qc0Ca",
        "outputId": "d4fe91d4-0673-4f65-f3ca-2bf8f8a3573c"
      },
      "execution_count": 53,
      "outputs": [
        {
          "output_type": "execute_result",
          "data": {
            "text/plain": [
              "array([3923.29153147, 3923.29153147, 4257.55564145, ..., 3923.29153147,\n",
              "       3923.29153147, 3923.29153147])"
            ]
          },
          "metadata": {},
          "execution_count": 53
        }
      ]
    },
    {
      "cell_type": "code",
      "source": [],
      "metadata": {
        "id": "_YTSmbzFc1Gz"
      },
      "execution_count": 53,
      "outputs": []
    }
  ]
}